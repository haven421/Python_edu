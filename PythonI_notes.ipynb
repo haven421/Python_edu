{
 "cells": [
  {
   "cell_type": "markdown",
   "metadata": {},
   "source": [
    "**Python Lecture Notes**"
   ]
  },
  {
   "cell_type": "markdown",
   "metadata": {},
   "source": [
    "**Files**"
   ]
  },
  {
   "cell_type": "code",
   "execution_count": 1,
   "metadata": {},
   "outputs": [],
   "source": [
    "import csv"
   ]
  },
  {
   "cell_type": "code",
   "execution_count": 2,
   "metadata": {
    "collapsed": true
   },
   "outputs": [
    {
     "name": "stdout",
     "output_type": "stream",
     "text": [
      "['id', 'manufacturer', 'model', 'displ', 'year', 'cyl', 'trans', 'drv', 'cty', 'hwy', 'fl', 'class']\n",
      "['1', 'audi', 'a4', '1.8', '1999', '4', 'auto(l5)', 'f', '18', '29', 'p', 'compact']\n",
      "['2', 'audi', 'a4', '1.8', '1999', '4', 'manual(m5)', 'f', '21', '29', 'p', 'compact']\n",
      "['3', 'audi', 'a4', '2', '2008', '4', 'manual(m6)', 'f', '20', '31', 'p', 'compact']\n",
      "['4', 'audi', 'a4', '2', '2008', '4', 'auto(av)', 'f', '21', '30', 'p', 'compact']\n",
      "['5', 'audi', 'a4', '2.8', '1999', '6', 'auto(l5)', 'f', '16', '26', 'p', 'compact']\n",
      "['6', 'audi', 'a4', '2.8', '1999', '6', 'manual(m5)', 'f', '18', '26', 'p', 'compact']\n",
      "['7', 'audi', 'a4', '3.1', '2008', '6', 'auto(av)', 'f', '18', '27', 'p', 'compact']\n",
      "['8', 'audi', 'a4 quattro', '1.8', '1999', '4', 'manual(m5)', '4', '18', '26', 'p', 'compact']\n",
      "['9', 'audi', 'a4 quattro', '1.8', '1999', '4', 'auto(l5)', '4', '16', '25', 'p', 'compact']\n",
      "['10', 'audi', 'a4 quattro', '2', '2008', '4', 'manual(m6)', '4', '20', '28', 'p', 'compact']\n",
      "['11', 'audi', 'a4 quattro', '2', '2008', '4', 'auto(s6)', '4', '19', '27', 'p', 'compact']\n",
      "['12', 'audi', 'a4 quattro', '2.8', '1999', '6', 'auto(l5)', '4', '15', '25', 'p', 'compact']\n",
      "['13', 'audi', 'a4 quattro', '2.8', '1999', '6', 'manual(m5)', '4', '17', '25', 'p', 'compact']\n",
      "['14', 'audi', 'a4 quattro', '3.1', '2008', '6', 'auto(s6)', '4', '17', '25', 'p', 'compact']\n",
      "['15', 'audi', 'a4 quattro', '3.1', '2008', '6', 'manual(m6)', '4', '15', '25', 'p', 'compact']\n",
      "['16', 'audi', 'a6 quattro', '2.8', '1999', '6', 'auto(l5)', '4', '15', '24', 'p', 'midsize']\n",
      "['17', 'audi', 'a6 quattro', '3.1', '2008', '6', 'auto(s6)', '4', '17', '25', 'p', 'midsize']\n",
      "['18', 'audi', 'a6 quattro', '4.2', '2008', '8', 'auto(s6)', '4', '16', '23', 'p', 'midsize']\n",
      "['19', 'chevrolet', 'c1500 suburban 2wd', '5.3', '2008', '8', 'auto(l4)', 'r', '14', '20', 'r', 'suv']\n",
      "['20', 'chevrolet', 'c1500 suburban 2wd', '5.3', '2008', '8', 'auto(l4)', 'r', '11', '15', 'e', 'suv']\n",
      "['21', 'chevrolet', 'c1500 suburban 2wd', '5.3', '2008', '8', 'auto(l4)', 'r', '14', '20', 'r', 'suv']\n",
      "['22', 'chevrolet', 'c1500 suburban 2wd', '5.7', '1999', '8', 'auto(l4)', 'r', '13', '17', 'r', 'suv']\n",
      "['23', 'chevrolet', 'c1500 suburban 2wd', '6', '2008', '8', 'auto(l4)', 'r', '12', '17', 'r', 'suv']\n",
      "['24', 'chevrolet', 'corvette', '5.7', '1999', '8', 'manual(m6)', 'r', '16', '26', 'p', '2seater']\n",
      "['25', 'chevrolet', 'corvette', '5.7', '1999', '8', 'auto(l4)', 'r', '15', '23', 'p', '2seater']\n",
      "['26', 'chevrolet', 'corvette', '6.2', '2008', '8', 'manual(m6)', 'r', '16', '26', 'p', '2seater']\n",
      "['27', 'chevrolet', 'corvette', '6.2', '2008', '8', 'auto(s6)', 'r', '15', '25', 'p', '2seater']\n",
      "['28', 'chevrolet', 'corvette', '7', '2008', '8', 'manual(m6)', 'r', '15', '24', 'p', '2seater']\n",
      "['29', 'chevrolet', 'k1500 tahoe 4wd', '5.3', '2008', '8', 'auto(l4)', '4', '14', '19', 'r', 'suv']\n",
      "['30', 'chevrolet', 'k1500 tahoe 4wd', '5.3', '2008', '8', 'auto(l4)', '4', '11', '14', 'e', 'suv']\n",
      "['31', 'chevrolet', 'k1500 tahoe 4wd', '5.7', '1999', '8', 'auto(l4)', '4', '11', '15', 'r', 'suv']\n",
      "['32', 'chevrolet', 'k1500 tahoe 4wd', '6.5', '1999', '8', 'auto(l4)', '4', '14', '17', 'd', 'suv']\n",
      "['33', 'chevrolet', 'malibu', '2.4', '1999', '4', 'auto(l4)', 'f', '19', '27', 'r', 'midsize']\n",
      "['34', 'chevrolet', 'malibu', '2.4', '2008', '4', 'auto(l4)', 'f', '22', '30', 'r', 'midsize']\n",
      "['35', 'chevrolet', 'malibu', '3.1', '1999', '6', 'auto(l4)', 'f', '18', '26', 'r', 'midsize']\n",
      "['36', 'chevrolet', 'malibu', '3.5', '2008', '6', 'auto(l4)', 'f', '18', '29', 'r', 'midsize']\n",
      "['37', 'chevrolet', 'malibu', '3.6', '2008', '6', 'auto(s6)', 'f', '17', '26', 'r', 'midsize']\n",
      "['38', 'dodge', 'caravan 2wd', '2.4', '1999', '4', 'auto(l3)', 'f', '18', '24', 'r', 'minivan']\n",
      "['39', 'dodge', 'caravan 2wd', '3', '1999', '6', 'auto(l4)', 'f', '17', '24', 'r', 'minivan']\n",
      "['40', 'dodge', 'caravan 2wd', '3.3', '1999', '6', 'auto(l4)', 'f', '16', '22', 'r', 'minivan']\n",
      "['41', 'dodge', 'caravan 2wd', '3.3', '1999', '6', 'auto(l4)', 'f', '16', '22', 'r', 'minivan']\n",
      "['42', 'dodge', 'caravan 2wd', '3.3', '2008', '6', 'auto(l4)', 'f', '17', '24', 'r', 'minivan']\n",
      "['43', 'dodge', 'caravan 2wd', '3.3', '2008', '6', 'auto(l4)', 'f', '17', '24', 'r', 'minivan']\n",
      "['44', 'dodge', 'caravan 2wd', '3.3', '2008', '6', 'auto(l4)', 'f', '11', '17', 'e', 'minivan']\n",
      "['45', 'dodge', 'caravan 2wd', '3.8', '1999', '6', 'auto(l4)', 'f', '15', '22', 'r', 'minivan']\n",
      "['46', 'dodge', 'caravan 2wd', '3.8', '1999', '6', 'auto(l4)', 'f', '15', '21', 'r', 'minivan']\n",
      "['47', 'dodge', 'caravan 2wd', '3.8', '2008', '6', 'auto(l6)', 'f', '16', '23', 'r', 'minivan']\n",
      "['48', 'dodge', 'caravan 2wd', '4', '2008', '6', 'auto(l6)', 'f', '16', '23', 'r', 'minivan']\n",
      "['49', 'dodge', 'dakota pickup 4wd', '3.7', '2008', '6', 'manual(m6)', '4', '15', '19', 'r', 'pickup']\n",
      "['50', 'dodge', 'dakota pickup 4wd', '3.7', '2008', '6', 'auto(l4)', '4', '14', '18', 'r', 'pickup']\n",
      "['51', 'dodge', 'dakota pickup 4wd', '3.9', '1999', '6', 'auto(l4)', '4', '13', '17', 'r', 'pickup']\n",
      "['52', 'dodge', 'dakota pickup 4wd', '3.9', '1999', '6', 'manual(m5)', '4', '14', '17', 'r', 'pickup']\n",
      "['53', 'dodge', 'dakota pickup 4wd', '4.7', '2008', '8', 'auto(l5)', '4', '14', '19', 'r', 'pickup']\n",
      "['54', 'dodge', 'dakota pickup 4wd', '4.7', '2008', '8', 'auto(l5)', '4', '14', '19', 'r', 'pickup']\n",
      "['55', 'dodge', 'dakota pickup 4wd', '4.7', '2008', '8', 'auto(l5)', '4', '9', '12', 'e', 'pickup']\n",
      "['56', 'dodge', 'dakota pickup 4wd', '5.2', '1999', '8', 'manual(m5)', '4', '11', '17', 'r', 'pickup']\n",
      "['57', 'dodge', 'dakota pickup 4wd', '5.2', '1999', '8', 'auto(l4)', '4', '11', '15', 'r', 'pickup']\n",
      "['58', 'dodge', 'durango 4wd', '3.9', '1999', '6', 'auto(l4)', '4', '13', '17', 'r', 'suv']\n",
      "['59', 'dodge', 'durango 4wd', '4.7', '2008', '8', 'auto(l5)', '4', '13', '17', 'r', 'suv']\n",
      "['60', 'dodge', 'durango 4wd', '4.7', '2008', '8', 'auto(l5)', '4', '9', '12', 'e', 'suv']\n",
      "['61', 'dodge', 'durango 4wd', '4.7', '2008', '8', 'auto(l5)', '4', '13', '17', 'r', 'suv']\n",
      "['62', 'dodge', 'durango 4wd', '5.2', '1999', '8', 'auto(l4)', '4', '11', '16', 'r', 'suv']\n",
      "['63', 'dodge', 'durango 4wd', '5.7', '2008', '8', 'auto(l5)', '4', '13', '18', 'r', 'suv']\n",
      "['64', 'dodge', 'durango 4wd', '5.9', '1999', '8', 'auto(l4)', '4', '11', '15', 'r', 'suv']\n",
      "['65', 'dodge', 'ram 1500 pickup 4wd', '4.7', '2008', '8', 'manual(m6)', '4', '12', '16', 'r', 'pickup']\n",
      "['66', 'dodge', 'ram 1500 pickup 4wd', '4.7', '2008', '8', 'auto(l5)', '4', '9', '12', 'e', 'pickup']\n",
      "['67', 'dodge', 'ram 1500 pickup 4wd', '4.7', '2008', '8', 'auto(l5)', '4', '13', '17', 'r', 'pickup']\n",
      "['68', 'dodge', 'ram 1500 pickup 4wd', '4.7', '2008', '8', 'auto(l5)', '4', '13', '17', 'r', 'pickup']\n",
      "['69', 'dodge', 'ram 1500 pickup 4wd', '4.7', '2008', '8', 'manual(m6)', '4', '12', '16', 'r', 'pickup']\n",
      "['70', 'dodge', 'ram 1500 pickup 4wd', '4.7', '2008', '8', 'manual(m6)', '4', '9', '12', 'e', 'pickup']\n",
      "['71', 'dodge', 'ram 1500 pickup 4wd', '5.2', '1999', '8', 'auto(l4)', '4', '11', '15', 'r', 'pickup']\n",
      "['72', 'dodge', 'ram 1500 pickup 4wd', '5.2', '1999', '8', 'manual(m5)', '4', '11', '16', 'r', 'pickup']\n",
      "['73', 'dodge', 'ram 1500 pickup 4wd', '5.7', '2008', '8', 'auto(l5)', '4', '13', '17', 'r', 'pickup']\n",
      "['74', 'dodge', 'ram 1500 pickup 4wd', '5.9', '1999', '8', 'auto(l4)', '4', '11', '15', 'r', 'pickup']\n",
      "['75', 'ford', 'expedition 2wd', '4.6', '1999', '8', 'auto(l4)', 'r', '11', '17', 'r', 'suv']\n",
      "['76', 'ford', 'expedition 2wd', '5.4', '1999', '8', 'auto(l4)', 'r', '11', '17', 'r', 'suv']\n",
      "['77', 'ford', 'expedition 2wd', '5.4', '2008', '8', 'auto(l6)', 'r', '12', '18', 'r', 'suv']\n",
      "['78', 'ford', 'explorer 4wd', '4', '1999', '6', 'auto(l5)', '4', '14', '17', 'r', 'suv']\n",
      "['79', 'ford', 'explorer 4wd', '4', '1999', '6', 'manual(m5)', '4', '15', '19', 'r', 'suv']\n",
      "['80', 'ford', 'explorer 4wd', '4', '1999', '6', 'auto(l5)', '4', '14', '17', 'r', 'suv']\n",
      "['81', 'ford', 'explorer 4wd', '4', '2008', '6', 'auto(l5)', '4', '13', '19', 'r', 'suv']\n",
      "['82', 'ford', 'explorer 4wd', '4.6', '2008', '8', 'auto(l6)', '4', '13', '19', 'r', 'suv']\n",
      "['83', 'ford', 'explorer 4wd', '5', '1999', '8', 'auto(l4)', '4', '13', '17', 'r', 'suv']\n",
      "['84', 'ford', 'f150 pickup 4wd', '4.2', '1999', '6', 'auto(l4)', '4', '14', '17', 'r', 'pickup']\n",
      "['85', 'ford', 'f150 pickup 4wd', '4.2', '1999', '6', 'manual(m5)', '4', '14', '17', 'r', 'pickup']\n",
      "['86', 'ford', 'f150 pickup 4wd', '4.6', '1999', '8', 'manual(m5)', '4', '13', '16', 'r', 'pickup']\n",
      "['87', 'ford', 'f150 pickup 4wd', '4.6', '1999', '8', 'auto(l4)', '4', '13', '16', 'r', 'pickup']\n",
      "['88', 'ford', 'f150 pickup 4wd', '4.6', '2008', '8', 'auto(l4)', '4', '13', '17', 'r', 'pickup']\n",
      "['89', 'ford', 'f150 pickup 4wd', '5.4', '1999', '8', 'auto(l4)', '4', '11', '15', 'r', 'pickup']\n",
      "['90', 'ford', 'f150 pickup 4wd', '5.4', '2008', '8', 'auto(l4)', '4', '13', '17', 'r', 'pickup']\n",
      "['91', 'ford', 'mustang', '3.8', '1999', '6', 'manual(m5)', 'r', '18', '26', 'r', 'subcompact']\n",
      "['92', 'ford', 'mustang', '3.8', '1999', '6', 'auto(l4)', 'r', '18', '25', 'r', 'subcompact']\n",
      "['93', 'ford', 'mustang', '4', '2008', '6', 'manual(m5)', 'r', '17', '26', 'r', 'subcompact']\n",
      "['94', 'ford', 'mustang', '4', '2008', '6', 'auto(l5)', 'r', '16', '24', 'r', 'subcompact']\n",
      "['95', 'ford', 'mustang', '4.6', '1999', '8', 'auto(l4)', 'r', '15', '21', 'r', 'subcompact']\n",
      "['96', 'ford', 'mustang', '4.6', '1999', '8', 'manual(m5)', 'r', '15', '22', 'r', 'subcompact']\n",
      "['97', 'ford', 'mustang', '4.6', '2008', '8', 'manual(m5)', 'r', '15', '23', 'r', 'subcompact']\n",
      "['98', 'ford', 'mustang', '4.6', '2008', '8', 'auto(l5)', 'r', '15', '22', 'r', 'subcompact']\n",
      "['99', 'ford', 'mustang', '5.4', '2008', '8', 'manual(m6)', 'r', '14', '20', 'p', 'subcompact']\n",
      "['100', 'honda', 'civic', '1.6', '1999', '4', 'manual(m5)', 'f', '28', '33', 'r', 'subcompact']\n",
      "['101', 'honda', 'civic', '1.6', '1999', '4', 'auto(l4)', 'f', '24', '32', 'r', 'subcompact']\n",
      "['102', 'honda', 'civic', '1.6', '1999', '4', 'manual(m5)', 'f', '25', '32', 'r', 'subcompact']\n",
      "['103', 'honda', 'civic', '1.6', '1999', '4', 'manual(m5)', 'f', '23', '29', 'p', 'subcompact']\n",
      "['104', 'honda', 'civic', '1.6', '1999', '4', 'auto(l4)', 'f', '24', '32', 'r', 'subcompact']\n",
      "['105', 'honda', 'civic', '1.8', '2008', '4', 'manual(m5)', 'f', '26', '34', 'r', 'subcompact']\n",
      "['106', 'honda', 'civic', '1.8', '2008', '4', 'auto(l5)', 'f', '25', '36', 'r', 'subcompact']\n",
      "['107', 'honda', 'civic', '1.8', '2008', '4', 'auto(l5)', 'f', '24', '36', 'c', 'subcompact']\n",
      "['108', 'honda', 'civic', '2', '2008', '4', 'manual(m6)', 'f', '21', '29', 'p', 'subcompact']\n",
      "['109', 'hyundai', 'sonata', '2.4', '1999', '4', 'auto(l4)', 'f', '18', '26', 'r', 'midsize']\n",
      "['110', 'hyundai', 'sonata', '2.4', '1999', '4', 'manual(m5)', 'f', '18', '27', 'r', 'midsize']\n",
      "['111', 'hyundai', 'sonata', '2.4', '2008', '4', 'auto(l4)', 'f', '21', '30', 'r', 'midsize']\n",
      "['112', 'hyundai', 'sonata', '2.4', '2008', '4', 'manual(m5)', 'f', '21', '31', 'r', 'midsize']\n",
      "['113', 'hyundai', 'sonata', '2.5', '1999', '6', 'auto(l4)', 'f', '18', '26', 'r', 'midsize']\n",
      "['114', 'hyundai', 'sonata', '2.5', '1999', '6', 'manual(m5)', 'f', '18', '26', 'r', 'midsize']\n",
      "['115', 'hyundai', 'sonata', '3.3', '2008', '6', 'auto(l5)', 'f', '19', '28', 'r', 'midsize']\n",
      "['116', 'hyundai', 'tiburon', '2', '1999', '4', 'auto(l4)', 'f', '19', '26', 'r', 'subcompact']\n",
      "['117', 'hyundai', 'tiburon', '2', '1999', '4', 'manual(m5)', 'f', '19', '29', 'r', 'subcompact']\n",
      "['118', 'hyundai', 'tiburon', '2', '2008', '4', 'manual(m5)', 'f', '20', '28', 'r', 'subcompact']\n",
      "['119', 'hyundai', 'tiburon', '2', '2008', '4', 'auto(l4)', 'f', '20', '27', 'r', 'subcompact']\n",
      "['120', 'hyundai', 'tiburon', '2.7', '2008', '6', 'auto(l4)', 'f', '17', '24', 'r', 'subcompact']\n",
      "['121', 'hyundai', 'tiburon', '2.7', '2008', '6', 'manual(m6)', 'f', '16', '24', 'r', 'subcompact']\n",
      "['122', 'hyundai', 'tiburon', '2.7', '2008', '6', 'manual(m5)', 'f', '17', '24', 'r', 'subcompact']\n",
      "['123', 'jeep', 'grand cherokee 4wd', '3', '2008', '6', 'auto(l5)', '4', '17', '22', 'd', 'suv']\n",
      "['124', 'jeep', 'grand cherokee 4wd', '3.7', '2008', '6', 'auto(l5)', '4', '15', '19', 'r', 'suv']\n",
      "['125', 'jeep', 'grand cherokee 4wd', '4', '1999', '6', 'auto(l4)', '4', '15', '20', 'r', 'suv']\n",
      "['126', 'jeep', 'grand cherokee 4wd', '4.7', '1999', '8', 'auto(l4)', '4', '14', '17', 'r', 'suv']\n",
      "['127', 'jeep', 'grand cherokee 4wd', '4.7', '2008', '8', 'auto(l5)', '4', '9', '12', 'e', 'suv']\n",
      "['128', 'jeep', 'grand cherokee 4wd', '4.7', '2008', '8', 'auto(l5)', '4', '14', '19', 'r', 'suv']\n",
      "['129', 'jeep', 'grand cherokee 4wd', '5.7', '2008', '8', 'auto(l5)', '4', '13', '18', 'r', 'suv']\n",
      "['130', 'jeep', 'grand cherokee 4wd', '6.1', '2008', '8', 'auto(l5)', '4', '11', '14', 'p', 'suv']\n",
      "['131', 'land rover', 'range rover', '4', '1999', '8', 'auto(l4)', '4', '11', '15', 'p', 'suv']\n",
      "['132', 'land rover', 'range rover', '4.2', '2008', '8', 'auto(s6)', '4', '12', '18', 'r', 'suv']\n",
      "['133', 'land rover', 'range rover', '4.4', '2008', '8', 'auto(s6)', '4', '12', '18', 'r', 'suv']\n",
      "['134', 'land rover', 'range rover', '4.6', '1999', '8', 'auto(l4)', '4', '11', '15', 'p', 'suv']\n",
      "['135', 'lincoln', 'navigator 2wd', '5.4', '1999', '8', 'auto(l4)', 'r', '11', '17', 'r', 'suv']\n",
      "['136', 'lincoln', 'navigator 2wd', '5.4', '1999', '8', 'auto(l4)', 'r', '11', '16', 'p', 'suv']\n",
      "['137', 'lincoln', 'navigator 2wd', '5.4', '2008', '8', 'auto(l6)', 'r', '12', '18', 'r', 'suv']\n",
      "['138', 'mercury', 'mountaineer 4wd', '4', '1999', '6', 'auto(l5)', '4', '14', '17', 'r', 'suv']\n",
      "['139', 'mercury', 'mountaineer 4wd', '4', '2008', '6', 'auto(l5)', '4', '13', '19', 'r', 'suv']\n",
      "['140', 'mercury', 'mountaineer 4wd', '4.6', '2008', '8', 'auto(l6)', '4', '13', '19', 'r', 'suv']\n",
      "['141', 'mercury', 'mountaineer 4wd', '5', '1999', '8', 'auto(l4)', '4', '13', '17', 'r', 'suv']\n",
      "['142', 'nissan', 'altima', '2.4', '1999', '4', 'manual(m5)', 'f', '21', '29', 'r', 'compact']\n",
      "['143', 'nissan', 'altima', '2.4', '1999', '4', 'auto(l4)', 'f', '19', '27', 'r', 'compact']\n",
      "['144', 'nissan', 'altima', '2.5', '2008', '4', 'auto(av)', 'f', '23', '31', 'r', 'midsize']\n",
      "['145', 'nissan', 'altima', '2.5', '2008', '4', 'manual(m6)', 'f', '23', '32', 'r', 'midsize']\n",
      "['146', 'nissan', 'altima', '3.5', '2008', '6', 'manual(m6)', 'f', '19', '27', 'p', 'midsize']\n",
      "['147', 'nissan', 'altima', '3.5', '2008', '6', 'auto(av)', 'f', '19', '26', 'p', 'midsize']\n",
      "['148', 'nissan', 'maxima', '3', '1999', '6', 'auto(l4)', 'f', '18', '26', 'r', 'midsize']\n",
      "['149', 'nissan', 'maxima', '3', '1999', '6', 'manual(m5)', 'f', '19', '25', 'r', 'midsize']\n",
      "['150', 'nissan', 'maxima', '3.5', '2008', '6', 'auto(av)', 'f', '19', '25', 'p', 'midsize']\n",
      "['151', 'nissan', 'pathfinder 4wd', '3.3', '1999', '6', 'auto(l4)', '4', '14', '17', 'r', 'suv']\n",
      "['152', 'nissan', 'pathfinder 4wd', '3.3', '1999', '6', 'manual(m5)', '4', '15', '17', 'r', 'suv']\n",
      "['153', 'nissan', 'pathfinder 4wd', '4', '2008', '6', 'auto(l5)', '4', '14', '20', 'p', 'suv']\n",
      "['154', 'nissan', 'pathfinder 4wd', '5.6', '2008', '8', 'auto(s5)', '4', '12', '18', 'p', 'suv']\n",
      "['155', 'pontiac', 'grand prix', '3.1', '1999', '6', 'auto(l4)', 'f', '18', '26', 'r', 'midsize']\n",
      "['156', 'pontiac', 'grand prix', '3.8', '1999', '6', 'auto(l4)', 'f', '16', '26', 'p', 'midsize']\n",
      "['157', 'pontiac', 'grand prix', '3.8', '1999', '6', 'auto(l4)', 'f', '17', '27', 'r', 'midsize']\n",
      "['158', 'pontiac', 'grand prix', '3.8', '2008', '6', 'auto(l4)', 'f', '18', '28', 'r', 'midsize']\n",
      "['159', 'pontiac', 'grand prix', '5.3', '2008', '8', 'auto(s4)', 'f', '16', '25', 'p', 'midsize']\n",
      "['160', 'subaru', 'forester awd', '2.5', '1999', '4', 'manual(m5)', '4', '18', '25', 'r', 'suv']\n",
      "['161', 'subaru', 'forester awd', '2.5', '1999', '4', 'auto(l4)', '4', '18', '24', 'r', 'suv']\n",
      "['162', 'subaru', 'forester awd', '2.5', '2008', '4', 'manual(m5)', '4', '20', '27', 'r', 'suv']\n",
      "['163', 'subaru', 'forester awd', '2.5', '2008', '4', 'manual(m5)', '4', '19', '25', 'p', 'suv']\n",
      "['164', 'subaru', 'forester awd', '2.5', '2008', '4', 'auto(l4)', '4', '20', '26', 'r', 'suv']\n",
      "['165', 'subaru', 'forester awd', '2.5', '2008', '4', 'auto(l4)', '4', '18', '23', 'p', 'suv']\n",
      "['166', 'subaru', 'impreza awd', '2.2', '1999', '4', 'auto(l4)', '4', '21', '26', 'r', 'subcompact']\n",
      "['167', 'subaru', 'impreza awd', '2.2', '1999', '4', 'manual(m5)', '4', '19', '26', 'r', 'subcompact']\n",
      "['168', 'subaru', 'impreza awd', '2.5', '1999', '4', 'manual(m5)', '4', '19', '26', 'r', 'subcompact']\n",
      "['169', 'subaru', 'impreza awd', '2.5', '1999', '4', 'auto(l4)', '4', '19', '26', 'r', 'subcompact']\n",
      "['170', 'subaru', 'impreza awd', '2.5', '2008', '4', 'auto(s4)', '4', '20', '25', 'p', 'compact']\n",
      "['171', 'subaru', 'impreza awd', '2.5', '2008', '4', 'auto(s4)', '4', '20', '27', 'r', 'compact']\n",
      "['172', 'subaru', 'impreza awd', '2.5', '2008', '4', 'manual(m5)', '4', '19', '25', 'p', 'compact']\n",
      "['173', 'subaru', 'impreza awd', '2.5', '2008', '4', 'manual(m5)', '4', '20', '27', 'r', 'compact']\n",
      "['174', 'toyota', '4runner 4wd', '2.7', '1999', '4', 'manual(m5)', '4', '15', '20', 'r', 'suv']\n",
      "['175', 'toyota', '4runner 4wd', '2.7', '1999', '4', 'auto(l4)', '4', '16', '20', 'r', 'suv']\n",
      "['176', 'toyota', '4runner 4wd', '3.4', '1999', '6', 'auto(l4)', '4', '15', '19', 'r', 'suv']\n",
      "['177', 'toyota', '4runner 4wd', '3.4', '1999', '6', 'manual(m5)', '4', '15', '17', 'r', 'suv']\n",
      "['178', 'toyota', '4runner 4wd', '4', '2008', '6', 'auto(l5)', '4', '16', '20', 'r', 'suv']\n",
      "['179', 'toyota', '4runner 4wd', '4.7', '2008', '8', 'auto(l5)', '4', '14', '17', 'r', 'suv']\n",
      "['180', 'toyota', 'camry', '2.2', '1999', '4', 'manual(m5)', 'f', '21', '29', 'r', 'midsize']\n",
      "['181', 'toyota', 'camry', '2.2', '1999', '4', 'auto(l4)', 'f', '21', '27', 'r', 'midsize']\n",
      "['182', 'toyota', 'camry', '2.4', '2008', '4', 'manual(m5)', 'f', '21', '31', 'r', 'midsize']\n",
      "['183', 'toyota', 'camry', '2.4', '2008', '4', 'auto(l5)', 'f', '21', '31', 'r', 'midsize']\n",
      "['184', 'toyota', 'camry', '3', '1999', '6', 'auto(l4)', 'f', '18', '26', 'r', 'midsize']\n",
      "['185', 'toyota', 'camry', '3', '1999', '6', 'manual(m5)', 'f', '18', '26', 'r', 'midsize']\n",
      "['186', 'toyota', 'camry', '3.5', '2008', '6', 'auto(s6)', 'f', '19', '28', 'r', 'midsize']\n",
      "['187', 'toyota', 'camry solara', '2.2', '1999', '4', 'auto(l4)', 'f', '21', '27', 'r', 'compact']\n",
      "['188', 'toyota', 'camry solara', '2.2', '1999', '4', 'manual(m5)', 'f', '21', '29', 'r', 'compact']\n",
      "['189', 'toyota', 'camry solara', '2.4', '2008', '4', 'manual(m5)', 'f', '21', '31', 'r', 'compact']\n",
      "['190', 'toyota', 'camry solara', '2.4', '2008', '4', 'auto(s5)', 'f', '22', '31', 'r', 'compact']\n",
      "['191', 'toyota', 'camry solara', '3', '1999', '6', 'auto(l4)', 'f', '18', '26', 'r', 'compact']\n",
      "['192', 'toyota', 'camry solara', '3', '1999', '6', 'manual(m5)', 'f', '18', '26', 'r', 'compact']\n",
      "['193', 'toyota', 'camry solara', '3.3', '2008', '6', 'auto(s5)', 'f', '18', '27', 'r', 'compact']\n",
      "['194', 'toyota', 'corolla', '1.8', '1999', '4', 'auto(l3)', 'f', '24', '30', 'r', 'compact']\n",
      "['195', 'toyota', 'corolla', '1.8', '1999', '4', 'auto(l4)', 'f', '24', '33', 'r', 'compact']\n",
      "['196', 'toyota', 'corolla', '1.8', '1999', '4', 'manual(m5)', 'f', '26', '35', 'r', 'compact']\n",
      "['197', 'toyota', 'corolla', '1.8', '2008', '4', 'manual(m5)', 'f', '28', '37', 'r', 'compact']\n",
      "['198', 'toyota', 'corolla', '1.8', '2008', '4', 'auto(l4)', 'f', '26', '35', 'r', 'compact']\n",
      "['199', 'toyota', 'land cruiser wagon 4wd', '4.7', '1999', '8', 'auto(l4)', '4', '11', '15', 'r', 'suv']\n",
      "['200', 'toyota', 'land cruiser wagon 4wd', '5.7', '2008', '8', 'auto(s6)', '4', '13', '18', 'r', 'suv']\n",
      "['201', 'toyota', 'toyota tacoma 4wd', '2.7', '1999', '4', 'manual(m5)', '4', '15', '20', 'r', 'pickup']\n",
      "['202', 'toyota', 'toyota tacoma 4wd', '2.7', '1999', '4', 'auto(l4)', '4', '16', '20', 'r', 'pickup']\n",
      "['203', 'toyota', 'toyota tacoma 4wd', '2.7', '2008', '4', 'manual(m5)', '4', '17', '22', 'r', 'pickup']\n",
      "['204', 'toyota', 'toyota tacoma 4wd', '3.4', '1999', '6', 'manual(m5)', '4', '15', '17', 'r', 'pickup']\n",
      "['205', 'toyota', 'toyota tacoma 4wd', '3.4', '1999', '6', 'auto(l4)', '4', '15', '19', 'r', 'pickup']\n",
      "['206', 'toyota', 'toyota tacoma 4wd', '4', '2008', '6', 'manual(m6)', '4', '15', '18', 'r', 'pickup']\n",
      "['207', 'toyota', 'toyota tacoma 4wd', '4', '2008', '6', 'auto(l5)', '4', '16', '20', 'r', 'pickup']\n",
      "['208', 'volkswagen', 'gti', '2', '1999', '4', 'manual(m5)', 'f', '21', '29', 'r', 'compact']\n",
      "['209', 'volkswagen', 'gti', '2', '1999', '4', 'auto(l4)', 'f', '19', '26', 'r', 'compact']\n",
      "['210', 'volkswagen', 'gti', '2', '2008', '4', 'manual(m6)', 'f', '21', '29', 'p', 'compact']\n",
      "['211', 'volkswagen', 'gti', '2', '2008', '4', 'auto(s6)', 'f', '22', '29', 'p', 'compact']\n",
      "['212', 'volkswagen', 'gti', '2.8', '1999', '6', 'manual(m5)', 'f', '17', '24', 'r', 'compact']\n",
      "['213', 'volkswagen', 'jetta', '1.9', '1999', '4', 'manual(m5)', 'f', '33', '44', 'd', 'compact']\n",
      "['214', 'volkswagen', 'jetta', '2', '1999', '4', 'manual(m5)', 'f', '21', '29', 'r', 'compact']\n",
      "['215', 'volkswagen', 'jetta', '2', '1999', '4', 'auto(l4)', 'f', '19', '26', 'r', 'compact']\n",
      "['216', 'volkswagen', 'jetta', '2', '2008', '4', 'auto(s6)', 'f', '22', '29', 'p', 'compact']\n",
      "['217', 'volkswagen', 'jetta', '2', '2008', '4', 'manual(m6)', 'f', '21', '29', 'p', 'compact']\n",
      "['218', 'volkswagen', 'jetta', '2.5', '2008', '5', 'auto(s6)', 'f', '21', '29', 'r', 'compact']\n",
      "['219', 'volkswagen', 'jetta', '2.5', '2008', '5', 'manual(m5)', 'f', '21', '29', 'r', 'compact']\n",
      "['220', 'volkswagen', 'jetta', '2.8', '1999', '6', 'auto(l4)', 'f', '16', '23', 'r', 'compact']\n",
      "['221', 'volkswagen', 'jetta', '2.8', '1999', '6', 'manual(m5)', 'f', '17', '24', 'r', 'compact']\n",
      "['222', 'volkswagen', 'new beetle', '1.9', '1999', '4', 'manual(m5)', 'f', '35', '44', 'd', 'subcompact']\n",
      "['223', 'volkswagen', 'new beetle', '1.9', '1999', '4', 'auto(l4)', 'f', '29', '41', 'd', 'subcompact']\n",
      "['224', 'volkswagen', 'new beetle', '2', '1999', '4', 'manual(m5)', 'f', '21', '29', 'r', 'subcompact']\n",
      "['225', 'volkswagen', 'new beetle', '2', '1999', '4', 'auto(l4)', 'f', '19', '26', 'r', 'subcompact']\n",
      "['226', 'volkswagen', 'new beetle', '2.5', '2008', '5', 'manual(m5)', 'f', '20', '28', 'r', 'subcompact']\n",
      "['227', 'volkswagen', 'new beetle', '2.5', '2008', '5', 'auto(s6)', 'f', '20', '29', 'r', 'subcompact']\n",
      "['228', 'volkswagen', 'passat', '1.8', '1999', '4', 'manual(m5)', 'f', '21', '29', 'p', 'midsize']\n",
      "['229', 'volkswagen', 'passat', '1.8', '1999', '4', 'auto(l5)', 'f', '18', '29', 'p', 'midsize']\n",
      "['230', 'volkswagen', 'passat', '2', '2008', '4', 'auto(s6)', 'f', '19', '28', 'p', 'midsize']\n",
      "['231', 'volkswagen', 'passat', '2', '2008', '4', 'manual(m6)', 'f', '21', '29', 'p', 'midsize']\n",
      "['232', 'volkswagen', 'passat', '2.8', '1999', '6', 'auto(l5)', 'f', '16', '26', 'p', 'midsize']\n",
      "['233', 'volkswagen', 'passat', '2.8', '1999', '6', 'manual(m5)', 'f', '18', '26', 'p', 'midsize']\n",
      "['234', 'volkswagen', 'passat', '3.6', '2008', '6', 'auto(s6)', 'f', '17', '26', 'p', 'midsize']\n"
     ]
    }
   ],
   "source": [
    "with open('mpg.csv') as file:\n",
    "    csv.reader(file)\n",
    "    mpgreader = csv.reader(file)\n",
    "    \n",
    "    for row in mpgreader:\n",
    "        print(row)"
   ]
  },
  {
   "cell_type": "markdown",
   "metadata": {},
   "source": [
    "**Control Structures**"
   ]
  },
  {
   "cell_type": "code",
   "execution_count": null,
   "metadata": {},
   "outputs": [],
   "source": [
    "# create file\n",
    "\n",
    "students = ['Jen', 'Craig', 'Rob', 'Boo', 'Thib']\n",
    "file = open('outfile.txt', 'w') # w means write\n",
    "file.write('Here is a list of names:\\n')\n",
    "\n",
    "for s in students:\n",
    "    file.write(s + '\\n')\n",
    "\n",
    "file.close()"
   ]
  },
  {
   "cell_type": "code",
   "execution_count": 3,
   "metadata": {},
   "outputs": [],
   "source": [
    "# append file\n",
    "\n",
    "morestudents = ['Sonya', 'Melissa', 'Megan']\n",
    "file = open('outfile.txt', 'a')\n",
    "file.write('Here are some more names:\\n')\n",
    "\n",
    "for s in morestudents:\n",
    "    file.write(s + '\\n')\n",
    "    \n",
    "file.close()"
   ]
  },
  {
   "cell_type": "code",
   "execution_count": 4,
   "metadata": {
    "collapsed": true
   },
   "outputs": [
    {
     "name": "stdout",
     "output_type": "stream",
     "text": [
      "Lorem ipsum dolor sit amet, consectetur adipiscing elit.\n",
      "\n",
      "Vivamus condimentum sagittis lacus, laoreet luctus ligula laoreet ut.\n",
      "\n",
      "Vestibulum ullamcorper accumsan velit vel vehicula.\n",
      "\n",
      "Proin tempor lacus arcu.\n",
      "\n",
      "Nunc at elit condimentum, semper nisi et, condimentum mi.\n",
      "\n",
      "In venenatis blandit nibh at sollicitudin.\n",
      "\n",
      "Vestibulum dapibus mauris at orci maximus pellentesque.\n",
      "\n",
      "Nullam id elementum ipsum. Suspendisse cursus lobortis viverra.\n",
      "\n",
      "Proin et erat at mauris tincidunt porttitor vitae ac dui.\n",
      "\n",
      "\n",
      "\n",
      "Donec vulputate lorem tortor, nec fermentum nibh bibendum vel.\n",
      "\n",
      "Lorem ipsum dolor sit amet, consectetur adipiscing elit.\n",
      "\n",
      "Praesent dictum luctus massa, non euismod lacus.\n",
      "\n",
      "Pellentesque condimentum dolor est, ut dapibus lectus luctus ac.\n",
      "\n",
      "Ut sagittis commodo arcu.\n",
      "\n",
      "Integer nisi nulla, facilisis sit amet nulla quis, eleifend suscipit purus.\n",
      "\n",
      "Class aptent taciti sociosqu ad litora torquent per conubia nostra, per inceptos himenaeos.\n",
      "\n",
      "Aliquam euismod ultrices lorem, sit amet imperdiet est tincidunt vel.\n",
      "\n",
      "Phasellus dictum justo sit amet ligula varius aliquet auctor et metus.\n",
      "\n",
      "Fusce vitae tortor et nisi pulvinar vestibulum eget in risus.\n",
      "\n",
      "Donec ante ex, placerat a lorem eget, ultricies bibendum purus.\n",
      "\n",
      "Nam sit amet neque non ante laoreet rutrum.\n",
      "\n",
      "Nullam aliquet commodo urna, sed ullamcorper odio feugiat id.\n",
      "\n",
      "Mauris nisi sapien, porttitor in condimentum nec, venenatis eu urna.\n",
      "\n",
      "Pellentesque feugiat diam est, at rhoncus orci porttitor non.\n",
      "\n"
     ]
    }
   ],
   "source": [
    "# with open\n",
    "# ensure txt file you're referring to is saved in the same folder as notebook\n",
    "\n",
    "with open('textfile.txt') as file:\n",
    "    for line in file:\n",
    "        print(line)"
   ]
  },
  {
   "cell_type": "code",
   "execution_count": 5,
   "metadata": {
    "collapsed": true
   },
   "outputs": [
    {
     "name": "stdout",
     "output_type": "stream",
     "text": [
      "Lorem ipsum dolor sit amet, consectetur adipiscing elit.\n",
      "Vivamus condimentum sagittis lacus, laoreet luctus ligula laoreet ut.\n",
      "Vestibulum ullamcorper accumsan velit vel vehicula.\n",
      "Proin tempor lacus arcu.\n",
      "Nunc at elit condimentum, semper nisi et, condimentum mi.\n",
      "In venenatis blandit nibh at sollicitudin.\n",
      "Vestibulum dapibus mauris at orci maximus pellentesque.\n",
      "Nullam id elementum ipsum. Suspendisse cursus lobortis viverra.\n",
      "Proin et erat at mauris tincidunt porttitor vitae ac dui.\n",
      "\n",
      "Donec vulputate lorem tortor, nec fermentum nibh bibendum vel.\n",
      "Lorem ipsum dolor sit amet, consectetur adipiscing elit.\n",
      "Praesent dictum luctus massa, non euismod lacus.\n",
      "Pellentesque condimentum dolor est, ut dapibus lectus luctus ac.\n",
      "Ut sagittis commodo arcu.\n",
      "Integer nisi nulla, facilisis sit amet nulla quis, eleifend suscipit purus.\n",
      "Class aptent taciti sociosqu ad litora torquent per conubia nostra, per inceptos himenaeos.\n",
      "Aliquam euismod ultrices lorem, sit amet imperdiet est tincidunt vel.\n",
      "Phasellus dictum justo sit amet ligula varius aliquet auctor et metus.\n",
      "Fusce vitae tortor et nisi pulvinar vestibulum eget in risus.\n",
      "Donec ante ex, placerat a lorem eget, ultricies bibendum purus.\n",
      "Nam sit amet neque non ante laoreet rutrum.\n",
      "Nullam aliquet commodo urna, sed ullamcorper odio feugiat id.\n",
      "Mauris nisi sapien, porttitor in condimentum nec, venenatis eu urna.\n",
      "Pellentesque feugiat diam est, at rhoncus orci porttitor non.\n",
      "\n",
      "\n"
     ]
    }
   ],
   "source": [
    "# read file\n",
    "\n",
    "file = open('textfile.txt')\n",
    "\n",
    "# same as above\n",
    "print(file.read()) \n",
    "\n",
    "# prints single line\n",
    "print(file.readline()) \n",
    "\n",
    "file.close()"
   ]
  },
  {
   "cell_type": "code",
   "execution_count": 6,
   "metadata": {},
   "outputs": [],
   "source": [
    "# create / write json file\n",
    "\n",
    "import json\n",
    "\n",
    "studentSCORES = {'name':'John', 'scores':[90,88,92]}\n",
    "with open('studentscores.json', 'w') as file:\n",
    "    json.dump(studentSCORES, file)"
   ]
  },
  {
   "cell_type": "code",
   "execution_count": 7,
   "metadata": {
    "collapsed": true
   },
   "outputs": [
    {
     "name": "stdout",
     "output_type": "stream",
     "text": [
      "The object type is:  <class 'dict'>\n",
      "{'name': 'John', 'scores': [90, 88, 92]}\n"
     ]
    }
   ],
   "source": [
    "# read json file\n",
    "\n",
    "with open('studentSCORES.json', 'r') as file:\n",
    "    studentSCORES = json.load(file)\n",
    "\n",
    "print('The object type is: ', type(studentSCORES))\n",
    "print(studentSCORES)"
   ]
  },
  {
   "cell_type": "code",
   "execution_count": 8,
   "metadata": {
    "collapsed": true
   },
   "outputs": [
    {
     "name": "stdout",
     "output_type": "stream",
     "text": [
      "Time to relax!\n"
     ]
    }
   ],
   "source": [
    "# control\n",
    "\n",
    "today = 'Saturday'\n",
    "codeDAYS = ['Tuesday', 'Thursday']\n",
    "scrumDAYS = ['Monday', 'Tuesday', 'Wednesday']\n",
    "\n",
    "if today in codeDAYS:\n",
    "    print('We get to write code!')\n",
    "elif today in scrumDAYS:\n",
    "    print('Time to learn scrum!')\n",
    "else:\n",
    "    print('Time to relax!')"
   ]
  },
  {
   "cell_type": "code",
   "execution_count": 9,
   "metadata": {
    "collapsed": true
   },
   "outputs": [
    {
     "name": "stdout",
     "output_type": "stream",
     "text": [
      "Monday\n",
      "Tuesday\n",
      "Wednesday\n",
      "Thursday\n",
      "Friday\n"
     ]
    }
   ],
   "source": [
    "# for loop\n",
    "\n",
    "weekdays = ['Monday', 'Tuesday', 'Wednesday', 'Thursday', 'Friday']\n",
    "\n",
    "for day in weekdays:\n",
    "    print(day)"
   ]
  },
  {
   "cell_type": "code",
   "execution_count": 10,
   "metadata": {
    "collapsed": true
   },
   "outputs": [
    {
     "name": "stdout",
     "output_type": "stream",
     "text": [
      "10.25\n"
     ]
    }
   ],
   "source": [
    "# average loop\n",
    "\n",
    "nums = [5,6,10,20]\n",
    "\n",
    "sum = 0\n",
    "for num in nums:\n",
    "    sum += num\n",
    "\n",
    "avg = sum / len(nums)\n",
    "print(avg)"
   ]
  },
  {
   "cell_type": "code",
   "execution_count": 11,
   "metadata": {
    "collapsed": true
   },
   "outputs": [
    {
     "name": "stdout",
     "output_type": "stream",
     "text": [
      "Enter your numeric grade: 98\n",
      "Your letter grade is A\n"
     ]
    }
   ],
   "source": [
    "# letter grade\n",
    "\n",
    "num = int(input('Enter your numeric grade: '))\n",
    "\n",
    "if num >= 90:\n",
    "    lettergrade = 'A'\n",
    "elif num >= 80:\n",
    "    lettergrade = 'B'\n",
    "elif num >= 70:\n",
    "    lettergrade = 'C'\n",
    "elif num >= 60:\n",
    "    lettergrade = 'D'\n",
    "else:\n",
    "    lettergrade = 'F'\n",
    "    \n",
    "print('Your letter grade is ' + lettergrade)"
   ]
  },
  {
   "cell_type": "code",
   "execution_count": 15,
   "metadata": {
    "collapsed": true
   },
   "outputs": [
    {
     "ename": "SyntaxError",
     "evalue": "invalid syntax (<ipython-input-15-502b1fe8ae45>, line 8)",
     "output_type": "error",
     "traceback": [
      "\u001b[1;36m  File \u001b[1;32m\"<ipython-input-15-502b1fe8ae45>\"\u001b[1;36m, line \u001b[1;32m8\u001b[0m\n\u001b[1;33m    while playagain='yes'\u001b[0m\n\u001b[1;37m                   ^\u001b[0m\n\u001b[1;31mSyntaxError\u001b[0m\u001b[1;31m:\u001b[0m invalid syntax\n"
     ]
    }
   ],
   "source": [
    "# blackjack\n",
    "\n",
    "import random\n",
    "\n",
    "cardvalues = [2,3,4,5,6,7,8,9,10,10,10,10,11]\n",
    "playagain = 'yes';\n",
    "\n",
    "while playagain ='yes'\n",
    "    sum=0\n",
    "    turn='hit'\n",
    "    while turn=='hit':\n",
    "        sum += random.choice(cardvalues)\n",
    "        print('You currently have: ' +str(sum))\n",
    "        turn=input('What do you want to do?')\n",
    "\n",
    "if sum >= 21:\n",
    "    print('You went over 21')\n",
    "else:\n",
    "    print('You stopped at: ' + str(sum))\n",
    "\n",
    "playagain = input('Want to play again?')"
   ]
  },
  {
   "cell_type": "code",
   "execution_count": 16,
   "metadata": {
    "collapsed": true
   },
   "outputs": [
    {
     "name": "stdout",
     "output_type": "stream",
     "text": [
      "{'compact': 946, 'compactnum': 47}\n",
      "Average city milage for compact 20.127659574468087\n"
     ]
    }
   ],
   "source": [
    "# miles per gallon csv\n",
    "\n",
    "import csv\n",
    "\n",
    "vehicles = {'compact':0, 'compactnum':0}\n",
    "\n",
    "with open('mpg.csv') as file:\n",
    "    mpgreader = csv.reader(file)\n",
    "    next(mpgreader) #skipping the first line\n",
    "    for row in mpgreader:\n",
    "        if row[11] == 'compact':\n",
    "            vehicles['compact'] = vehicles['compact'] + int(row[8])\n",
    "            vehicles['compactnum'] = vehicles['compactnum'] + 1\n",
    "\n",
    "print(vehicles)\n",
    "print('Average city milage for compact', vehicles['compact']/vehicles['compactnum'])"
   ]
  },
  {
   "cell_type": "markdown",
   "metadata": {},
   "source": [
    "**Functions**"
   ]
  },
  {
   "cell_type": "code",
   "execution_count": 17,
   "metadata": {
    "collapsed": true
   },
   "outputs": [
    {
     "name": "stdout",
     "output_type": "stream",
     "text": [
      "I like coding\n",
      "Pythin is my fav langauge\n"
     ]
    }
   ],
   "source": [
    "# function print\n",
    "\n",
    "#define the function\n",
    "def message():\n",
    "    print('I like coding')\n",
    "    print('Pythin is my fav langauge')\n",
    "\n",
    "# call function\n",
    "message()"
   ]
  },
  {
   "cell_type": "code",
   "execution_count": 18,
   "metadata": {
    "collapsed": true
   },
   "outputs": [
    {
     "name": "stdout",
     "output_type": "stream",
     "text": [
      "The tallest is  40\n"
     ]
    }
   ],
   "source": [
    "# function max\n",
    "\n",
    "def main():\n",
    "    fam = [40,55,62,72,65]\n",
    "    tallest = max(fam)\n",
    "    print('The tallest is ', tallest)\n",
    "    \n",
    "def max(b):\n",
    "    m = b[0]\n",
    "    for h in b:\n",
    "        if h > m:\n",
    "            m = h\n",
    "        return m\n",
    "main()"
   ]
  },
  {
   "cell_type": "code",
   "execution_count": 19,
   "metadata": {
    "collapsed": true
   },
   "outputs": [
    {
     "name": "stdout",
     "output_type": "stream",
     "text": [
      "The sum of 12 and 45 is\n",
      "57\n"
     ]
    }
   ],
   "source": [
    "# function multiple (2) arguments \n",
    "\n",
    "def main():\n",
    "    print('The sum of 12 and 45 is')\n",
    "    calculate_sum(12, 45)\n",
    "    \n",
    "# calculate_sum function accepts 2 arguments\n",
    "def calculate_sum(num1, num2):\n",
    "    result = num1+num2\n",
    "    print(result)\n",
    "\n",
    "main()"
   ]
  },
  {
   "cell_type": "code",
   "execution_count": 20,
   "metadata": {
    "collapsed": true
   },
   "outputs": [
    {
     "name": "stdout",
     "output_type": "stream",
     "text": [
      "I have a message for you.\n",
      "I like coding\n",
      "Python is my fav language\n",
      "See you later!\n"
     ]
    }
   ],
   "source": [
    "# function multiple (2) arguments\n",
    "\n",
    "def main():\n",
    "    print('I have a message for you.')\n",
    "    message()\n",
    "    print('See you later!')\n",
    "\n",
    "# define function\n",
    "def message():\n",
    "    print('I like coding')\n",
    "    print('Python is my fav language')\n",
    "\n",
    "# call function\n",
    "main()"
   ]
  },
  {
   "cell_type": "markdown",
   "metadata": {},
   "source": [
    "**Dates, Times, Strings**"
   ]
  },
  {
   "cell_type": "code",
   "execution_count": 21,
   "metadata": {
    "collapsed": true
   },
   "outputs": [
    {
     "name": "stdout",
     "output_type": "stream",
     "text": [
      "2018-04-13\n",
      "09:12:22\n",
      "2018-04-13 09:12:22\n"
     ]
    }
   ],
   "source": [
    "# create date\n",
    "\n",
    "import datetime\n",
    "\n",
    "# year, month, day\n",
    "d = datetime.date(2018,4,13)\n",
    "print(d)\n",
    "\n",
    "# hour, min, second\n",
    "t = datetime.time(9,12,22)\n",
    "print(t)\n",
    "\n",
    "# year, month, day, hour, min, second\n",
    "dt = datetime.datetime(2018,4,13,9,12,22)\n",
    "print(dt)"
   ]
  },
  {
   "cell_type": "code",
   "execution_count": 22,
   "metadata": {
    "collapsed": true
   },
   "outputs": [
    {
     "name": "stdout",
     "output_type": "stream",
     "text": [
      "Your age is 28\n"
     ]
    }
   ],
   "source": [
    "# relative delta\n",
    "\n",
    "from datetime import datetime\n",
    "from datetime import date\n",
    "from dateutil.relativedelta import relativedelta\n",
    "\n",
    "def main():\n",
    "    today=date.today()\n",
    "    strDOB='1993-11-08'\n",
    "    dob=datetime.strptime(strDOB, '%Y-%m-%d').date()\n",
    "    print('Your age is', age(today, dob))\n",
    "\n",
    "def age(today, dob):\n",
    "    age=relativedelta(today, dob)\n",
    "    return age.years\n",
    "\n",
    "main()"
   ]
  },
  {
   "cell_type": "code",
   "execution_count": 23,
   "metadata": {
    "collapsed": true
   },
   "outputs": [
    {
     "name": "stdout",
     "output_type": "stream",
     "text": [
      "Time: 17:15:57\n",
      "s1: 04/28/2022, 17:15:57\n",
      "s2: 28/Apr/2022, 17:15:57\n"
     ]
    }
   ],
   "source": [
    "# current date and time using strings\n",
    "\n",
    "now = datetime.now()\n",
    "\n",
    "t=now.strftime('%H:%M:%S')\n",
    "print('Time:', t)\n",
    "\n",
    "# mm/dd/YY H:M:S format\n",
    "s1 = now.strftime('%m/%d/%Y, %H:%M:%S')\n",
    "print('s1:', s1)\n",
    "\n",
    "# dd/mm/YY H:M:S format\n",
    "s2 = now.strftime('%d/%b/%Y, %H:%M:%S')\n",
    "print('s2:', s2)"
   ]
  },
  {
   "cell_type": "code",
   "execution_count": 24,
   "metadata": {
    "collapsed": true
   },
   "outputs": [
    {
     "name": "stdout",
     "output_type": "stream",
     "text": [
      "dateSTRING = 21 June, 2018\n",
      "dateOBJ= 2018-06-21 00:00:00\n"
     ]
    }
   ],
   "source": [
    "# datetime using strings\n",
    "\n",
    "from datetime import datetime\n",
    "\n",
    "dateSTRING = '21 June, 2018'\n",
    "print('dateSTRING =', dateSTRING)\n",
    "\n",
    "dateOBJ = datetime.strptime(dateSTRING, '%d %B, %Y')\n",
    "print('dateOBJ=', dateOBJ)"
   ]
  },
  {
   "cell_type": "code",
   "execution_count": 25,
   "metadata": {
    "collapsed": true
   },
   "outputs": [
    {
     "name": "stdout",
     "output_type": "stream",
     "text": [
      "<class 'datetime.datetime'>\n",
      "Current datetime= 2022-04-28 17:16:12.264864\n",
      "<class 'datetime.date'>\n",
      "Current date = 2022-04-28\n",
      "<class 'datetime.time'>\n",
      "Current time = 17:16:12.265867\n"
     ]
    }
   ],
   "source": [
    "# time now\n",
    "\n",
    "import datetime\n",
    "\n",
    "now = datetime.datetime.now()\n",
    "print(type(now))\n",
    "print('Current datetime=', now)\n",
    "\n",
    "today = datetime.datetime.now().date()\n",
    "print(type(today))\n",
    "print('Current date =', today)\n",
    "\n",
    "currentTIME = datetime.datetime.now().time()\n",
    "print(type(currentTIME))\n",
    "print('Current time =', currentTIME)"
   ]
  },
  {
   "cell_type": "code",
   "execution_count": 26,
   "metadata": {
    "collapsed": true
   },
   "outputs": [
    {
     "name": "stdout",
     "output_type": "stream",
     "text": [
      "Date = 2012-01-10 19:12:44\n"
     ]
    }
   ],
   "source": [
    "# unix time stamp\n",
    "\n",
    "from datetime import datetime\n",
    "\n",
    "timestamp = datetime.fromtimestamp(1326244364)\n",
    "print(\"Date =\", timestamp)"
   ]
  },
  {
   "cell_type": "markdown",
   "metadata": {},
   "source": [
    "**Basics**"
   ]
  },
  {
   "cell_type": "code",
   "execution_count": 28,
   "metadata": {},
   "outputs": [
    {
     "name": "stdout",
     "output_type": "stream",
     "text": [
      "this is x plus y\n"
     ]
    },
    {
     "data": {
      "text/plain": [
       "264"
      ]
     },
     "execution_count": 28,
     "metadata": {},
     "output_type": "execute_result"
    }
   ],
   "source": [
    "x=12\n",
    "y=22\n",
    "print('this is x plus y')\n",
    "x + y\n",
    "x * y"
   ]
  },
  {
   "cell_type": "code",
   "execution_count": 29,
   "metadata": {
    "collapsed": true
   },
   "outputs": [
    {
     "data": {
      "text/plain": [
       "str"
      ]
     },
     "execution_count": 29,
     "metadata": {},
     "output_type": "execute_result"
    }
   ],
   "source": [
    "# type() command\n",
    "s = \"Hello world\"\n",
    "type(s)"
   ]
  },
  {
   "cell_type": "code",
   "execution_count": 30,
   "metadata": {
    "collapsed": true
   },
   "outputs": [
    {
     "data": {
      "text/plain": [
       "NoneType"
      ]
     },
     "execution_count": 30,
     "metadata": {},
     "output_type": "execute_result"
    }
   ],
   "source": [
    "type(None)"
   ]
  },
  {
   "cell_type": "code",
   "execution_count": 31,
   "metadata": {
    "collapsed": true
   },
   "outputs": [
    {
     "data": {
      "text/plain": [
       "float"
      ]
     },
     "execution_count": 31,
     "metadata": {},
     "output_type": "execute_result"
    }
   ],
   "source": [
    "x= 1 + 3.2\n",
    "type(x)"
   ]
  },
  {
   "cell_type": "markdown",
   "metadata": {},
   "source": [
    "**Lists**"
   ]
  },
  {
   "cell_type": "code",
   "execution_count": 32,
   "metadata": {
    "collapsed": true
   },
   "outputs": [
    {
     "data": {
      "text/plain": [
       "list"
      ]
     },
     "execution_count": 32,
     "metadata": {},
     "output_type": "execute_result"
    }
   ],
   "source": [
    "l = [1,3,'a',5.5]\n",
    "type(l)"
   ]
  },
  {
   "cell_type": "code",
   "execution_count": 33,
   "metadata": {
    "collapsed": true
   },
   "outputs": [
    {
     "data": {
      "text/plain": [
       "[1, 3, 'a', 5.5]"
      ]
     },
     "execution_count": 33,
     "metadata": {},
     "output_type": "execute_result"
    }
   ],
   "source": [
    "print(l)\n",
    "len(l)\n",
    "l.append(3.3)\n",
    "l.pop()\n",
    "l"
   ]
  },
  {
   "cell_type": "code",
   "execution_count": 34,
   "metadata": {
    "collapsed": true
   },
   "outputs": [
    {
     "data": {
      "text/plain": [
       "7"
      ]
     },
     "execution_count": 34,
     "metadata": {},
     "output_type": "execute_result"
    }
   ],
   "source": [
    "a = [3,2,5,7]\n",
    "a[-1]\n",
    "len(a)"
   ]
  },
  {
   "cell_type": "code",
   "execution_count": 35,
   "metadata": {
    "collapsed": true
   },
   "outputs": [
    {
     "name": "stdout",
     "output_type": "stream",
     "text": [
      "3\n",
      "2\n",
      "5\n",
      "7\n"
     ]
    }
   ],
   "source": [
    "# iterating over elements\n",
    "\n",
    "for item in a:\n",
    "    print(item)"
   ]
  },
  {
   "cell_type": "code",
   "execution_count": 36,
   "metadata": {
    "collapsed": true
   },
   "outputs": [
    {
     "name": "stdout",
     "output_type": "stream",
     "text": [
      "3\n",
      "2\n",
      "5\n",
      "7\n"
     ]
    }
   ],
   "source": [
    "# iterating over indices\n",
    "\n",
    "for i in range(len(a)):\n",
    "    print(a[i])"
   ]
  },
  {
   "cell_type": "code",
   "execution_count": 37,
   "metadata": {},
   "outputs": [],
   "source": [
    "type?"
   ]
  },
  {
   "cell_type": "code",
   "execution_count": 38,
   "metadata": {
    "collapsed": true
   },
   "outputs": [
    {
     "name": "stdout",
     "output_type": "stream",
     "text": [
      "1\n",
      "2\n"
     ]
    },
    {
     "data": {
      "text/plain": [
       "[1, 6, 7, 4, 5, 6, 7]"
      ]
     },
     "execution_count": 38,
     "metadata": {},
     "output_type": "execute_result"
    }
   ],
   "source": [
    "b = [1,2,3,4,5,6,7]\n",
    "\n",
    "# write you code here (~2 lines) you can use a for loop\n",
    "for i in range(1,3):\n",
    "    print(i)\n",
    "    b[i] = b[i]+4\n",
    "    \n",
    "b"
   ]
  },
  {
   "cell_type": "code",
   "execution_count": 39,
   "metadata": {
    "collapsed": true
   },
   "outputs": [
    {
     "name": "stdout",
     "output_type": "stream",
     "text": [
      "['d', 'e', 'f', 'g']\n"
     ]
    }
   ],
   "source": [
    "a = ['a','b','c','d','e','f','g']\n",
    "\n",
    "# print(a[-2])\n",
    "print(a[3:])"
   ]
  },
  {
   "cell_type": "code",
   "execution_count": 40,
   "metadata": {},
   "outputs": [
    {
     "name": "stdout",
     "output_type": "stream",
     "text": [
      "bc\n"
     ]
    }
   ],
   "source": [
    "a = \"abcdefg\"\n",
    "print(a[1:3])"
   ]
  },
  {
   "cell_type": "code",
   "execution_count": 47,
   "metadata": {
    "collapsed": true
   },
   "outputs": [
    {
     "data": {
      "text/plain": [
       "'two'"
      ]
     },
     "execution_count": 47,
     "metadata": {},
     "output_type": "execute_result"
    }
   ],
   "source": [
    "d = {\"I\":\"one\",\"II\":\"two\",\"III\":\"three\",\"IV\":\"four\",\"V\":\"five\",6:\"six\"}\n",
    "\n",
    "d[\"II\"]"
   ]
  },
  {
   "cell_type": "code",
   "execution_count": 48,
   "metadata": {
    "collapsed": true
   },
   "outputs": [
    {
     "name": "stdout",
     "output_type": "stream",
     "text": [
      "I\n",
      "II\n",
      "III\n",
      "IV\n",
      "V\n",
      "6\n"
     ]
    }
   ],
   "source": [
    "for key in d:\n",
    "    print(key)"
   ]
  },
  {
   "cell_type": "code",
   "execution_count": 49,
   "metadata": {
    "collapsed": true
   },
   "outputs": [
    {
     "name": "stdout",
     "output_type": "stream",
     "text": [
      "one\n",
      "two\n",
      "three\n",
      "four\n",
      "five\n",
      "six\n"
     ]
    }
   ],
   "source": [
    "for value in d.values():\n",
    "    print(value)"
   ]
  },
  {
   "cell_type": "code",
   "execution_count": 44,
   "metadata": {
    "collapsed": true
   },
   "outputs": [
    {
     "name": "stdout",
     "output_type": "stream",
     "text": [
      "one\n",
      "two\n",
      "three\n",
      "four\n",
      "five\n",
      "six\n"
     ]
    }
   ],
   "source": [
    "for key, value in d.items():\n",
    "    print(str(key) + ' is ' + value)"
   ]
  },
  {
   "cell_type": "code",
   "execution_count": 50,
   "metadata": {
    "collapsed": true
   },
   "outputs": [
    {
     "ename": "SyntaxError",
     "evalue": "unexpected EOF while parsing (<ipython-input-50-e413298d1850>, line 3)",
     "output_type": "error",
     "traceback": [
      "\u001b[1;36m  File \u001b[1;32m\"<ipython-input-50-e413298d1850>\"\u001b[1;36m, line \u001b[1;32m3\u001b[0m\n\u001b[1;33m    for key, value in d.items():\u001b[0m\n\u001b[1;37m                                ^\u001b[0m\n\u001b[1;31mSyntaxError\u001b[0m\u001b[1;31m:\u001b[0m unexpected EOF while parsing\n"
     ]
    }
   ],
   "source": [
    "d = {\"I\":\"one\", \"II\":\"two\", \"III\":\"three\", \"IV\":\"four\", \"V\":\"five\", 6:\"six\"}\n",
    "\n",
    "for key, value in d.items():"
   ]
  },
  {
   "cell_type": "markdown",
   "metadata": {},
   "source": [
    "**Numpy**"
   ]
  },
  {
   "cell_type": "code",
   "execution_count": 51,
   "metadata": {},
   "outputs": [],
   "source": [
    "import numpy as np"
   ]
  },
  {
   "cell_type": "code",
   "execution_count": 60,
   "metadata": {
    "collapsed": true
   },
   "outputs": [
    {
     "ename": "TypeError",
     "evalue": "unsupported operand type(s) for ** or pow(): 'list' and 'int'",
     "output_type": "error",
     "traceback": [
      "\u001b[1;31m---------------------------------------------------------------------------\u001b[0m",
      "\u001b[1;31mTypeError\u001b[0m                                 Traceback (most recent call last)",
      "\u001b[1;32m<ipython-input-60-c802f6d54d15>\u001b[0m in \u001b[0;36m<module>\u001b[1;34m\u001b[0m\n\u001b[0;32m      2\u001b[0m \u001b[0mw\u001b[0m \u001b[1;33m=\u001b[0m \u001b[1;33m[\u001b[0m\u001b[1;36m160\u001b[0m\u001b[1;33m,\u001b[0m\u001b[1;36m150\u001b[0m\u001b[1;33m,\u001b[0m\u001b[1;36m165\u001b[0m\u001b[1;33m,\u001b[0m\u001b[1;36m120\u001b[0m\u001b[1;33m,\u001b[0m\u001b[1;36m205\u001b[0m\u001b[1;33m]\u001b[0m\u001b[1;33m\u001b[0m\u001b[1;33m\u001b[0m\u001b[0m\n\u001b[0;32m      3\u001b[0m \u001b[1;33m\u001b[0m\u001b[0m\n\u001b[1;32m----> 4\u001b[1;33m \u001b[0mbmi\u001b[0m \u001b[1;33m=\u001b[0m \u001b[0mw\u001b[0m \u001b[1;33m/\u001b[0m \u001b[1;33m(\u001b[0m\u001b[0mh\u001b[0m\u001b[1;33m**\u001b[0m\u001b[1;36m2\u001b[0m\u001b[1;33m)\u001b[0m \u001b[1;33m*\u001b[0m \u001b[1;36m703\u001b[0m\u001b[1;33m\u001b[0m\u001b[1;33m\u001b[0m\u001b[0m\n\u001b[0m",
      "\u001b[1;31mTypeError\u001b[0m: unsupported operand type(s) for ** or pow(): 'list' and 'int'"
     ]
    }
   ],
   "source": [
    "h = [67,70,65,63,72]\n",
    "w = [160,150,165,120,205]\n",
    "\n",
    "bmi = w / (h**2) * 703"
   ]
  },
  {
   "cell_type": "code",
   "execution_count": 61,
   "metadata": {
    "collapsed": true
   },
   "outputs": [
    {
     "data": {
      "text/plain": [
       "array([25.05680552, 21.52040816, 27.45443787, 21.25472411, 27.79996142])"
      ]
     },
     "execution_count": 61,
     "metadata": {},
     "output_type": "execute_result"
    }
   ],
   "source": [
    "np_ht =  np.array([67,70,65,63,72])\n",
    "np_wt = np.array([160,150,165,120,205])\n",
    "\n",
    "type(np_ht)\n",
    "type(np_wt)\n",
    "\n",
    "bmi = np_wt / (np_ht**2) * 703\n",
    "bmi"
   ]
  },
  {
   "cell_type": "code",
   "execution_count": 62,
   "metadata": {
    "collapsed": true
   },
   "outputs": [
    {
     "data": {
      "text/plain": [
       "array(['1.2', 'is', 'True'], dtype='<U32')"
      ]
     },
     "execution_count": 62,
     "metadata": {},
     "output_type": "execute_result"
    }
   ],
   "source": [
    "same = np.array([1.2,'is',True])\n",
    "same"
   ]
  },
  {
   "cell_type": "markdown",
   "metadata": {},
   "source": [
    "**List v. Array**"
   ]
  },
  {
   "cell_type": "code",
   "execution_count": 63,
   "metadata": {},
   "outputs": [],
   "source": [
    "LIST = [1,2,3,4]\n",
    "ARRAY = np.array([1,2,3,4])"
   ]
  },
  {
   "cell_type": "code",
   "execution_count": 64,
   "metadata": {
    "collapsed": true
   },
   "outputs": [
    {
     "data": {
      "text/plain": [
       "[1, 2, 3, 4, 1, 2, 3, 4]"
      ]
     },
     "execution_count": 64,
     "metadata": {},
     "output_type": "execute_result"
    }
   ],
   "source": [
    "LIST + LIST"
   ]
  },
  {
   "cell_type": "code",
   "execution_count": 65,
   "metadata": {
    "collapsed": true
   },
   "outputs": [
    {
     "data": {
      "text/plain": [
       "array([2, 4, 6, 8])"
      ]
     },
     "execution_count": 65,
     "metadata": {},
     "output_type": "execute_result"
    }
   ],
   "source": [
    "ARRAY + ARRAY"
   ]
  },
  {
   "cell_type": "code",
   "execution_count": 66,
   "metadata": {},
   "outputs": [],
   "source": [
    "str_ARRAY = np.array(['a','b','c','d'])"
   ]
  },
  {
   "cell_type": "markdown",
   "metadata": {},
   "source": [
    "**Numpy Subsetting**"
   ]
  },
  {
   "cell_type": "code",
   "execution_count": 70,
   "metadata": {
    "collapsed": true
   },
   "outputs": [
    {
     "data": {
      "text/plain": [
       "array([25.05680552, 27.45443787, 27.79996142])"
      ]
     },
     "execution_count": 70,
     "metadata": {},
     "output_type": "execute_result"
    }
   ],
   "source": [
    "bmi[1]\n",
    "bmi > 25\n",
    "bmi[bmi > 25]"
   ]
  },
  {
   "cell_type": "code",
   "execution_count": 71,
   "metadata": {
    "collapsed": true
   },
   "outputs": [
    {
     "name": "stdout",
     "output_type": "stream",
     "text": [
      "['Adam_Donachie', 'BAL', 'Catcher', '74', '180', '22.99', 'Catcher']\n",
      "['Paul_Bako', 'BAL', 'Catcher', '74', '215', '34.69', 'Catcher']\n",
      "['Ramon_Hernandez', 'BAL', 'Catcher', '72', '210', '30.78', 'Catcher']\n",
      "['Kevin_Millar', 'BAL', 'First_Baseman', '72', '210', '35.43', 'Infielder']\n",
      "['Chris_Gomez', 'BAL', 'First_Baseman', '73', '188', '35.71', 'Infielder']\n",
      "['Brian_Roberts', 'BAL', 'Second_Baseman', '69', '176', '29.39', 'Infielder']\n",
      "['Miguel_Tejada', 'BAL', 'Shortstop', '69', '209', '30.77', 'Infielder']\n",
      "['Melvin_Mora', 'BAL', 'Third_Baseman', '71', '200', '35.07', 'Infielder']\n",
      "['Aubrey_Huff', 'BAL', 'Third_Baseman', '76', '231', '30.19', 'Infielder']\n",
      "['Adam_Stern', 'BAL', 'Outfielder', '71', '180', '27.05', 'Outfielder']\n",
      "['Jeff_Fiorentino', 'BAL', 'Outfielder', '73', '188', '23.88', 'Outfielder']\n",
      "['Freddie_Bynum', 'BAL', 'Outfielder', '73', '180', '26.96', 'Outfielder']\n",
      "['Nick_Markakis', 'BAL', 'Outfielder', '74', '185', '23.29', 'Outfielder']\n",
      "['Brandon_Fahey', 'BAL', 'Outfielder', '74', '160', '26.11', 'Outfielder']\n",
      "['Corey_Patterson', 'BAL', 'Outfielder', '69', '180', '27.55', 'Outfielder']\n",
      "['Jay_Payton', 'BAL', 'Outfielder', '70', '185', '34.27', 'Outfielder']\n",
      "['Erik_Bedard', 'BAL', 'Starting_Pitcher', '73', '189', '27.99', 'Pitcher']\n",
      "['Hayden_Penn', 'BAL', 'Starting_Pitcher', '75', '185', '22.38', 'Pitcher']\n",
      "['Adam_Loewen', 'BAL', 'Starting_Pitcher', '78', '219', '22.89', 'Pitcher']\n",
      "['Daniel_Cabrera', 'BAL', 'Starting_Pitcher', '79', '230', '25.76', 'Pitcher']\n",
      "['Steve_Trachsel', 'BAL', 'Starting_Pitcher', '76', '205', '36.33', 'Pitcher']\n",
      "['Jaret_Wright', 'BAL', 'Starting_Pitcher', '74', '230', '31.17', 'Pitcher']\n",
      "['Kris_Benson', 'BAL', 'Starting_Pitcher', '76', '195', '32.31', 'Pitcher']\n",
      "['Scott_Williamson', 'BAL', 'Relief_Pitcher', '72', '180', '31.03', 'Pitcher']\n",
      "['John_Parrish', 'BAL', 'Relief_Pitcher', '71', '192', '29.26', 'Pitcher']\n",
      "['Danys_Baez', 'BAL', 'Relief_Pitcher', '75', '225', '29.47', 'Pitcher']\n",
      "['Chad_Bradford', 'BAL', 'Relief_Pitcher', '77', '203', '32.46', 'Pitcher']\n",
      "['Jamie_Walker', 'BAL', 'Relief_Pitcher', '74', '195', '35.67', 'Pitcher']\n",
      "['Brian_Burres', 'BAL', 'Relief_Pitcher', '73', '182', '25.89', 'Pitcher']\n",
      "['Kurt_Birkins', 'BAL', 'Relief_Pitcher', '74', '188', '26.55', 'Pitcher']\n",
      "['James_Hoey', 'BAL', 'Relief_Pitcher', '78', '200', '24.17', 'Pitcher']\n",
      "['Sendy_Rleal', 'BAL', 'Relief_Pitcher', '73', '180', '26.69', 'Pitcher']\n",
      "['Chris_Ray', 'BAL', 'Relief_Pitcher', '75', '200', '25.13', 'Pitcher']\n",
      "['Jeremy_Guthrie', 'BAL', 'Relief_Pitcher', '73', '200', '27.9', 'Pitcher']\n",
      "['A.J._Pierzynski', 'CWS', 'Catcher', '75', '245', '30.17', 'Catcher']\n",
      "['Toby_Hall', 'CWS', 'Catcher', '75', '240', '31.36', 'Catcher']\n",
      "['Paul_Konerko', 'CWS', 'First_Baseman', '74', '215', '30.99', 'Infielder']\n",
      "['Tadahito_Iguchi', 'CWS', 'Second_Baseman', '69', '185', '32.24', 'Infielder']\n",
      "['Juan_Uribe', 'CWS', 'Shortstop', '71', '175', '27.61', 'Infielder']\n",
      "['Alex_Cintron', 'CWS', 'Shortstop', '74', '199', '28.2', 'Infielder']\n",
      "['Joe_Crede', 'CWS', 'Third_Baseman', '73', '200', '28.85', 'Infielder']\n",
      "['Josh_Fields', 'CWS', 'Third_Baseman', '73', '215', '24.21', 'Infielder']\n",
      "['Ryan_Sweeney', 'CWS', 'Outfielder', '76', '200', '22.02', 'Outfielder']\n",
      "['Brian_N._Anderson', 'CWS', 'Outfielder', '74', '205', '24.97', 'Outfielder']\n",
      "['Luis_Terrero', 'CWS', 'Outfielder', '74', '206', '26.78', 'Outfielder']\n",
      "['Pablo_Ozuna', 'CWS', 'Outfielder', '70', '186', '32.51', 'Outfielder']\n",
      "['Scott_Podsednik', 'CWS', 'Outfielder', '72', '188', '30.95', 'Outfielder']\n",
      "['Jermaine_Dye', 'CWS', 'Outfielder', '77', '220', '33.09', 'Outfielder']\n",
      "['Darin_Erstad', 'CWS', 'Outfielder', '74', '210', '32.74', 'Outfielder']\n",
      "['Rob_Mackowiak', 'CWS', 'Outfielder', '70', '195', '30.69', 'Outfielder']\n",
      "['Charlie_Haeger', 'CWS', 'Starting_Pitcher', '73', '200', '23.45', 'Pitcher']\n",
      "['Heath_Phillips', 'CWS', 'Starting_Pitcher', '75', '200', '24.94', 'Pitcher']\n",
      "['Gavin_Floyd', 'CWS', 'Starting_Pitcher', '76', '212', '24.09', 'Pitcher']\n",
      "['Jose_Contreras', 'CWS', 'Starting_Pitcher', '76', '224', '35.23', 'Pitcher']\n",
      "['Jon_Garland', 'CWS', 'Starting_Pitcher', '78', '210', '27.43', 'Pitcher']\n",
      "['Javier_Vazquez', 'CWS', 'Starting_Pitcher', '74', '205', '30.6', 'Pitcher']\n",
      "['Mark_Buehrle', 'CWS', 'Starting_Pitcher', '74', '220', '27.94', 'Pitcher']\n",
      "['Mike_MacDougal', 'CWS', 'Relief_Pitcher', '76', '195', '29.99', 'Pitcher']\n",
      "['David_Aardsma', 'CWS', 'Relief_Pitcher', '77', '200', '25.17', 'Pitcher']\n",
      "['Andrew_Sisco', 'CWS', 'Relief_Pitcher', '81', '260', '24.13', 'Pitcher']\n",
      "['Matt_Thornton', 'CWS', 'Relief_Pitcher', '78', '228', '30.46', 'Pitcher']\n",
      "['Bobby_Jenks', 'CWS', 'Relief_Pitcher', '75', '270', '25.96', 'Pitcher']\n",
      "['Boone_Logan', 'CWS', 'Relief_Pitcher', '77', '200', '22.55', 'Pitcher']\n",
      "['Sean_Tracey', 'CWS', 'Relief_Pitcher', '75', '210', '26.29', 'Pitcher']\n",
      "['Nick_Masset', 'CWS', 'Relief_Pitcher', '76', '190', '24.79', 'Pitcher']\n",
      "['Jose_Molina', 'ANA', 'Catcher', '74', '220', '31.74', 'Catcher']\n",
      "['Jeff_Mathis', 'ANA', 'Catcher', '72', '180', '23.92', 'Catcher']\n",
      "['Mike_Napoli', 'ANA', 'Catcher', '72', '205', '25.33', 'Catcher']\n",
      "['Casey_Kotchman', 'ANA', 'First_Baseman', '75', '210', '24.02', 'Infielder']\n",
      "['Kendry_Morales', 'ANA', 'First_Baseman', '73', '220', '23.7', 'Infielder']\n",
      "['Shea_Hillenbrand', 'ANA', 'First_Baseman', '73', '211', '31.59', 'Infielder']\n",
      "['Robb_Quinlan', 'ANA', 'First_Baseman', '73', '200', '29.95', 'Infielder']\n",
      "['Howie_Kendrick', 'ANA', 'First_Baseman', '70', '180', '23.64', 'Infielder']\n",
      "['Orlando_Cabrera', 'ANA', 'Shortstop', '70', '190', '32.33', 'Infielder']\n",
      "['Erick_Aybar', 'ANA', 'Shortstop', '70', '170', '23.13', 'Infielder']\n",
      "['Dallas_McPherson', 'ANA', 'Third_Baseman', '76', '230', '26.6', 'Infielder']\n",
      "['Maicer_Izturis', 'ANA', 'Third_Baseman', '68', '155', '26.46', 'Infielder']\n",
      "['Reggie_Willits', 'ANA', 'Outfielder', '71', '185', '25.75', 'Outfielder']\n",
      "['Tommy_Murphy', 'ANA', 'Outfielder', '72', '185', '27.51', 'Outfielder']\n",
      "['Terry_Evans', 'ANA', 'Outfielder', '75', '200', '25.11', 'Outfielder']\n",
      "['Gary_Matthews_Jr.', 'ANA', 'Outfielder', '75', '225', '32.51', 'Outfielder']\n",
      "['Garret_Anderson', 'ANA', 'Outfielder', '75', '225', '34.67', 'Outfielder']\n",
      "['Vladimir_Guerrero', 'ANA', 'Outfielder', '75', '220', '31.06', 'Outfielder']\n",
      "['Chone_Figgins', 'ANA', 'Outfielder', '68', '160', '29.1', 'Outfielder']\n",
      "['Juan_Rivera', 'ANA', 'Outfielder', '74', '205', '28.66', 'Outfielder']\n",
      "['John_Lackey', 'ANA', 'Starting_Pitcher', '78', '235', '28.35', 'Pitcher']\n",
      "['Bartolo_Colon', 'ANA', 'Starting_Pitcher', '71', '250', '33.77', 'Pitcher']\n",
      "['Kelvim_Escobar', 'ANA', 'Starting_Pitcher', '73', '210', '30.89', 'Pitcher']\n",
      "['Dustin_Moseley', 'ANA', 'Starting_Pitcher', '76', '190', '37.74', 'Pitcher']\n",
      "['Ervin_Santana', 'ANA', 'Starting_Pitcher', '74', '160', '24.14', 'Pitcher']\n",
      "['Joe_Saunders', 'ANA', 'Starting_Pitcher', '74', '200', '25.71', 'Pitcher']\n",
      "['Jered_Weaver', 'ANA', 'Starting_Pitcher', '79', '205', '24.41', 'Pitcher']\n",
      "['Chris_Resop', 'ANA', 'Relief_Pitcher', '75', '222', '24.32', 'Pitcher']\n",
      "['Phil_Seibel', 'ANA', 'Relief_Pitcher', '73', '195', '28.09', 'Pitcher']\n",
      "['Justin_Speier', 'ANA', 'Relief_Pitcher', '76', '205', '33.31', 'Pitcher']\n",
      "['Darren_Oliver', 'ANA', 'Relief_Pitcher', '74', '220', '36.4', 'Pitcher']\n",
      "['Hector_Carrasco', 'ANA', 'Relief_Pitcher', '74', '220', '37.36', 'Pitcher']\n",
      "['Scot_Shields', 'ANA', 'Relief_Pitcher', '73', '170', '31.61', 'Pitcher']\n",
      "['Francisco_Rodriguez', 'ANA', 'Relief_Pitcher', '72', '185', '25.14', 'Pitcher']\n",
      "['Greg_Jones', 'ANA', 'Relief_Pitcher', '74', '195', '30.29', 'Pitcher']\n",
      "['Doug_Mirabelli', 'BOS', 'Catcher', '73', '220', '36.37', 'Catcher']\n",
      "['Jason_Varitek', 'BOS', 'Catcher', '74', '230', '34.89', 'Catcher']\n",
      "['George_Kottaras', 'BOS', 'Catcher', '72', '180', '23.79', 'Catcher']\n",
      "['Kevin_Youkilis', 'BOS', 'First_Baseman', '73', '220', '27.96', 'Infielder']\n",
      "['Dustin_Pedroia', 'BOS', 'Second_Baseman', '69', '180', '23.54', 'Infielder']\n",
      "['Alex_Cora', 'BOS', 'Shortstop', '72', '180', '31.37', 'Infielder']\n",
      "['Julio_Lugo', 'BOS', 'Shortstop', '73', '170', '31.29', 'Infielder']\n",
      "['Mike_Lowell', 'BOS', 'Third_Baseman', '75', '210', '33.01', 'Infielder']\n",
      "['Wily_Mo_Pe?a', 'BOS', 'Outfielder', '75', '215', '25.1', 'Outfielder']\n",
      "['J.D._Drew', 'BOS', 'Outfielder', '73', '200', '31.28', 'Outfielder']\n",
      "['Manny_Ramirez', 'BOS', 'Outfielder', '72', '213', '34.75', 'Outfielder']\n",
      "['Brandon_Moss', 'BOS', 'Outfielder', '72', '180', '23.46', 'Outfielder']\n",
      "['David_Murphy', 'BOS', 'Outfielder', '76', '192', '25.37', 'Outfielder']\n",
      "['Eric_Hinske', 'BOS', 'Outfielder', '74', '235', '29.57', 'Outfielder']\n",
      "['Coco_Crisp', 'BOS', 'Outfielder', '72', '185', '27.33', 'Outfielder']\n",
      "['Curt_Schilling', 'BOS', 'Starting_Pitcher', '77', '235', '40.29', 'Pitcher']\n",
      "['Tim_Wakefield', 'BOS', 'Starting_Pitcher', '74', '210', '40.58', 'Pitcher']\n",
      "['Josh_Beckett', 'BOS', 'Starting_Pitcher', '77', '222', '26.79', 'Pitcher']\n",
      "['Matt_Clement', 'BOS', 'Starting_Pitcher', '75', '210', '32.55', 'Pitcher']\n",
      "['Jonathan_Papelbon', 'BOS', 'Starting_Pitcher', '76', '230', '26.27', 'Pitcher']\n",
      "['Kyle_Snyder', 'BOS', 'Starting_Pitcher', '80', '220', '29.47', 'Pitcher']\n",
      "['Devern_Hansack', 'BOS', 'Starting_Pitcher', '74', '180', '29.07', 'Pitcher']\n",
      "['Jon_Lester', 'BOS', 'Starting_Pitcher', '74', '190', '23.15', 'Pitcher']\n",
      "['Kason_Gabbard', 'BOS', 'Starting_Pitcher', '75', '200', '24.9', 'Pitcher']\n",
      "['Craig_Hansen', 'BOS', 'Relief_Pitcher', '78', '210', '23.29', 'Pitcher']\n",
      "['Hideki_Okajima', 'BOS', 'Relief_Pitcher', '73', '194', '31.18', 'Pitcher']\n",
      "['Craig_Breslow', 'BOS', 'Relief_Pitcher', '73', '180', '26.56', 'Pitcher']\n",
      "['Manny_Delcarmen', 'BOS', 'Relief_Pitcher', '74', '190', '25.03', 'Pitcher']\n",
      "['Brendan_Donnelly', 'BOS', 'Relief_Pitcher', '75', '240', '35.66', 'Pitcher']\n",
      "['Javier_Lopez', 'BOS', 'Relief_Pitcher', '76', '200', '29.64', 'Pitcher']\n",
      "['J.C._Romero', 'BOS', 'Relief_Pitcher', '71', '198', '30.74', 'Pitcher']\n",
      "['Joel_Pineiro', 'BOS', 'Relief_Pitcher', '73', '200', '28.43', 'Pitcher']\n",
      "['Julian_Tavarez', 'BOS', 'Relief_Pitcher', '74', '195', '33.77', 'Pitcher']\n",
      "['Mike_Timlin', 'BOS', 'Relief_Pitcher', '76', '210', '40.97', 'Pitcher']\n",
      "['Nick_DeBarr', 'BOS', 'Relief_Pitcher', '76', '220', '23.52', 'Pitcher']\n",
      "['Victor_Martinez', 'CLE', 'Catcher', '74', '190', '28.19', 'Catcher']\n",
      "['Kelly_Shoppach', 'CLE', 'Catcher', '73', '210', '26.84', 'Catcher']\n",
      "['Ryan_Garko', 'CLE', 'First_Baseman', '74', '225', '26.16', 'Infielder']\n",
      "['Joe_Inglett', 'CLE', 'Second_Baseman', '70', '180', '28.67', 'Infielder']\n",
      "['Josh_Barfield', 'CLE', 'Second_Baseman', '72', '185', '24.2', 'Infielder']\n",
      "['Hector_Luna', 'CLE', 'Second_Baseman', '73', '170', '27.08', 'Infielder']\n",
      "['Jhonny_Peralta', 'CLE', 'Shortstop', '73', '185', '24.76', 'Infielder']\n",
      "['Andy_Marte', 'CLE', 'Third_Baseman', '73', '185', '23.36', 'Infielder']\n",
      "['Ben_Francisco', 'CLE', 'Outfielder', '73', '180', '25.35', 'Outfielder']\n",
      "['Shin-Soo_Choo', 'CLE', 'Outfielder', '71', '178', '24.63', 'Outfielder']\n",
      "['Franklin_Gutierrez', 'CLE', 'Outfielder', '74', '175', '24.02', 'Outfielder']\n",
      "['Grady_Sizemore', 'CLE', 'Outfielder', '74', '200', '24.58', 'Outfielder']\n",
      "['Jason_Michaels', 'CLE', 'Outfielder', '72', '204', '30.82', 'Outfielder']\n",
      "['Trot_Nixon', 'CLE', 'Outfielder', '74', '211', '32.89', 'Outfielder']\n",
      "['David_Dellucci', 'CLE', 'Outfielder', '71', '190', '33.33', 'Outfielder']\n",
      "['Casey_Blake', 'CLE', 'Outfielder', '74', '210', '33.52', 'Outfielder']\n",
      "['Paul_Byrd', 'CLE', 'Starting_Pitcher', '73', '190', '36.24', 'Pitcher']\n",
      "['Cliff_Lee', 'CLE', 'Starting_Pitcher', '75', '190', '28.5', 'Pitcher']\n",
      "['Jake_Westbrook', 'CLE', 'Starting_Pitcher', '75', '185', '29.42', 'Pitcher']\n",
      "['C.C._Sabathia', 'CLE', 'Starting_Pitcher', '79', '290', '26.61', 'Pitcher']\n",
      "['Jeremy_Sowers', 'CLE', 'Starting_Pitcher', '73', '175', '23.79', 'Pitcher']\n",
      "['Rafael_Perez', 'CLE', 'Relief_Pitcher', '75', '185', '24.96', 'Pitcher']\n",
      "['Brian_Slocum', 'CLE', 'Relief_Pitcher', '76', '200', '25.93', 'Pitcher']\n",
      "['Edward_Mujica', 'CLE', 'Relief_Pitcher', '74', '220', '22.81', 'Pitcher']\n",
      "['Fernando_Cabrera', 'CLE', 'Relief_Pitcher', '76', '170', '25.29', 'Pitcher']\n",
      "['Tom_Mastny', 'CLE', 'Relief_Pitcher', '78', '220', '26.07', 'Pitcher']\n",
      "['Juan_Lara', 'CLE', 'Relief_Pitcher', '74', '190', '26.09', 'Pitcher']\n",
      "['Fausto_Carmona', 'CLE', 'Relief_Pitcher', '76', '220', '23.23', 'Pitcher']\n",
      "['Aaron_Fultz', 'CLE', 'Relief_Pitcher', '72', '205', '33.49', 'Pitcher']\n",
      "['Rafael_Betancourt', 'CLE', 'Relief_Pitcher', '74', '200', '31.84', 'Pitcher']\n",
      "['Roberto_Hernandez', 'CLE', 'Relief_Pitcher', '76', '250', '42.3', 'Pitcher']\n",
      "['Joe_Borowski', 'CLE', 'Relief_Pitcher', '74', '225', '35.82', 'Pitcher']\n",
      "['Matt_Miller', 'CLE', 'Relief_Pitcher', '75', '215', '35.27', 'Pitcher']\n",
      "['Jason_Davis', 'CLE', 'Relief_Pitcher', '78', '210', '26.81', 'Pitcher']\n",
      "['Mike_Piazza', 'OAK', 'Catcher', '75', '215', '38.49', 'Catcher']\n",
      "['Jason_Kendall', 'OAK', 'Catcher', '72', '195', '32.68', 'Catcher']\n",
      "['Adam_Melhuse', 'OAK', 'Catcher', '74', '200', '34.93', 'Catcher']\n",
      "['Nick_Swisher', 'OAK', 'First_Baseman', '72', '194', '26.26', 'Infielder']\n",
      "['Dan_Johnson', 'OAK', 'First_Baseman', '74', '220', '27.56', 'Infielder']\n",
      "['Donald_Murphy', 'OAK', 'Second_Baseman', '70', '180', '23.98', 'Infielder']\n",
      "['Mark_Ellis', 'OAK', 'Second_Baseman', '71', '180', '29.73', 'Infielder']\n",
      "['Marco_Scutaro', 'OAK', 'Shortstop', '70', '170', '31.33', 'Infielder']\n",
      "['Bobby_Crosby', 'OAK', 'Shortstop', '75', '195', '27.13', 'Infielder']\n",
      "['Mark_Kiger', 'OAK', 'Shortstop', '71', '180', '26.75', 'Infielder']\n",
      "['Antonio_Perez', 'OAK', 'Third_Baseman', '71', '170', '27.09', 'Infielder']\n",
      "['Eric_Chavez', 'OAK', 'Third_Baseman', '73', '206', '29.23', 'Infielder']\n",
      "['Milton_Bradley', 'OAK', 'Outfielder', '72', '205', '28.88', 'Outfielder']\n",
      "['Shannon_Stewart', 'OAK', 'Outfielder', '71', '200', '33.01', 'Outfielder']\n",
      "['Bobby_Kielty', 'OAK', 'Outfielder', '73', '225', '30.57', 'Outfielder']\n",
      "['Mark_Kotsay', 'OAK', 'Outfielder', '72', '201', '31.24', 'Outfielder']\n",
      "['Ryan_Goleski', 'OAK', 'Outfielder', '75', '225', '24.95', 'Outfielder']\n",
      "['Jason_Windsor', 'OAK', 'Starting_Pitcher', '74', '233', '24.62', 'Pitcher']\n",
      "['David_Shafer', 'OAK', 'Starting_Pitcher', '74', '180', '24.98', 'Pitcher']\n",
      "['Joe_Blanton', 'OAK', 'Starting_Pitcher', '75', '225', '26.22', 'Pitcher']\n",
      "['Brad_Halsey', 'OAK', 'Starting_Pitcher', '73', '180', '26.04', 'Pitcher']\n",
      "['Dan_Haren', 'OAK', 'Starting_Pitcher', '77', '220', '26.45', 'Pitcher']\n",
      "['Rich_Harden', 'OAK', 'Starting_Pitcher', '73', '180', '25.25', 'Pitcher']\n",
      "['Joe_Kennedy', 'OAK', 'Starting_Pitcher', '76', '237', '27.77', 'Pitcher']\n",
      "['Esteban_Loaiza', 'OAK', 'Starting_Pitcher', '75', '215', '35.16', 'Pitcher']\n",
      "['Alan_Embree', 'OAK', 'Relief_Pitcher', '74', '190', '37.1', 'Pitcher']\n",
      "['Jay_Witasick', 'OAK', 'Relief_Pitcher', '76', '235', '34.51', 'Pitcher']\n",
      "['Justin_Duchscherer', 'OAK', 'Relief_Pitcher', '75', '190', '29.28', 'Pitcher']\n",
      "['Kiko_Calero', 'OAK', 'Relief_Pitcher', '73', '180', '32.14', 'Pitcher']\n",
      "['Chad_Gaudin', 'OAK', 'Relief_Pitcher', '71', '165', '23.94', 'Pitcher']\n",
      "['Lenny_DiNardo', 'OAK', 'Relief_Pitcher', '76', '195', '27.45', 'Pitcher']\n",
      "['Scott_Dunn', 'OAK', 'Relief_Pitcher', '75', '200', '28.77', 'Pitcher']\n",
      "['Huston_Street', 'OAK', 'Relief_Pitcher', '72', '190', '23.58', 'Pitcher']\n",
      "['Ron_Flores', 'OAK', 'Relief_Pitcher', '71', '190', '27.56', 'Pitcher']\n",
      "['Jay_Marshall', 'OAK', 'Relief_Pitcher', '77', '185', '24.01', 'Pitcher']\n",
      "['Marcus_McBeth', 'OAK', 'Relief_Pitcher', '73', '185', '26.52', 'Pitcher']\n",
      "['Jorge_Posada', 'NYY', 'Catcher', '74', '205', '35.54', 'Catcher']\n",
      "['Wil_Nieves', 'NYY', 'Catcher', '71', '190', '29.43', 'Catcher']\n",
      "['Andy_Phillips', 'NYY', 'First_Baseman', '72', '205', '29.9', 'Infielder']\n",
      "['Doug_Mientkiewicz', 'NYY', 'First_Baseman', '74', '206', '32.7', 'Infielder']\n",
      "['Josh_Phelps', 'NYY', 'First_Baseman', '75', '220', '28.8', 'Infielder']\n",
      "['Miguel_Cairo', 'NYY', 'Second_Baseman', '73', '208', '32.82', 'Infielder']\n",
      "['Robinson_Cano', 'NYY', 'Second_Baseman', '72', '170', '24.36', 'Infielder']\n",
      "['Derek_Jeter', 'NYY', 'Shortstop', '75', '195', '32.68', 'Infielder']\n",
      "['Alex_Rodriguez', 'NYY', 'Third_Baseman', '75', '210', '31.59', 'Infielder']\n",
      "['Johnny_Damon', 'NYY', 'Outfielder', '74', '190', '33.32', 'Outfielder']\n",
      "['Bobby_Abreu', 'NYY', 'Outfielder', '72', '211', '32.97', 'Outfielder']\n",
      "['Hideki_Matsui', 'NYY', 'Outfielder', '74', '230', '32.72', 'Outfielder']\n",
      "['Melky_Cabrera', 'NYY', 'Outfielder', '71', '170', '22.55', 'Outfielder']\n",
      "['Kevin_Thompson', 'NYY', 'Outfielder', '70', '185', '27.45', 'Outfielder']\n",
      "['Mike_Mussina', 'NYY', 'Starting_Pitcher', '74', '185', '38.23', 'Pitcher']\n",
      "['Carl_Pavano', 'NYY', 'Starting_Pitcher', '77', '241', '31.14', 'Pitcher']\n",
      "['Andy_Pettitte', 'NYY', 'Starting_Pitcher', '77', '225', '34.71', 'Pitcher']\n",
      "['Darrell_Rasner', 'NYY', 'Starting_Pitcher', '75', '210', '26.13', 'Pitcher']\n",
      "['Jeff_Karstens', 'NYY', 'Starting_Pitcher', '75', '175', '24.43', 'Pitcher']\n",
      "['Humberto_Sanchez', 'NYY', 'Starting_Pitcher', '78', '230', '23.76', 'Pitcher']\n",
      "['Chien-Ming_Wang', 'NYY', 'Starting_Pitcher', '75', '200', '26.92', 'Pitcher']\n",
      "['Sean_Henn', 'NYY', 'Relief_Pitcher', '76', '215', '25.85', 'Pitcher']\n",
      "['Scott_Proctor', 'NYY', 'Relief_Pitcher', '73', '198', '30.16', 'Pitcher']\n",
      "['Brian_Bruney', 'NYY', 'Relief_Pitcher', '75', '226', '25.03', 'Pitcher']\n",
      "['Chris_Britton', 'NYY', 'Relief_Pitcher', '75', '278', '24.21', 'Pitcher']\n",
      "['T.J._Beam', 'NYY', 'Relief_Pitcher', '79', '215', '26.51', 'Pitcher']\n",
      "['Jose_Veras', 'NYY', 'Relief_Pitcher', '77', '230', '26.36', 'Pitcher']\n",
      "['Kyle_Farnsworth', 'NYY', 'Relief_Pitcher', '76', '240', '30.88', 'Pitcher']\n",
      "['Luis_Vizcaino', 'NYY', 'Relief_Pitcher', '71', '184', '32.57', 'Pitcher']\n",
      "['Mike_Myers', 'NYY', 'Relief_Pitcher', '75', '219', '37.68', 'Pitcher']\n",
      "['Mariano_Rivera', 'NYY', 'Relief_Pitcher', '74', '170', '37.25', 'Pitcher']\n",
      "['Ivan_Rodriguez', 'DET', 'Catcher', '69', '218', '35.25', 'Catcher']\n",
      "['Vance_Wilson', 'DET', 'Catcher', '71', '190', '33.95', 'Catcher']\n",
      "['Sean_Casey', 'DET', 'First_Baseman', '76', '225', '32.66', 'Infielder']\n",
      "['Chris_Shelton', 'DET', 'First_Baseman', '72', '220', '26.68', 'Infielder']\n",
      "['Omar_Infante', 'DET', 'Second_Baseman', '72', '176', '25.18', 'Infielder']\n",
      "['Placido_Polanco', 'DET', 'Second_Baseman', '70', '190', '31.39', 'Infielder']\n",
      "['Neifi_Perez', 'DET', 'Second_Baseman', '72', '197', '33.74', 'Infielder']\n",
      "['Carlos_Guillen', 'DET', 'Shortstop', '73', '204', '31.42', 'Infielder']\n",
      "['Ramon_Santiago', 'DET', 'Shortstop', '71', '167', '27.5', 'Infielder']\n",
      "['Tony_Giarratano', 'DET', 'Shortstop', '72', '180', '24.25', 'Infielder']\n",
      "['Brandon_Inge', 'DET', 'Third_Baseman', '71', '195', '29.78', 'Infielder']\n",
      "['Craig_Monroe', 'DET', 'Outfielder', '73', '220', '30', 'Outfielder']\n",
      "['Magglio_Ordo?ez', 'DET', 'Outfielder', '72', '215', '33.09', 'Outfielder']\n",
      "['Curtis_Granderson', 'DET', 'Outfielder', '73', '185', '25.96', 'Outfielder']\n",
      "['Brent_Clevlen', 'DET', 'Outfielder', '74', '190', '23.34', 'Outfielder']\n",
      "['Marcus_Thames', 'DET', 'Outfielder', '74', '205', '29.98', 'Outfielder']\n",
      "['Gary_Sheffield', 'DET', 'Outfielder', '72', '205', '38.28', 'Outfielder']\n",
      "['Zach_Miner', 'DET', 'Starting_Pitcher', '75', '200', '24.97', 'Pitcher']\n",
      "['Jeremy_Bonderman', 'DET', 'Starting_Pitcher', '74', '210', '24.34', 'Pitcher']\n",
      "['Nate_Robertson', 'DET', 'Starting_Pitcher', '74', '215', '29.49', 'Pitcher']\n",
      "['Justin_Verlander', 'DET', 'Starting_Pitcher', '77', '200', '24.02', 'Pitcher']\n",
      "['Virgil_Vasquez', 'DET', 'Starting_Pitcher', '75', '205', '24.73', 'Pitcher']\n",
      "['Kenny_Rogers', 'DET', 'Starting_Pitcher', '73', '211', '42.3', 'Pitcher']\n",
      "['Mike_Maroth', 'DET', 'Starting_Pitcher', '72', '190', '29.54', 'Pitcher']\n",
      "['Fernando_Rodney', 'DET', 'Relief_Pitcher', '71', '208', '29.95', 'Pitcher']\n",
      "['Chad_Durbin', 'DET', 'Relief_Pitcher', '74', '200', '29.24', 'Pitcher']\n",
      "['Jason_Grilli', 'DET', 'Relief_Pitcher', '77', '210', '30.3', 'Pitcher']\n",
      "['Jose_Mesa', 'DET', 'Relief_Pitcher', '75', '232', '40.77', 'Pitcher']\n",
      "['Todd_Jones', 'DET', 'Relief_Pitcher', '75', '230', '38.85', 'Pitcher']\n",
      "['Joel_Zumaya', 'DET', 'Relief_Pitcher', '75', '210', '22.31', 'Pitcher']\n",
      "['Jordan_Tata', 'DET', 'Relief_Pitcher', '78', '220', '25.44', 'Pitcher']\n",
      "['Andrew_Miller', 'DET', 'Relief_Pitcher', '78', '210', '21.78', 'Pitcher']\n",
      "['Yorman_Bazardo', 'DET', 'Relief_Pitcher', '74', '202', '22.64', 'Pitcher']\n",
      "['Wilfredo_Ledezma', 'DET', 'Relief_Pitcher', '76', '212', '26.11', 'Pitcher']\n",
      "['Roman_Colon', 'DET', 'Relief_Pitcher', '78', '225', '27.55', 'Pitcher']\n",
      "['Edward_Campusano', 'DET', 'Relief_Pitcher', '76', '170', '24.63', 'Pitcher']\n",
      "['Rene_Rivera', 'SEA', 'Catcher', '70', '190', '23.58', 'Catcher']\n",
      "['Kenji_Johjima', 'SEA', 'Catcher', '72', '200', '30.73', 'Catcher']\n",
      "['Richie_Sexson', 'SEA', 'First_Baseman', '80', '237', '32.17', 'Infielder']\n",
      "['Ben_Broussard', 'SEA', 'First_Baseman', '74', '220', '30.43', 'Infielder']\n",
      "['Jose_Lopez', 'SEA', 'Second_Baseman', '74', '170', '23.27', 'Infielder']\n",
      "['Jose_Vidro', 'SEA', 'Second_Baseman', '71', '193', '32.51', 'Infielder']\n",
      "['Yuniesky_Betancourt', 'SEA', 'Shortstop', '70', '190', '25.08', 'Infielder']\n",
      "['Oswaldo_Navarro', 'SEA', 'Shortstop', '72', '150', '22.41', 'Infielder']\n",
      "['Adrian_Beltre', 'SEA', 'Third_Baseman', '71', '220', '27.9', 'Infielder']\n",
      "['Raul_Ibanez', 'SEA', 'Outfielder', '74', '200', '34.74', 'Outfielder']\n",
      "['Jose_Guillen', 'SEA', 'Outfielder', '71', '190', '30.79', 'Outfielder']\n",
      "['Jeremy_Reed', 'SEA', 'Outfielder', '72', '185', '25.71', 'Outfielder']\n",
      "['Willie_Bloomquist', 'SEA', 'Outfielder', '71', '185', '29.26', 'Outfielder']\n",
      "['Adam_Jones', 'SEA', 'Outfielder', '74', '200', '21.58', 'Outfielder']\n",
      "['Ichiro_Suzuki', 'SEA', 'Outfielder', '69', '172', '33.36', 'Outfielder']\n",
      "['Mike_Morse', 'SEA', 'Outfielder', '76', '220', '24.94', 'Outfielder']\n",
      "['Felix_Hernandez', 'SEA', 'Starting_Pitcher', '75', '225', '20.9', 'Pitcher']\n",
      "['Ryan_Feierabend', 'SEA', 'Starting_Pitcher', '75', '190', '21.52', 'Pitcher']\n",
      "['Sean_White', 'SEA', 'Starting_Pitcher', '76', '195', '25.85', 'Pitcher']\n",
      "['Horacio_Ramirez', 'SEA', 'Starting_Pitcher', '73', '219', '27.27', 'Pitcher']\n",
      "['Cha_Baek', 'SEA', 'Starting_Pitcher', '76', '190', '26.75', 'Pitcher']\n",
      "['Miguel_Batista', 'SEA', 'Starting_Pitcher', '73', '197', '36.03', 'Pitcher']\n",
      "['Jeff_Weaver', 'SEA', 'Starting_Pitcher', '77', '200', '30.52', 'Pitcher']\n",
      "['Jarrod_Washburn', 'SEA', 'Starting_Pitcher', '73', '195', '32.55', 'Pitcher']\n",
      "['George_Sherrill', 'SEA', 'Relief_Pitcher', '72', '210', '29.86', 'Pitcher']\n",
      "['Julio_Mateo', 'SEA', 'Relief_Pitcher', '72', '177', '29.58', 'Pitcher']\n",
      "['J.J._Putz', 'SEA', 'Relief_Pitcher', '77', '220', '30.02', 'Pitcher']\n",
      "['Chris_Reitsma', 'SEA', 'Relief_Pitcher', '77', '235', '29.16', 'Pitcher']\n",
      "['Cesar_Jimenez', 'SEA', 'Relief_Pitcher', '71', '180', '22.3', 'Pitcher']\n",
      "[\"Eric_O'Flaherty\", 'SEA', 'Relief_Pitcher', '74', '195', '22.06', 'Pitcher']\n",
      "['Jon_Huber', 'SEA', 'Relief_Pitcher', '74', '195', '25.65', 'Pitcher']\n",
      "['Jake_Woods', 'SEA', 'Relief_Pitcher', '73', '190', '25.49', 'Pitcher']\n",
      "['Sean_Green', 'SEA', 'Relief_Pitcher', '78', '230', '27.86', 'Pitcher']\n",
      "['Mark_Lowe', 'SEA', 'Relief_Pitcher', '75', '190', '23.73', 'Pitcher']\n",
      "['Josh_Paul', 'TB', 'Catcher', '73', '200', '31.78', 'Catcher']\n",
      "['Dioner_Navarro', 'TB', 'Catcher', '70', '190', '23.06', 'Catcher']\n",
      "['Shawn_Riggans', 'TB', 'Catcher', '74', '190', '26.6', 'Catcher']\n",
      "['Ty_Wigginton', 'TB', 'First_Baseman', '72', '200', '29.39', 'Infielder']\n",
      "['Brendan_Harris', 'TB', 'Second_Baseman', '73', '200', '26.51', 'Infielder']\n",
      "['Jorge_Cantu', 'TB', 'Second_Baseman', '73', '184', '25.08', 'Infielder']\n",
      "['Ben_Zobrist', 'TB', 'Shortstop', '75', '200', '25.76', 'Infielder']\n",
      "['B.J._Upton', 'TB', 'Third_Baseman', '75', '180', '22.52', 'Infielder']\n",
      "['Carl_Crawford', 'TB', 'Outfielder', '74', '219', '25.57', 'Outfielder']\n",
      "['Rocco_Baldelli', 'TB', 'Outfielder', '76', '187', '25.43', 'Outfielder']\n",
      "['Greg_Norton', 'TB', 'Outfielder', '73', '200', '34.65', 'Outfielder']\n",
      "['Elijah_Dukes', 'TB', 'Outfielder', '74', '220', '22.68', 'Outfielder']\n",
      "['Delmon_Young', 'TB', 'Outfielder', '75', '205', '21.46', 'Outfielder']\n",
      "['Edwin_Jackson', 'TB', 'Starting_Pitcher', '75', '190', '23.47', 'Pitcher']\n",
      "['Scott_Kazmir', 'TB', 'Starting_Pitcher', '72', '170', '23.1', 'Pitcher']\n",
      "['Casey_Fossum', 'TB', 'Starting_Pitcher', '73', '160', '29.14', 'Pitcher']\n",
      "['Jae_Seo', 'TB', 'Starting_Pitcher', '73', '215', '29.77', 'Pitcher']\n",
      "['J.P._Howell', 'TB', 'Starting_Pitcher', '72', '175', '23.85', 'Pitcher']\n",
      "['Tim_Corcoran', 'TB', 'Starting_Pitcher', '74', '205', '28.88', 'Pitcher']\n",
      "['Jason_Hammel', 'TB', 'Starting_Pitcher', '78', '200', '24.49', 'Pitcher']\n",
      "['James_Shields', 'TB', 'Starting_Pitcher', '76', '214', '25.19', 'Pitcher']\n",
      "['Brian_Stokes', 'TB', 'Starting_Pitcher', '73', '200', '27.48', 'Pitcher']\n",
      "['Juan_Salas', 'TB', 'Relief_Pitcher', '74', '190', '28.31', 'Pitcher']\n",
      "['Jeff_Ridgway', 'TB', 'Relief_Pitcher', '75', '180', '26.54', 'Pitcher']\n",
      "['Ruddy_Lugo', 'TB', 'Relief_Pitcher', '70', '205', '26.77', 'Pitcher']\n",
      "['Jae-Kuk_Ryu', 'TB', 'Relief_Pitcher', '75', '220', '23.75', 'Pitcher']\n",
      "['Chad_Orvella', 'TB', 'Relief_Pitcher', '71', '190', '26.41', 'Pitcher']\n",
      "['Dan_Miceli', 'TB', 'Relief_Pitcher', '72', '215', '36.47', 'Pitcher']\n",
      "['Seth_McClung', 'TB', 'Relief_Pitcher', '78', '235', '26.06', 'Pitcher']\n",
      "['Jon_Switzer', 'TB', 'Relief_Pitcher', '75', '191', '27.55', 'Pitcher']\n",
      "['Shawn_Camp', 'TB', 'Relief_Pitcher', '73', '200', '31.28', 'Pitcher']\n",
      "['Scott_Dohmann', 'TB', 'Relief_Pitcher', '73', '181', '29.04', 'Pitcher']\n",
      "['Jason_LaRue', 'KC', 'Catcher', '71', '200', '32.95', 'Catcher']\n",
      "['John_Buck', 'KC', 'Catcher', '75', '210', '26.65', 'Catcher']\n",
      "['Ryan_Shealy', 'KC', 'First_Baseman', '77', '240', '27.5', 'Infielder']\n",
      "['Ross_Gload', 'KC', 'First_Baseman', '72', '185', '30.9', 'Infielder']\n",
      "['Esteban_German', 'KC', 'Second_Baseman', '69', '165', '29.09', 'Infielder']\n",
      "['Mark_Grudzielanek', 'KC', 'Second_Baseman', '73', '190', '36.67', 'Infielder']\n",
      "['Angel_Sanchez', 'KC', 'Second_Baseman', '74', '185', '23.44', 'Infielder']\n",
      "['Angel_Berroa', 'KC', 'Shortstop', '72', '175', '29.09', 'Infielder']\n",
      "['Andres_Blanco', 'KC', 'Shortstop', '70', '155', '22.89', 'Infielder']\n",
      "['Mark_Teahen', 'KC', 'Third_Baseman', '75', '210', '25.48', 'Infielder']\n",
      "['Joey_Gathright', 'KC', 'Outfielder', '70', '170', '25.84', 'Outfielder']\n",
      "['David_DeJesus', 'KC', 'Outfielder', '72', '175', '27.2', 'Outfielder']\n",
      "['Shane_Costa', 'KC', 'Outfielder', '72', '220', '25.22', 'Outfielder']\n",
      "['Mitch_Maier', 'KC', 'Outfielder', '74', '210', '24.67', 'Outfielder']\n",
      "['Reggie_Sanders', 'KC', 'Outfielder', '73', '205', '39.25', 'Outfielder']\n",
      "['Emil_Brown', 'KC', 'Outfielder', '74', '200', '32.17', 'Outfielder']\n",
      "['John_Bale', 'KC', 'Starting_Pitcher', '76', '205', '32.77', 'Pitcher']\n",
      "['Luke_Hudson', 'KC', 'Starting_Pitcher', '75', '195', '29.83', 'Pitcher']\n",
      "['Scott_Elarton', 'KC', 'Starting_Pitcher', '80', '240', '31.02', 'Pitcher']\n",
      "['Odalis_Perez', 'KC', 'Starting_Pitcher', '72', '150', '29.73', 'Pitcher']\n",
      "['Gil_Meche', 'KC', 'Starting_Pitcher', '75', '200', '28.48', 'Pitcher']\n",
      "['Neal_Musser', 'KC', 'Starting_Pitcher', '73', '215', '26.51', 'Pitcher']\n",
      "['Brian_Bannister', 'KC', 'Starting_Pitcher', '74', '202', '26', 'Pitcher']\n",
      "['Zack_Greinke', 'KC', 'Starting_Pitcher', '74', '200', '23.36', 'Pitcher']\n",
      "['Jorge_De_La_Rosa', 'KC', 'Starting_Pitcher', '73', '190', '25.9', 'Pitcher']\n",
      "['Todd_Wellemeyer', 'KC', 'Relief_Pitcher', '75', '205', '28.5', 'Pitcher']\n",
      "['Jimmy_Gobble', 'KC', 'Relief_Pitcher', '75', '190', '25.62', 'Pitcher']\n",
      "['Joel_Peralta', 'KC', 'Relief_Pitcher', '71', '160', '30.94', 'Pitcher']\n",
      "['Ryan_Braun', 'KC', 'Relief_Pitcher', '73', '215', '26.59', 'Pitcher']\n",
      "['Joakim_Soria', 'KC', 'Relief_Pitcher', '75', '185', '22.78', 'Pitcher']\n",
      "['Ken_Ray', 'KC', 'Relief_Pitcher', '74', '200', '32.26', 'Pitcher']\n",
      "['David_Riske', 'KC', 'Relief_Pitcher', '74', '190', '30.35', 'Pitcher']\n",
      "['Octavio_Dotel', 'KC', 'Relief_Pitcher', '72', '210', '33.26', 'Pitcher']\n",
      "['Joe_Nelson', 'KC', 'Relief_Pitcher', '74', '185', '32.35', 'Pitcher']\n",
      "['Gerald_Laird', 'TEX', 'Catcher', '74', '220', '27.3', 'Catcher']\n",
      "['Miguel_Ojeda', 'TEX', 'Catcher', '74', '190', '32.08', 'Catcher']\n",
      "['Guillermo_Quiroz', 'TEX', 'Catcher', '73', '202', '25.25', 'Catcher']\n",
      "['Chris_Stewart', 'TEX', 'Catcher', '76', '205', '25.03', 'Catcher']\n",
      "['Mark_Teixeira', 'TEX', 'First_Baseman', '75', '220', '26.89', 'Infielder']\n",
      "['Ian_Kinsler', 'TEX', 'Second_Baseman', '72', '175', '24.69', 'Infielder']\n",
      "['Joaquin_Arias', 'TEX', 'Shortstop', '73', '160', '22.44', 'Infielder']\n",
      "['Michael_Young', 'TEX', 'Shortstop', '73', '190', '30.36', 'Infielder']\n",
      "['Hank_Blalock', 'TEX', 'Third_Baseman', '73', '200', '26.27', 'Infielder']\n",
      "['Marlon_Byrd', 'TEX', 'Outfielder', '72', '229', '29.5', 'Outfielder']\n",
      "['Brad_Wilkerson', 'TEX', 'Outfielder', '72', '206', '29.75', 'Outfielder']\n",
      "['Sammy_Sosa', 'TEX', 'Outfielder', '72', '220', '38.3', 'Outfielder']\n",
      "['Kenny_Lofton', 'TEX', 'Outfielder', '72', '180', '39.75', 'Outfielder']\n",
      "['Frank_Catalanotto', 'TEX', 'Outfielder', '71', '195', '32.84', 'Outfielder']\n",
      "['Nelson_Cruz', 'TEX', 'Outfielder', '75', '175', '26.66', 'Outfielder']\n",
      "['Robinson_Tejeda', 'TEX', 'Starting_Pitcher', '75', '188', '24.94', 'Pitcher']\n",
      "['John_Rheinecker', 'TEX', 'Starting_Pitcher', '74', '230', '27.76', 'Pitcher']\n",
      "['Edinson_Volquez', 'TEX', 'Starting_Pitcher', '73', '190', '23.66', 'Pitcher']\n",
      "['A.J._Murray', 'TEX', 'Starting_Pitcher', '75', '200', '24.96', 'Pitcher']\n",
      "['Brandon_McCarthy', 'TEX', 'Starting_Pitcher', '79', '190', '23.65', 'Pitcher']\n",
      "['Vicente_Padilla', 'TEX', 'Starting_Pitcher', '74', '219', '29.42', 'Pitcher']\n",
      "['Kevin_Millwood', 'TEX', 'Starting_Pitcher', '76', '235', '32.18', 'Pitcher']\n",
      "['John_Koronka', 'TEX', 'Starting_Pitcher', '73', '180', '26.66', 'Pitcher']\n",
      "['Frank_Francisco', 'TEX', 'Relief_Pitcher', '74', '180', '27.47', 'Pitcher']\n",
      "['Francisco_Cruceta', 'TEX', 'Relief_Pitcher', '74', '180', '25.66', 'Pitcher']\n",
      "['Akinori_Otsuka', 'TEX', 'Relief_Pitcher', '72', '200', '35.13', 'Pitcher']\n",
      "['Eric_Gagne', 'TEX', 'Relief_Pitcher', '74', '234', '31.15', 'Pitcher']\n",
      "['Ron_Mahay', 'TEX', 'Relief_Pitcher', '74', '185', '35.67', 'Pitcher']\n",
      "['Joaquin_Benoit', 'TEX', 'Relief_Pitcher', '75', '220', '29.6', 'Pitcher']\n",
      "['Rick_Bauer', 'TEX', 'Relief_Pitcher', '78', '223', '30.14', 'Pitcher']\n",
      "['Josh_Rupe', 'TEX', 'Relief_Pitcher', '74', '200', '24.53', 'Pitcher']\n",
      "['Wes_Littleton', 'TEX', 'Relief_Pitcher', '74', '210', '24.49', 'Pitcher']\n",
      "['C.J._Wilson', 'TEX', 'Relief_Pitcher', '74', '200', '26.28', 'Pitcher']\n",
      "['Scott_Feldman', 'TEX', 'Relief_Pitcher', '77', '210', '24.06', 'Pitcher']\n",
      "['Gregg_Zaun', 'TOR', 'Catcher', '70', '190', '35.88', 'Catcher']\n",
      "['Jason_Phillips', 'TOR', 'Catcher', '73', '177', '30.42', 'Catcher']\n",
      "['Lyle_Overbay', 'TOR', 'First_Baseman', '74', '227', '30.09', 'Infielder']\n",
      "['Russ_Adams', 'TOR', 'Second_Baseman', '73', '180', '26.5', 'Infielder']\n",
      "['Aaron_Hill', 'TOR', 'Second_Baseman', '71', '195', '24.94', 'Infielder']\n",
      "['Jason_Smith', 'TOR', 'Second_Baseman', '75', '199', '29.6', 'Infielder']\n",
      "['John_McDonald', 'TOR', 'Shortstop', '71', '175', '32.43', 'Infielder']\n",
      "['Royce_Clayton', 'TOR', 'Shortstop', '72', '185', '37.16', 'Infielder']\n",
      "['Troy_Glaus', 'TOR', 'Third_Baseman', '77', '240', '30.57', 'Infielder']\n",
      "['John_Hattig', 'TOR', 'Third_Baseman', '74', '210', '27.01', 'Infielder']\n",
      "['Reed_Johnson', 'TOR', 'Outfielder', '70', '180', '30.23', 'Outfielder']\n",
      "['Alex_Rios', 'TOR', 'Outfielder', '77', '194', '26.03', 'Outfielder']\n",
      "['Vernon_Wells', 'TOR', 'Outfielder', '73', '225', '28.23', 'Outfielder']\n",
      "['Shaun_Marcum', 'TOR', 'Starting_Pitcher', '72', '180', '25.21', 'Pitcher']\n",
      "['Casey_Janssen', 'TOR', 'Starting_Pitcher', '76', '205', '25.45', 'Pitcher']\n",
      "['Gustavo_Chacin', 'TOR', 'Starting_Pitcher', '71', '193', '26.24', 'Pitcher']\n",
      "['A.J._Burnett', 'TOR', 'Starting_Pitcher', '76', '230', '30.15', 'Pitcher']\n",
      "['Roy_Halladay', 'TOR', 'Starting_Pitcher', '78', '230', '29.8', 'Pitcher']\n",
      "['John_Thomson', 'TOR', 'Starting_Pitcher', '75', '220', '33.41', 'Pitcher']\n",
      "['Tomo_Ohka', 'TOR', 'Starting_Pitcher', '73', '200', '30.95', 'Pitcher']\n",
      "['B.J._Ryan', 'TOR', 'Relief_Pitcher', '78', '249', '31.17', 'Pitcher']\n",
      "['Scott_Downs', 'TOR', 'Relief_Pitcher', '74', '190', '30.95', 'Pitcher']\n",
      "['Brian_Tallet', 'TOR', 'Relief_Pitcher', '79', '208', '29.44', 'Pitcher']\n",
      "['Matt_Roney', 'TOR', 'Relief_Pitcher', '75', '245', '27.14', 'Pitcher']\n",
      "['Tracy_Thorpe', 'TOR', 'Relief_Pitcher', '76', '250', '26.21', 'Pitcher']\n",
      "['Jean_Machi', 'TOR', 'Relief_Pitcher', '72', '160', '24.08', 'Pitcher']\n",
      "['Brandon_League', 'TOR', 'Relief_Pitcher', '75', '192', '23.96', 'Pitcher']\n",
      "['Dustin_McGowan', 'TOR', 'Relief_Pitcher', '75', '220', '24.94', 'Pitcher']\n",
      "['Jason_Frasor', 'TOR', 'Relief_Pitcher', '70', '170', '29.56', 'Pitcher']\n",
      "['Francisco_Rosario', 'TOR', 'Relief_Pitcher', '72', '197', '26.42', 'Pitcher']\n",
      "['Davis_Romero', 'TOR', 'Relief_Pitcher', '70', '155', '23.92', 'Pitcher']\n",
      "['Jeremy_Accardo', 'TOR', 'Relief_Pitcher', '74', '190', '25.23', 'Pitcher']\n",
      "['Mike_Redmond', 'MIN', 'Catcher', '71', '200', '35.82', 'Catcher']\n",
      "['Joe_Mauer', 'MIN', 'Catcher', '76', '220', '23.87', 'Catcher']\n",
      "['Chris_Heintz', 'MIN', 'Catcher', '73', '210', '32.57', 'Catcher']\n",
      "['Justin_Morneau', 'MIN', 'First_Baseman', '76', '228', '25.79', 'Infielder']\n",
      "['Luis_Castillo', 'MIN', 'Second_Baseman', '71', '190', '31.47', 'Infielder']\n",
      "['Alexi_Casilla', 'MIN', 'Second_Baseman', '69', '160', '22.61', 'Infielder']\n",
      "['Alejandro_Machado', 'MIN', 'Second_Baseman', '72', '184', '24.85', 'Infielder']\n",
      "['Jason_Bartlett', 'MIN', 'Shortstop', '72', '180', '27.33', 'Infielder']\n",
      "['Luis_Rodriguez', 'MIN', 'Third_Baseman', '69', '180', '26.67', 'Infielder']\n",
      "['Jeff_Cirillo', 'MIN', 'Third_Baseman', '73', '200', '37.43', 'Infielder']\n",
      "['Nick_Punto', 'MIN', 'Third_Baseman', '69', '176', '29.31', 'Infielder']\n",
      "['Jason_Tyner', 'MIN', 'Outfielder', '73', '160', '29.85', 'Outfielder']\n",
      "['Michael_Cuddyer', 'MIN', 'Outfielder', '74', '222', '27.93', 'Outfielder']\n",
      "['Torii_Hunter', 'MIN', 'Outfielder', '74', '211', '31.62', 'Outfielder']\n",
      "['Lew_Ford', 'MIN', 'Outfielder', '72', '195', '30.55', 'Outfielder']\n",
      "['Jason_Kubel', 'MIN', 'Outfielder', '71', '200', '24.77', 'Outfielder']\n",
      "['Ramon_Ortiz', 'MIN', 'Starting_Pitcher', '72', '175', '33.77', 'Pitcher']\n",
      "['Johan_Santana', 'MIN', 'Starting_Pitcher', '72', '206', '27.97', 'Pitcher']\n",
      "['Carlos_Silva', 'MIN', 'Starting_Pitcher', '76', '240', '27.85', 'Pitcher']\n",
      "['Matt_Garza', 'MIN', 'Starting_Pitcher', '76', '185', '23.26', 'Pitcher']\n",
      "['Boof_Bonser', 'MIN', 'Starting_Pitcher', '76', '260', '25.38', 'Pitcher']\n",
      "['Francisco_Liriano', 'MIN', 'Starting_Pitcher', '74', '185', '23.35', 'Pitcher']\n",
      "['Scott_Baker', 'MIN', 'Starting_Pitcher', '76', '221', '25.45', 'Pitcher']\n",
      "['Pat_Neshek', 'MIN', 'Relief_Pitcher', '75', '205', '26.49', 'Pitcher']\n",
      "['Glen_Perkins', 'MIN', 'Relief_Pitcher', '71', '200', '24', 'Pitcher']\n",
      "['Julio_DePaula', 'MIN', 'Relief_Pitcher', '72', '170', '24.16', 'Pitcher']\n",
      "['Juan_Rincon', 'MIN', 'Relief_Pitcher', '71', '201', '28.1', 'Pitcher']\n",
      "['Jesse_Crain', 'MIN', 'Relief_Pitcher', '73', '205', '25.65', 'Pitcher']\n",
      "['Matt_Guerrier', 'MIN', 'Relief_Pitcher', '75', '185', '28.58', 'Pitcher']\n",
      "['Joe_Nathan', 'MIN', 'Relief_Pitcher', '76', '205', '32.27', 'Pitcher']\n",
      "['Dennys_Reyes', 'MIN', 'Relief_Pitcher', '75', '245', '29.86', 'Pitcher']\n",
      "['Brayan_Pe?a', 'ATL', 'Catcher', '71', '220', '25.14', 'Catcher']\n",
      "['Brian_McCann', 'ATL', 'Catcher', '75', '210', '23.03', 'Catcher']\n",
      "['Craig_Wilson', 'ATL', 'First_Baseman', '74', '220', '30.25', 'Infielder']\n",
      "['Chris_Woodward', 'ATL', 'Second_Baseman', '72', '185', '30.67', 'Infielder']\n",
      "['Pete_Orr', 'ATL', 'Second_Baseman', '73', '175', '27.73', 'Infielder']\n",
      "['Martin_Prado', 'ATL', 'Second_Baseman', '73', '170', '23.34', 'Infielder']\n",
      "['Tony_Pe?a', 'ATL', 'Shortstop', '73', '180', '25.94', 'Infielder']\n",
      "['Edgar_Renteria', 'ATL', 'Shortstop', '73', '200', '31.56', 'Infielder']\n",
      "['Chipper_Jones', 'ATL', 'Third_Baseman', '76', '210', '34.85', 'Infielder']\n",
      "['Willy_Aybar', 'ATL', 'Third_Baseman', '72', '175', '23.98', 'Infielder']\n",
      "['Jeff_Francoeur', 'ATL', 'Outfielder', '76', '220', '23.14', 'Outfielder']\n",
      "['Matt_Diaz', 'ATL', 'Outfielder', '73', '206', '28.99', 'Outfielder']\n",
      "['Kelly_Johnson', 'ATL', 'Outfielder', '73', '180', '25.02', 'Outfielder']\n",
      "['Andruw_Jones', 'ATL', 'Outfielder', '73', '210', '29.85', 'Outfielder']\n",
      "['Ryan_Langerhans', 'ATL', 'Outfielder', '75', '195', '27.03', 'Outfielder']\n",
      "['Scott_Thorman', 'ATL', 'Outfielder', '75', '200', '25.15', 'Outfielder']\n",
      "['T.J._Bohn', 'ATL', 'Outfielder', '77', '200', '27.12', 'Outfielder']\n",
      "['Tim_Hudson', 'ATL', 'Starting_Pitcher', '73', '164', '31.63', 'Pitcher']\n",
      "['Jonathan_Johnson', 'ATL', 'Starting_Pitcher', '72', '180', '32.62', 'Pitcher']\n",
      "['John_Smoltz', 'ATL', 'Starting_Pitcher', '75', '220', '39.79', 'Pitcher']\n",
      "['Mike_Hampton', 'ATL', 'Starting_Pitcher', '70', '195', '34.47', 'Pitcher']\n",
      "['Kyle_Davies', 'ATL', 'Starting_Pitcher', '74', '205', '23.47', 'Pitcher']\n",
      "['Chuck_James', 'ATL', 'Starting_Pitcher', '72', '170', '25.31', 'Pitcher']\n",
      "['Phil_Stockman', 'ATL', 'Relief_Pitcher', '80', '240', '27.1', 'Pitcher']\n",
      "['Macay_McBride', 'ATL', 'Relief_Pitcher', '71', '210', '24.35', 'Pitcher']\n",
      "['Joey_Devine', 'ATL', 'Relief_Pitcher', '71', '195', '23.45', 'Pitcher']\n",
      "['Peter_Moylan', 'ATL', 'Relief_Pitcher', '74', '200', '28.24', 'Pitcher']\n",
      "['Mike_Gonzalez', 'ATL', 'Relief_Pitcher', '74', '205', '28.77', 'Pitcher']\n",
      "['Lance_Cormier', 'ATL', 'Relief_Pitcher', '73', '192', '26.53', 'Pitcher']\n",
      "['Blaine_Boyer', 'ATL', 'Relief_Pitcher', '75', '190', '25.64', 'Pitcher']\n",
      "['Manny_Acosta', 'ATL', 'Relief_Pitcher', '76', '170', '25.83', 'Pitcher']\n",
      "['Bob_Wickman', 'ATL', 'Relief_Pitcher', '73', '240', '38.06', 'Pitcher']\n",
      "['Tanyon_Sturtze', 'ATL', 'Relief_Pitcher', '77', '200', '36.38', 'Pitcher']\n",
      "['Oscar_Villarreal', 'ATL', 'Relief_Pitcher', '72', '205', '25.27', 'Pitcher']\n",
      "['Rafael_Soriano', 'ATL', 'Relief_Pitcher', '73', '175', '27.2', 'Pitcher']\n",
      "['Chad_Paronto', 'ATL', 'Relief_Pitcher', '77', '250', '31.59', 'Pitcher']\n",
      "['Tyler_Yates', 'ATL', 'Relief_Pitcher', '76', '220', '29.56', 'Pitcher']\n",
      "['Henry_Blanco', 'CHC', 'Catcher', '71', '224', '35.5', 'Catcher']\n",
      "['Michael_Barrett', 'CHC', 'Catcher', '75', '210', '30.35', 'Catcher']\n",
      "['Geovany_Soto', 'CHC', 'Catcher', '73', '195', '24.11', 'Catcher']\n",
      "['Scott_Moore', 'CHC', 'First_Baseman', '74', '180', '23.29', 'Infielder']\n",
      "['Derrek_Lee', 'CHC', 'First_Baseman', '77', '245', '31.48', 'Infielder']\n",
      "['Ryan_Theriot', 'CHC', 'Second_Baseman', '71', '175', '27.23', 'Infielder']\n",
      "['Ronny_Cedeno', 'CHC', 'Shortstop', '72', '180', '24.07', 'Infielder']\n",
      "['Aramis_Ramirez', 'CHC', 'Third_Baseman', '73', '215', '28.68', 'Infielder']\n",
      "['Cesar_Izturis', 'CHC', 'Third_Baseman', '69', '175', '27.05', 'Infielder']\n",
      "['Alfonso_Soriano', 'CHC', 'Outfielder', '73', '180', '31.15', 'Outfielder']\n",
      "['Jacque_Jones', 'CHC', 'Outfielder', '70', '195', '31.85', 'Outfielder']\n",
      "['Daryle_Ward', 'CHC', 'Outfielder', '74', '230', '31.68', 'Outfielder']\n",
      "['Cliff_Floyd', 'CHC', 'Outfielder', '76', '230', '34.23', 'Outfielder']\n",
      "['Mark_DeRosa', 'CHC', 'Outfielder', '73', '205', '32.01', 'Outfielder']\n",
      "['Matt_Murton', 'CHC', 'Outfielder', '73', '215', '25.41', 'Outfielder']\n",
      "['Buck_Coats', 'CHC', 'Outfielder', '75', '195', '24.73', 'Outfielder']\n",
      "['Angel_Pagan', 'CHC', 'Outfielder', '73', '180', '25.66', 'Outfielder']\n",
      "['Sean_Marshall', 'CHC', 'Starting_Pitcher', '79', '205', '24.5', 'Pitcher']\n",
      "['Carlos_Marmol', 'CHC', 'Starting_Pitcher', '74', '180', '24.38', 'Pitcher']\n",
      "[\"Ryan_O'Malley\", 'CHC', 'Starting_Pitcher', '73', '190', '26.89', 'Pitcher']\n",
      "['Juan_Mateo', 'CHC', 'Starting_Pitcher', '74', '180', '24.2', 'Pitcher']\n",
      "['Rich_Hill', 'CHC', 'Starting_Pitcher', '77', '190', '26.97', 'Pitcher']\n",
      "['Angel_Guzman', 'CHC', 'Starting_Pitcher', '75', '190', '25.21', 'Pitcher']\n",
      "['Wade_Miller', 'CHC', 'Starting_Pitcher', '74', '220', '30.46', 'Pitcher']\n",
      "['Jason_Marquis', 'CHC', 'Starting_Pitcher', '73', '210', '28.53', 'Pitcher']\n",
      "['Carlos_Zambrano', 'CHC', 'Starting_Pitcher', '77', '255', '25.75', 'Pitcher']\n",
      "['Ted_Lilly', 'CHC', 'Starting_Pitcher', '73', '190', '31.15', 'Pitcher']\n",
      "['Mark_Prior', 'CHC', 'Starting_Pitcher', '77', '230', '26.48', 'Pitcher']\n",
      "['Neal_Cotts', 'CHC', 'Relief_Pitcher', '74', '200', '26.93', 'Pitcher']\n",
      "['Will_Ohman', 'CHC', 'Relief_Pitcher', '74', '205', '29.55', 'Pitcher']\n",
      "['Scott_Eyre', 'CHC', 'Relief_Pitcher', '73', '210', '34.75', 'Pitcher']\n",
      "['Kerry_Wood', 'CHC', 'Relief_Pitcher', '77', '225', '29.71', 'Pitcher']\n",
      "['Ryan_Dempster', 'CHC', 'Relief_Pitcher', '74', '215', '29.83', 'Pitcher']\n",
      "['Bob_Howry', 'CHC', 'Relief_Pitcher', '77', '220', '33.57', 'Pitcher']\n",
      "['Mike_Wuertz', 'CHC', 'Relief_Pitcher', '75', '205', '28.21', 'Pitcher']\n",
      "['Roberto_Novoa', 'CHC', 'Relief_Pitcher', '77', '200', '27.54', 'Pitcher']\n",
      "['Chris_Snyder', 'ARZ', 'Catcher', '75', '220', '26.05', 'Catcher']\n",
      "['Miguel_Montero', 'ARZ', 'Catcher', '71', '197', '23.64', 'Catcher']\n",
      "['Conor_Jackson', 'ARZ', 'First_Baseman', '74', '225', '24.82', 'Infielder']\n",
      "['Robby_Hammock', 'ARZ', 'First_Baseman', '70', '187', '29.8', 'Infielder']\n",
      "['Tony_Clark', 'ARZ', 'First_Baseman', '79', '245', '34.71', 'Infielder']\n",
      "['Orlando_Hudson', 'ARZ', 'Second_Baseman', '72', '185', '29.22', 'Infielder']\n",
      "['Stephen_Drew', 'ARZ', 'Shortstop', '72', '185', '23.96', 'Infielder']\n",
      "['Alberto_Callaspo', 'ARZ', 'Shortstop', '70', '175', '23.87', 'Infielder']\n",
      "['Chad_Tracy', 'ARZ', 'Third_Baseman', '74', '200', '26.77', 'Infielder']\n",
      "['Chris_Young', 'ARZ', 'Outfielder', '74', '180', '23.49', 'Outfielder']\n",
      "['Scott_Hairston', 'ARZ', 'Outfielder', '72', '188', '26.77', 'Outfielder']\n",
      "['Carlos_Quentin', 'ARZ', 'Outfielder', '73', '225', '24.51', 'Outfielder']\n",
      "['Jeff_DaVanon', 'ARZ', 'Outfielder', '72', '200', '33.23', 'Outfielder']\n",
      "['Eric_Byrnes', 'ARZ', 'Outfielder', '74', '210', '31.04', 'Outfielder']\n",
      "['Livan_Hernandez', 'ARZ', 'Starting_Pitcher', '74', '245', '32.02', 'Pitcher']\n",
      "['Doug_Davis', 'ARZ', 'Starting_Pitcher', '76', '213', '31.44', 'Pitcher']\n",
      "['Randy_Johnson', 'ARZ', 'Starting_Pitcher', '82', '231', '43.47', 'Pitcher']\n",
      "['Juan_Cruz', 'ARZ', 'Starting_Pitcher', '74', '165', '28.38', 'Pitcher']\n",
      "['Brandon_Webb', 'ARZ', 'Starting_Pitcher', '74', '228', '27.81', 'Pitcher']\n",
      "['Enrique_Gonzalez', 'ARZ', 'Starting_Pitcher', '70', '210', '24.57', 'Pitcher']\n",
      "['Dana_Eveland', 'ARZ', 'Starting_Pitcher', '73', '250', '23.34', 'Pitcher']\n",
      "['Brandon_Medders', 'ARZ', 'Relief_Pitcher', '73', '191', '27.09', 'Pitcher']\n",
      "['Tony_Pe?a', 'ARZ', 'Relief_Pitcher', '74', '190', '25.14', 'Pitcher']\n",
      "['Doug_Slaten', 'ARZ', 'Relief_Pitcher', '77', '200', '27.07', 'Pitcher']\n",
      "['Edgar_Gonzalez', 'ARZ', 'Relief_Pitcher', '72', '215', '24.02', 'Pitcher']\n",
      "['Jose_Valverde', 'ARZ', 'Relief_Pitcher', '76', '254', '27.6', 'Pitcher']\n",
      "['Jorge_Julio', 'ARZ', 'Relief_Pitcher', '73', '232', '27.99', 'Pitcher']\n",
      "['Brandon_Lyon', 'ARZ', 'Relief_Pitcher', '73', '180', '27.56', 'Pitcher']\n",
      "['Miguel_Olivo', 'FLA', 'Catcher', '72', '215', '28.63', 'Catcher']\n",
      "['Matt_Treanor', 'FLA', 'Catcher', '74', '220', '30.99', 'Catcher']\n",
      "['Mike_Jacobs', 'FLA', 'First_Baseman', '74', '180', '26.33', 'Infielder']\n",
      "['Dan_Uggla', 'FLA', 'Second_Baseman', '71', '200', '26.97', 'Infielder']\n",
      "['Robert_Andino', 'FLA', 'Shortstop', '72', '170', '22.85', 'Infielder']\n",
      "['Hanley_Ramirez', 'FLA', 'Shortstop', '75', '195', '23.19', 'Infielder']\n",
      "['Miguel_Cabrera', 'FLA', 'Third_Baseman', '74', '210', '23.87', 'Infielder']\n",
      "['Aaron_Boone', 'FLA', 'Third_Baseman', '74', '200', '33.98', 'Infielder']\n",
      "['Joe_Borchard', 'FLA', 'Outfielder', '77', '220', '28.26', 'Outfielder']\n",
      "['Alfredo_Amezaga', 'FLA', 'Outfielder', '70', '165', '29.12', 'Outfielder']\n",
      "['Cody_Ross', 'FLA', 'Outfielder', '71', '180', '26.18', 'Outfielder']\n",
      "['Josh_Willingham', 'FLA', 'Outfielder', '73', '200', '28.03', 'Outfielder']\n",
      "['Jeremy_Hermida', 'FLA', 'Outfielder', '76', '200', '23.08', 'Outfielder']\n",
      "['Eric_Reed', 'FLA', 'Outfielder', '71', '170', '26.24', 'Outfielder']\n",
      "['Reggi_Abercrombie', 'FLA', 'Outfielder', '75', '224', '26.63', 'Outfielder']\n",
      "['Ricky_Nolasco', 'FLA', 'Starting_Pitcher', '74', '220', '24.21', 'Pitcher']\n",
      "['Anibal_Sanchez', 'FLA', 'Starting_Pitcher', '72', '180', '23.01', 'Pitcher']\n",
      "['Scott_Olsen', 'FLA', 'Starting_Pitcher', '76', '198', '23.13', 'Pitcher']\n",
      "['Josh_Johnson', 'FLA', 'Starting_Pitcher', '79', '240', '23.08', 'Pitcher']\n",
      "['Dontrelle_Willis', 'FLA', 'Starting_Pitcher', '76', '239', '25.13', 'Pitcher']\n",
      "['Logan_Kensing', 'FLA', 'Relief_Pitcher', '73', '185', '24.66', 'Pitcher']\n",
      "['Sergio_Mitre', 'FLA', 'Relief_Pitcher', '76', '210', '26.03', 'Pitcher']\n",
      "['Kevin_Gregg', 'FLA', 'Relief_Pitcher', '78', '220', '28.7', 'Pitcher']\n",
      "['Travis_Bowyer', 'FLA', 'Relief_Pitcher', '75', '200', '25.57', 'Pitcher']\n",
      "['Renyel_Pinto', 'FLA', 'Relief_Pitcher', '76', '195', '24.65', 'Pitcher']\n",
      "['Randy_Messenger', 'FLA', 'Relief_Pitcher', '72', '220', '25.55', 'Pitcher']\n",
      "['Yusmeiro_Petit', 'FLA', 'Relief_Pitcher', '72', '230', '22.27', 'Pitcher']\n",
      "['Carlos_Martinez', 'FLA', 'Relief_Pitcher', '73', '170', '24.76', 'Pitcher']\n",
      "['Taylor_Tankersley', 'FLA', 'Relief_Pitcher', '73', '220', '23.98', 'Pitcher']\n",
      "['Henry_Owens', 'FLA', 'Relief_Pitcher', '75', '230', '27.85', 'Pitcher']\n",
      "['Jose_Garcia', 'FLA', 'Relief_Pitcher', '71', '165', '22.14', 'Pitcher']\n",
      "['Matt_Lindstrom', 'FLA', 'Relief_Pitcher', '76', '205', '27.05', 'Pitcher']\n",
      "['Javier_Valentin', 'CIN', 'Catcher', '70', '192', '31.45', 'Catcher']\n",
      "['Chad_Moeller', 'CIN', 'Catcher', '75', '210', '32.03', 'Catcher']\n",
      "['David_Ross', 'CIN', 'Catcher', '74', '205', '29.95', 'Catcher']\n",
      "['Joey_Votto', 'CIN', 'First_Baseman', '75', '200', '23.47', 'Infielder']\n",
      "['Scott_Hatteberg', 'CIN', 'First_Baseman', '73', '210', '37.21', 'Infielder']\n",
      "['Brandon_Phillips', 'CIN', 'Second_Baseman', '71', '185', '25.67', 'Infielder']\n",
      "['Juan_Castro', 'CIN', 'Shortstop', '71', '195', '34.69', 'Infielder']\n",
      "['Alex_Gonzalez', 'CIN', 'Shortstop', '72', '202', '30.04', 'Infielder']\n",
      "['Mark_Bellhorn', 'CIN', 'Third_Baseman', '73', '205', '32.52', 'Infielder']\n",
      "['Edwin_Encarnacion', 'CIN', 'Third_Baseman', '73', '195', '24.15', 'Infielder']\n",
      "['Jeff_Keppinger', 'CIN', 'Third_Baseman', '72', '180', '26.86', 'Infielder']\n",
      "['Norris_Hopper', 'CIN', 'Outfielder', '69', '200', '27.94', 'Outfielder']\n",
      "['Chris_Denorfia', 'CIN', 'Outfielder', '73', '185', '26.63', 'Outfielder']\n",
      "['Adam_Dunn', 'CIN', 'Outfielder', '78', '240', '27.31', 'Outfielder']\n",
      "['Bubba_Crosby', 'CIN', 'Outfielder', '71', '185', '30.55', 'Outfielder']\n",
      "['Jeff_Conine', 'CIN', 'Outfielder', '73', '220', '40.68', 'Outfielder']\n",
      "['Ken_Griffey_Jr.', 'CIN', 'Outfielder', '75', '205', '37.27', 'Outfielder']\n",
      "['Josh_Hamilton', 'CIN', 'Outfielder', '76', '205', '25.78', 'Outfielder']\n",
      "['Ryan_Freel', 'CIN', 'Outfielder', '70', '180', '30.98', 'Outfielder']\n",
      "['Kyle_Lohse', 'CIN', 'Starting_Pitcher', '74', '201', '28.41', 'Pitcher']\n",
      "['Bronson_Arroyo', 'CIN', 'Starting_Pitcher', '77', '190', '30.01', 'Pitcher']\n",
      "['Eric_Milton', 'CIN', 'Starting_Pitcher', '75', '208', '31.57', 'Pitcher']\n",
      "['Aaron_Harang', 'CIN', 'Starting_Pitcher', '79', '240', '28.81', 'Pitcher']\n",
      "['Elizardo_Ramirez', 'CIN', 'Starting_Pitcher', '72', '180', '24.09', 'Pitcher']\n",
      "['Todd_Coffey', 'CIN', 'Relief_Pitcher', '77', '230', '26.47', 'Pitcher']\n",
      "['Brian_Shackelford', 'CIN', 'Relief_Pitcher', '73', '195', '30.5', 'Pitcher']\n",
      "['Bill_Bray', 'CIN', 'Relief_Pitcher', '75', '215', '23.74', 'Pitcher']\n",
      "['Bobby_Livingston', 'CIN', 'Relief_Pitcher', '75', '190', '24.49', 'Pitcher']\n",
      "['Matt_Belisle', 'CIN', 'Relief_Pitcher', '75', '195', '26.73', 'Pitcher']\n",
      "['Gary_Majewski', 'CIN', 'Relief_Pitcher', '73', '215', '27.01', 'Pitcher']\n",
      "['Mike_Stanton', 'CIN', 'Relief_Pitcher', '73', '215', '39.75', 'Pitcher']\n",
      "['Brad_Salmon', 'CIN', 'Relief_Pitcher', '76', '220', '27.16', 'Pitcher']\n",
      "['Jared_Burton', 'CIN', 'Relief_Pitcher', '77', '220', '25.74', 'Pitcher']\n",
      "['David_Weathers', 'CIN', 'Relief_Pitcher', '75', '230', '37.43', 'Pitcher']\n",
      "['Rheal_Cormier', 'CIN', 'Relief_Pitcher', '70', '195', '39.85', 'Pitcher']\n",
      "['Yorvit_Torrealba', 'COL', 'Catcher', '71', '190', '28.62', 'Catcher']\n",
      "['Chris_Iannetta', 'COL', 'Catcher', '71', '195', '23.9', 'Catcher']\n",
      "['Alvin_Colina', 'COL', 'Catcher', '75', '209', '25.18', 'Catcher']\n",
      "['Todd_Helton', 'COL', 'First_Baseman', '74', '204', '33.53', 'Infielder']\n",
      "['Jamey_Carroll', 'COL', 'Second_Baseman', '69', '170', '33.03', 'Infielder']\n",
      "['Kaz_Matsui', 'COL', 'Second_Baseman', '70', '185', '31.35', 'Infielder']\n",
      "['Troy_Tulowitzki', 'COL', 'Shortstop', '75', '205', '22.39', 'Infielder']\n",
      "['Clint_Barmes', 'COL', 'Shortstop', '72', '175', '27.99', 'Infielder']\n",
      "['Garrett_Atkins', 'COL', 'Third_Baseman', '75', '210', '27.22', 'Infielder']\n",
      "['Ryan_Spilborghs', 'COL', 'Outfielder', '73', '190', '27.49', 'Outfielder']\n",
      "['Cory_Sullivan', 'COL', 'Outfielder', '72', '180', '27.53', 'Outfielder']\n",
      "['Jeff_Salazar', 'COL', 'Outfielder', '72', '180', '26.26', 'Outfielder']\n",
      "['Willy_Taveras', 'COL', 'Outfielder', '72', '160', '25.18', 'Outfielder']\n",
      "['Matt_Holliday', 'COL', 'Outfielder', '76', '235', '27.12', 'Outfielder']\n",
      "['Brad_Hawpe', 'COL', 'Outfielder', '75', '200', '27.69', 'Outfielder']\n",
      "['Jeff_Baker', 'COL', 'Outfielder', '74', '210', '25.69', 'Outfielder']\n",
      "['Byung-Hyun_Kim', 'COL', 'Starting_Pitcher', '69', '180', '28.11', 'Pitcher']\n",
      "['Rodrigo_Lopez', 'COL', 'Starting_Pitcher', '73', '190', '31.21', 'Pitcher']\n",
      "['Brian_Lawrence', 'COL', 'Starting_Pitcher', '72', '197', '30.8', 'Pitcher']\n",
      "['Josh_Fogg', 'COL', 'Starting_Pitcher', '72', '203', '30.21', 'Pitcher']\n",
      "['Aaron_Cook', 'COL', 'Starting_Pitcher', '75', '205', '28.06', 'Pitcher']\n",
      "['Denny_Bautista', 'COL', 'Starting_Pitcher', '77', '170', '26.52', 'Pitcher']\n",
      "['Ubaldo_Jimenez', 'COL', 'Starting_Pitcher', '76', '200', '23.1', 'Pitcher']\n",
      "['Jason_Hirsh', 'COL', 'Starting_Pitcher', '80', '250', '25.02', 'Pitcher']\n",
      "['Jeff_Francis', 'COL', 'Starting_Pitcher', '77', '200', '26.14', 'Pitcher']\n",
      "['Taylor_Buchholz', 'COL', 'Starting_Pitcher', '76', '220', '25.38', 'Pitcher']\n",
      "['Ryan_Speier', 'COL', 'Relief_Pitcher', '79', '200', '27.6', 'Pitcher']\n",
      "['Ramon_Ramirez', 'COL', 'Relief_Pitcher', '71', '190', '25.5', 'Pitcher']\n",
      "['Manny_Corpas', 'COL', 'Relief_Pitcher', '75', '170', '24.24', 'Pitcher']\n",
      "['Juan_Morillo', 'COL', 'Relief_Pitcher', '73', '190', '23.32', 'Pitcher']\n",
      "['Brian_Fuentes', 'COL', 'Relief_Pitcher', '76', '220', '31.56', 'Pitcher']\n",
      "['LaTroy_Hawkins', 'COL', 'Relief_Pitcher', '77', '215', '34.19', 'Pitcher']\n",
      "['Tom_Martin', 'COL', 'Relief_Pitcher', '73', '206', '36.78', 'Pitcher']\n",
      "['Jeremy_Affeldt', 'COL', 'Relief_Pitcher', '76', '215', '27.73', 'Pitcher']\n",
      "['Paul_Lo_Duca', 'NYM', 'Catcher', '70', '185', '34.88', 'Catcher']\n",
      "['Ramon_Castro', 'NYM', 'Catcher', '75', '235', '31', 'Catcher']\n",
      "['Julio_Franco', 'NYM', 'First_Baseman', '73', '188', '48.52', 'Infielder']\n",
      "['Carlos_Delgado', 'NYM', 'First_Baseman', '75', '230', '34.68', 'Infielder']\n",
      "['Jose_Valentin', 'NYM', 'Second_Baseman', '70', '195', '37.38', 'Infielder']\n",
      "['Anderson_Hernandez', 'NYM', 'Second_Baseman', '69', '168', '24.33', 'Infielder']\n",
      "['Damion_Easley', 'NYM', 'Shortstop', '71', '190', '37.3', 'Infielder']\n",
      "['Jose_Reyes', 'NYM', 'Shortstop', '72', '160', '23.72', 'Infielder']\n",
      "['David_Wright', 'NYM', 'Third_Baseman', '72', '200', '24.19', 'Infielder']\n",
      "['Ben_Johnson', 'NYM', 'Outfielder', '73', '200', '25.7', 'Outfielder']\n",
      "['Endy_Chavez', 'NYM', 'Outfielder', '70', '189', '29.06', 'Outfielder']\n",
      "['David_Newhan', 'NYM', 'Outfielder', '70', '180', '33.48', 'Outfielder']\n",
      "['Carlos_Beltran', 'NYM', 'Outfielder', '73', '190', '29.85', 'Outfielder']\n",
      "['Shawn_Green', 'NYM', 'Outfielder', '76', '200', '34.3', 'Outfielder']\n",
      "['Moises_Alou', 'NYM', 'Outfielder', '75', '220', '40.66', 'Outfielder']\n",
      "['Lastings_Milledge', 'NYM', 'Outfielder', '72', '187', '21.9', 'Outfielder']\n",
      "['Alay_Soler', 'NYM', 'Starting_Pitcher', '73', '240', '27.39', 'Pitcher']\n",
      "['Mike_Pelfrey', 'NYM', 'Starting_Pitcher', '79', '190', '23.13', 'Pitcher']\n",
      "['Pedro_Martinez', 'NYM', 'Starting_Pitcher', '71', '180', '35.35', 'Pitcher']\n",
      "['Tom_Glavine', 'NYM', 'Starting_Pitcher', '72', '185', '40.93', 'Pitcher']\n",
      "['Chan_Ho_Park', 'NYM', 'Starting_Pitcher', '74', '210', '33.67', 'Pitcher']\n",
      "['Orlando_Hernandez', 'NYM', 'Starting_Pitcher', '74', '220', '37.39', 'Pitcher']\n",
      "['Dave_Williams', 'NYM', 'Starting_Pitcher', '74', '219', '27.97', 'Pitcher']\n",
      "['Oliver_Perez', 'NYM', 'Starting_Pitcher', '72', '190', '25.54', 'Pitcher']\n",
      "['John_Maine', 'NYM', 'Starting_Pitcher', '76', '193', '25.81', 'Pitcher']\n",
      "['Marcos_Carvajal', 'NYM', 'Relief_Pitcher', '76', '175', '22.53', 'Pitcher']\n",
      "['Ambiorix_Burgos', 'NYM', 'Relief_Pitcher', '72', '180', '22.86', 'Pitcher']\n",
      "['Jason_Vargas', 'NYM', 'Relief_Pitcher', '72', '215', '24.07', 'Pitcher']\n",
      "['Jon_Adkins', 'NYM', 'Relief_Pitcher', '71', '210', '29.5', 'Pitcher']\n",
      "['Juan_Padilla', 'NYM', 'Relief_Pitcher', '72', '200', '30.03', 'Pitcher']\n",
      "['Duaner_Sanchez', 'NYM', 'Relief_Pitcher', '72', '190', '27.38', 'Pitcher']\n",
      "['Pedro_Feliciano', 'NYM', 'Relief_Pitcher', '70', '185', '30.51', 'Pitcher']\n",
      "['Aaron_Heilman', 'NYM', 'Relief_Pitcher', '77', '220', '28.3', 'Pitcher']\n",
      "['Jorge_Sosa', 'NYM', 'Relief_Pitcher', '74', '170', '29.84', 'Pitcher']\n",
      "['Scott_Schoeneweis', 'NYM', 'Relief_Pitcher', '72', '195', '33.41', 'Pitcher']\n",
      "['Guillermo_Mota', 'NYM', 'Relief_Pitcher', '76', '205', '33.6', 'Pitcher']\n",
      "['Billy_Wagner', 'NYM', 'Relief_Pitcher', '71', '195', '35.6', 'Pitcher']\n",
      "['Philip_Humber', 'NYM', 'Relief_Pitcher', '76', '210', '24.19', 'Pitcher']\n",
      "['Brad_Ausmus', 'HOU', 'Catcher', '71', '190', '37.88', 'Catcher']\n",
      "['Humberto_Quintero', 'HOU', 'Catcher', '73', '190', '27.56', 'Catcher']\n",
      "['Hector_Gimenez', 'HOU', 'Catcher', '70', '180', '24.42', 'Catcher']\n",
      "['Lance_Berkman', 'HOU', 'First_Baseman', '73', '220', '31.05', 'Infielder']\n",
      "['Mike_Lamb', 'HOU', 'First_Baseman', '73', '190', '31.56', 'Infielder']\n",
      "['Mark_Loretta', 'HOU', 'Second_Baseman', '72', '186', '35.55', 'Infielder']\n",
      "['Craig_Biggio', 'HOU', 'Second_Baseman', '71', '185', '41.21', 'Infielder']\n",
      "['Brooks_Conrad', 'HOU', 'Second_Baseman', '71', '190', '27.12', 'Infielder']\n",
      "['Chris_Burke', 'HOU', 'Second_Baseman', '71', '180', '26.97', 'Infielder']\n",
      "['Eric_Bruntlett', 'HOU', 'Second_Baseman', '72', '190', '28.92', 'Infielder']\n",
      "['Adam_Everett', 'HOU', 'Shortstop', '72', '170', '30.06', 'Infielder']\n",
      "['Morgan_Ensberg', 'HOU', 'Third_Baseman', '74', '210', '31.51', 'Infielder']\n",
      "['Carlos_Lee', 'HOU', 'Outfielder', '74', '240', '30.69', 'Outfielder']\n",
      "['Jason_Lane', 'HOU', 'Outfielder', '74', '220', '30.19', 'Outfielder']\n",
      "['Orlando_Palmeiro', 'HOU', 'Outfielder', '71', '180', '38.11', 'Outfielder']\n",
      "['Luke_Scott', 'HOU', 'Outfielder', '72', '210', '28.68', 'Outfielder']\n",
      "['Charlton_Jimerson', 'HOU', 'Outfielder', '75', '210', '27.44', 'Outfielder']\n",
      "['Fernando_Nieve', 'HOU', 'Starting_Pitcher', '72', '195', '24.63', 'Pitcher']\n",
      "['Wandy_Rodriguez', 'HOU', 'Starting_Pitcher', '71', '160', '28.11', 'Pitcher']\n",
      "['Brandon_Backe', 'HOU', 'Starting_Pitcher', '72', '180', '28.9', 'Pitcher']\n",
      "['Matt_Albers', 'HOU', 'Starting_Pitcher', '72', '205', '24.11', 'Pitcher']\n",
      "['Woody_Williams', 'HOU', 'Starting_Pitcher', '72', '200', '40.53', 'Pitcher']\n",
      "['Roy_Oswalt', 'HOU', 'Starting_Pitcher', '72', '185', '29.5', 'Pitcher']\n",
      "['Jason_Jennings', 'HOU', 'Starting_Pitcher', '74', '245', '28.62', 'Pitcher']\n",
      "['Miguel_Asencio', 'HOU', 'Relief_Pitcher', '74', '190', '26.42', 'Pitcher']\n",
      "['Brad_Lidge', 'HOU', 'Relief_Pitcher', '77', '210', '30.18', 'Pitcher']\n",
      "['Trever_Miller', 'HOU', 'Relief_Pitcher', '75', '200', '33.75', 'Pitcher']\n",
      "['David_Borkowski', 'HOU', 'Relief_Pitcher', '73', '200', '30.06', 'Pitcher']\n",
      "['Dan_Wheeler', 'HOU', 'Relief_Pitcher', '75', '222', '29.22', 'Pitcher']\n",
      "['Paul_Estrada', 'HOU', 'Relief_Pitcher', '73', '215', '24.47', 'Pitcher']\n",
      "['Lincoln_Holdzkom', 'HOU', 'Relief_Pitcher', '76', '240', '24.94', 'Pitcher']\n",
      "['Chris_Sampson', 'HOU', 'Relief_Pitcher', '72', '170', '28.77', 'Pitcher']\n",
      "['Chad_Qualls', 'HOU', 'Relief_Pitcher', '77', '220', '28.54', 'Pitcher']\n",
      "['Ezequiel_Astacio', 'HOU', 'Relief_Pitcher', '75', '156', '27.32', 'Pitcher']\n",
      "['Mike_Lieberthal', 'LA', 'Catcher', '72', '190', '35.12', 'Catcher']\n",
      "['Russell_Martin', 'LA', 'Catcher', '71', '202', '24.04', 'Catcher']\n",
      "['Olmedo_Saenz', 'LA', 'First_Baseman', '71', '221', '36.39', 'Infielder']\n",
      "['James_Loney', 'LA', 'First_Baseman', '75', '200', '22.81', 'Infielder']\n",
      "['Nomar_Garciaparra', 'LA', 'First_Baseman', '72', '190', '33.6', 'Infielder']\n",
      "['Jeff_Kent', 'LA', 'Second_Baseman', '73', '210', '38.98', 'Infielder']\n",
      "['Ramon_Martinez', 'LA', 'Second_Baseman', '73', '190', '34.39', 'Infielder']\n",
      "['Marlon_Anderson', 'LA', 'Second_Baseman', '71', '200', '33.15', 'Infielder']\n",
      "['Rafael_Furcal', 'LA', 'Shortstop', '70', '165', '29.35', 'Infielder']\n",
      "['Wilson_Betemit', 'LA', 'Third_Baseman', '75', '190', '26.59', 'Infielder']\n",
      "['Andy_LaRoche', 'LA', 'Third_Baseman', '71', '185', '23.46', 'Infielder']\n",
      "['Matt_Kemp', 'LA', 'Outfielder', '76', '230', '22.43', 'Outfielder']\n",
      "['Andre_Ethier', 'LA', 'Outfielder', '73', '208', '24.89', 'Outfielder']\n",
      "['Delwyn_Young', 'LA', 'Outfielder', '68', '209', '24.67', 'Outfielder']\n",
      "['Jason_Repko', 'LA', 'Outfielder', '71', '175', '26.17', 'Outfielder']\n",
      "['Juan_Pierre', 'LA', 'Outfielder', '72', '180', '29.54', 'Outfielder']\n",
      "['Luis_Gonzalez', 'LA', 'Outfielder', '74', '200', '39.49', 'Outfielder']\n",
      "['Jason_Schmidt', 'LA', 'Starting_Pitcher', '77', '205', '34.08', 'Pitcher']\n",
      "['Randy_Wolf', 'LA', 'Starting_Pitcher', '72', '200', '30.52', 'Pitcher']\n",
      "['Brad_Penny', 'LA', 'Starting_Pitcher', '76', '250', '28.77', 'Pitcher']\n",
      "['Derek_Lowe', 'LA', 'Starting_Pitcher', '78', '210', '33.75', 'Pitcher']\n",
      "['Mark_Hendrickson', 'LA', 'Starting_Pitcher', '81', '230', '32.69', 'Pitcher']\n",
      "['Chad_Billingsley', 'LA', 'Starting_Pitcher', '72', '244', '22.59', 'Pitcher']\n",
      "['Takashi_Saito', 'LA', 'Relief_Pitcher', '73', '202', '37.04', 'Pitcher']\n",
      "['Jonathan_Broxton', 'LA', 'Relief_Pitcher', '76', '240', '22.7', 'Pitcher']\n",
      "['Hong-Chih_Kuo', 'LA', 'Relief_Pitcher', '72', '200', '25.6', 'Pitcher']\n",
      "['Eric_Stults', 'LA', 'Relief_Pitcher', '72', '215', '27.23', 'Pitcher']\n",
      "['Chin-Hui_Tsao', 'LA', 'Relief_Pitcher', '74', '177', '25.74', 'Pitcher']\n",
      "['Tim_Hamulack', 'LA', 'Relief_Pitcher', '76', '210', '30.29', 'Pitcher']\n",
      "['Yhency_Brazoban', 'LA', 'Relief_Pitcher', '73', '170', '26.72', 'Pitcher']\n",
      "['Brett_Tomko', 'LA', 'Relief_Pitcher', '76', '215', '33.9', 'Pitcher']\n",
      "['Joe_Beimel', 'LA', 'Relief_Pitcher', '75', '217', '29.86', 'Pitcher']\n",
      "['Elmer_Dessens', 'LA', 'Relief_Pitcher', '70', '198', '36.13', 'Pitcher']\n",
      "['Ryan_Budde', 'PHI', 'Catcher', '71', '200', '27.54', 'Catcher']\n",
      "['Rod_Barajas', 'PHI', 'Catcher', '74', '220', '31.49', 'Catcher']\n",
      "['Carlos_Ruiz', 'PHI', 'Catcher', '72', '170', '28.1', 'Catcher']\n",
      "['Chris_Coste', 'PHI', 'Catcher', '73', '200', '34.07', 'Catcher']\n",
      "['Ryan_Howard', 'PHI', 'First_Baseman', '76', '230', '27.28', 'Infielder']\n",
      "['Wes_Helms', 'PHI', 'First_Baseman', '76', '231', '30.8', 'Infielder']\n",
      "['Chase_Utley', 'PHI', 'Second_Baseman', '73', '183', '28.2', 'Infielder']\n",
      "['Danny_Sandoval', 'PHI', 'Second_Baseman', '71', '192', '27.9', 'Infielder']\n",
      "['Jimmy_Rollins', 'PHI', 'Shortstop', '68', '167', '28.26', 'Infielder']\n",
      "['Abraham_Nu?ez', 'PHI', 'Third_Baseman', '71', '190', '30.96', 'Infielder']\n",
      "['Michael_Bourn', 'PHI', 'Outfielder', '71', '180', '24.18', 'Outfielder']\n",
      "['Chris_Roberson', 'PHI', 'Outfielder', '74', '180', '27.52', 'Outfielder']\n",
      "['Jayson_Werth', 'PHI', 'Outfielder', '77', '215', '27.78', 'Outfielder']\n",
      "['Shane_Victorino', 'PHI', 'Outfielder', '69', '160', '26.25', 'Outfielder']\n",
      "['Aaron_Rowand', 'PHI', 'Outfielder', '72', '205', '29.5', 'Outfielder']\n",
      "['Pat_Burrell', 'PHI', 'Outfielder', '76', '223', '30.39', 'Outfielder']\n",
      "['Cole_Hamels', 'PHI', 'Starting_Pitcher', '75', '175', '23.18', 'Pitcher']\n",
      "['Alfredo_Simon', 'PHI', 'Starting_Pitcher', '76', '170', '25.81', 'Pitcher']\n",
      "['Scott_Mathieson', 'PHI', 'Starting_Pitcher', '75', '190', '23.01', 'Pitcher']\n",
      "['Freddy_Garcia', 'PHI', 'Starting_Pitcher', '76', '240', '31.72', 'Pitcher']\n",
      "['Jamie_Moyer', 'PHI', 'Starting_Pitcher', '72', '175', '44.28', 'Pitcher']\n",
      "['Jon_Lieber', 'PHI', 'Starting_Pitcher', '74', '230', '36.91', 'Pitcher']\n",
      "['Brett_Myers', 'PHI', 'Starting_Pitcher', '76', '223', '26.54', 'Pitcher']\n",
      "['Adam_Eaton', 'PHI', 'Starting_Pitcher', '74', '196', '29.27', 'Pitcher']\n",
      "['Geoff_Geary', 'PHI', 'Relief_Pitcher', '72', '167', '30.51', 'Pitcher']\n",
      "['Clay_Condrey', 'PHI', 'Relief_Pitcher', '75', '195', '31.28', 'Pitcher']\n",
      "['Ryan_Madson', 'PHI', 'Relief_Pitcher', '78', '190', '26.51', 'Pitcher']\n",
      "['Antonio_Alfonseca', 'PHI', 'Relief_Pitcher', '77', '250', '34.87', 'Pitcher']\n",
      "['Tom_Gordon', 'PHI', 'Relief_Pitcher', '70', '190', '39.28', 'Pitcher']\n",
      "['Brian_Sanches', 'PHI', 'Relief_Pitcher', '72', '190', '28.56', 'Pitcher']\n",
      "['Jim_Ed_Warden', 'PHI', 'Relief_Pitcher', '79', '190', '27.82', 'Pitcher']\n",
      "['Anderson_Garcia', 'PHI', 'Relief_Pitcher', '74', '170', '25.94', 'Pitcher']\n",
      "['Eude_Brito', 'PHI', 'Relief_Pitcher', '71', '160', '28.53', 'Pitcher']\n",
      "['Fabio_Castro', 'PHI', 'Relief_Pitcher', '68', '150', '22.11', 'Pitcher']\n",
      "['Matt_Smith', 'PHI', 'Relief_Pitcher', '77', '225', '27.71', 'Pitcher']\n",
      "['Damian_Miller', 'MLW', 'Catcher', '75', '220', '37.38', 'Catcher']\n",
      "['Johnny_Estrada', 'MLW', 'Catcher', '71', '209', '30.67', 'Catcher']\n",
      "['Mike_Rivera', 'MLW', 'Catcher', '72', '210', '30.48', 'Catcher']\n",
      "['J.D._Closser', 'MLW', 'Catcher', '70', '176', '27.12', 'Catcher']\n",
      "['Prince_Fielder', 'MLW', 'First_Baseman', '72', '260', '22.81', 'Infielder']\n",
      "['Rickie_Weeks', 'MLW', 'Second_Baseman', '72', '195', '24.46', 'Infielder']\n",
      "['Tony_Graffanino', 'MLW', 'Second_Baseman', '73', '190', '34.73', 'Infielder']\n",
      "['Craig_Counsell', 'MLW', 'Shortstop', '72', '184', '36.53', 'Infielder']\n",
      "['J.J._Hardy', 'MLW', 'Shortstop', '74', '180', '24.53', 'Infielder']\n",
      "['Bill_Hall', 'MLW', 'Shortstop', '72', '195', '27.17', 'Infielder']\n",
      "['Vinny_Rottino', 'MLW', 'Third_Baseman', '72', '195', '26.9', 'Infielder']\n",
      "['Corey_Koskie', 'MLW', 'Third_Baseman', '75', '219', '33.67', 'Infielder']\n",
      "['Kevin_Mench', 'MLW', 'Outfielder', '72', '225', '29.14', 'Outfielder']\n",
      "['Geoff_Jenkins', 'MLW', 'Outfielder', '73', '212', '32.61', 'Outfielder']\n",
      "['Brady_Clark', 'MLW', 'Outfielder', '74', '202', '33.87', 'Outfielder']\n",
      "['Tony_Gwynn_Jr.', 'MLW', 'Outfielder', '72', '185', '24.41', 'Outfielder']\n",
      "['Corey_Hart', 'MLW', 'Outfielder', '78', '200', '24.94', 'Outfielder']\n",
      "['Gabe_Gross', 'MLW', 'Outfielder', '75', '209', '27.36', 'Outfielder']\n",
      "['Laynce_Nix', 'MLW', 'Outfielder', '72', '200', '26.33', 'Outfielder']\n",
      "['Drew_Anderson', 'MLW', 'Outfielder', '74', '195', '25.72', 'Outfielder']\n",
      "['Claudio_Vargas', 'MLW', 'Starting_Pitcher', '75', '228', '28.7', 'Pitcher']\n",
      "['Chris_Capuano', 'MLW', 'Starting_Pitcher', '75', '210', '28.53', 'Pitcher']\n",
      "['Ben_Hendrickson', 'MLW', 'Starting_Pitcher', '76', '190', '26.07', 'Pitcher']\n",
      "['Dave_Bush', 'MLW', 'Starting_Pitcher', '74', '212', '27.31', 'Pitcher']\n",
      "['Carlos_Villanueva', 'MLW', 'Starting_Pitcher', '74', '190', '23.26', 'Pitcher']\n",
      "['Ben_Sheets', 'MLW', 'Starting_Pitcher', '73', '218', '28.62', 'Pitcher']\n",
      "['Jeff_Suppan', 'MLW', 'Starting_Pitcher', '74', '220', '32.16', 'Pitcher']\n",
      "['Brian_Shouse', 'MLW', 'Relief_Pitcher', '71', '190', '38.43', 'Pitcher']\n",
      "['Francisco_Cordero', 'MLW', 'Relief_Pitcher', '74', '235', '31.81', 'Pitcher']\n",
      "['Derrick_Turnbow', 'MLW', 'Relief_Pitcher', '75', '210', '29.1', 'Pitcher']\n",
      "['Matt_Wise', 'MLW', 'Relief_Pitcher', '76', '200', '31.28', 'Pitcher']\n",
      "['Grant_Balfour', 'MLW', 'Relief_Pitcher', '74', '188', '29.17', 'Pitcher']\n",
      "['Dennis_Sarfate', 'MLW', 'Relief_Pitcher', '76', '210', '25.89', 'Pitcher']\n",
      "['Jose_Capellan', 'MLW', 'Relief_Pitcher', '76', '235', '26.13', 'Pitcher']\n",
      "['Greg_Aquino', 'MLW', 'Relief_Pitcher', '73', '188', '29.13', 'Pitcher']\n",
      "['Josh_Bard', 'SD', 'Catcher', '75', '215', '28.92', 'Catcher']\n",
      "['Rob_Bowen', 'SD', 'Catcher', '75', '216', '26.01', 'Catcher']\n",
      "['Adrian_Gonzalez', 'SD', 'First_Baseman', '74', '220', '24.81', 'Infielder']\n",
      "['Marcus_Giles', 'SD', 'Second_Baseman', '68', '180', '28.79', 'Infielder']\n",
      "['Todd_Walker', 'SD', 'Second_Baseman', '72', '185', '33.77', 'Infielder']\n",
      "['Geoff_Blum', 'SD', 'Shortstop', '75', '200', '33.85', 'Infielder']\n",
      "['Khalil_Greene', 'SD', 'Shortstop', '71', '210', '27.36', 'Infielder']\n",
      "['Paul_McAnulty', 'SD', 'Outfielder', '70', '220', '26.01', 'Outfielder']\n",
      "['Terrmel_Sledge', 'SD', 'Outfielder', '72', '185', '29.95', 'Outfielder']\n",
      "['Jack_Cust', 'SD', 'Outfielder', '73', '231', '28.12', 'Outfielder']\n",
      "['Jose_Cruz_Jr.', 'SD', 'Outfielder', '72', '210', '32.87', 'Outfielder']\n",
      "['Russell_Branyan', 'SD', 'Outfielder', '75', '195', '31.2', 'Outfielder']\n",
      "['Mike_Cameron', 'SD', 'Outfielder', '74', '200', '34.14', 'Outfielder']\n",
      "['Brian_Giles', 'SD', 'Outfielder', '70', '205', '36.11', 'Outfielder']\n",
      "['Mike_Thompson', 'SD', 'Starting_Pitcher', '76', '200', '26.31', 'Pitcher']\n",
      "['Clay_Hensley', 'SD', 'Starting_Pitcher', '71', '190', '27.5', 'Pitcher']\n",
      "['Chris_Young', 'SD', 'Starting_Pitcher', '82', '250', '27.77', 'Pitcher']\n",
      "['Greg_Maddux', 'SD', 'Starting_Pitcher', '72', '185', '40.88', 'Pitcher']\n",
      "['Jake_Peavy', 'SD', 'Starting_Pitcher', '73', '180', '25.75', 'Pitcher']\n",
      "['Scott_Cassidy', 'SD', 'Relief_Pitcher', '74', '170', '31.41', 'Pitcher']\n",
      "['Scott_Strickland', 'SD', 'Relief_Pitcher', '71', '180', '30.84', 'Pitcher']\n",
      "['Scott_Linebrink', 'SD', 'Relief_Pitcher', '75', '208', '30.57', 'Pitcher']\n",
      "['Doug_Brocail', 'SD', 'Relief_Pitcher', '77', '235', '39.79', 'Pitcher']\n",
      "['Trevor_Hoffman', 'SD', 'Relief_Pitcher', '72', '215', '39.38', 'Pitcher']\n",
      "['Heath_Bell', 'SD', 'Relief_Pitcher', '74', '244', '29.42', 'Pitcher']\n",
      "['Royce_Ring', 'SD', 'Relief_Pitcher', '72', '220', '26.19', 'Pitcher']\n",
      "['Cla_Meredith', 'SD', 'Relief_Pitcher', '73', '185', '23.74', 'Pitcher']\n",
      "['Andrew_Brown', 'SD', 'Relief_Pitcher', '78', '230', '26.03', 'Pitcher']\n",
      "['Mike_Adams', 'SD', 'Relief_Pitcher', '77', '190', '28.59', 'Pitcher']\n",
      "['Justin_Hampson', 'SD', 'Relief_Pitcher', '73', '200', '26.77', 'Pitcher']\n",
      "['Kevin_Cameron', 'SD', 'Relief_Pitcher', '73', '180', '27.21', 'Pitcher']\n",
      "['Ryan_Ketchner', 'SD', 'Relief_Pitcher', '73', '190', '24.87', 'Pitcher']\n",
      "['Brian_Schneider', 'WAS', 'Catcher', '73', '196', '30.26', 'Catcher']\n",
      "['Jesus_Flores', 'WAS', 'Catcher', '73', '180', '22.34', 'Catcher']\n",
      "['Larry_Broadway', 'WAS', 'First_Baseman', '76', '230', '26.2', 'Infielder']\n",
      "['Nick_Johnson', 'WAS', 'First_Baseman', '75', '224', '28.45', 'Infielder']\n",
      "['Bernie_Castro', 'WAS', 'Second_Baseman', '70', '160', '27.63', 'Infielder']\n",
      "['Josh_Wilson', 'WAS', 'Shortstop', '73', '178', '25.93', 'Infielder']\n",
      "['Cristian_Guzman', 'WAS', 'Shortstop', '72', '205', '28.94', 'Infielder']\n",
      "['Felipe_Lopez', 'WAS', 'Shortstop', '73', '185', '26.8', 'Infielder']\n",
      "['Ryan_Zimmerman', 'WAS', 'Third_Baseman', '75', '210', '22.42', 'Infielder']\n",
      "['Nook_Logan', 'WAS', 'Outfielder', '74', '180', '27.26', 'Outfielder']\n",
      "['Ryan_Church', 'WAS', 'Outfielder', '73', '190', '28.38', 'Outfielder']\n",
      "['Kory_Casto', 'WAS', 'Outfielder', '73', '200', '25.23', 'Outfielder']\n",
      "['Mike_Restovich', 'WAS', 'Outfielder', '76', '257', '28.16', 'Outfielder']\n",
      "['Alex_Escobar', 'WAS', 'Outfielder', '73', '190', '28.48', 'Outfielder']\n",
      "['Austin_Kearns', 'WAS', 'Outfielder', '75', '220', '26.78', 'Outfielder']\n",
      "['Chris_Snelling', 'WAS', 'Outfielder', '70', '165', '25.24', 'Outfielder']\n",
      "['Billy_Traber', 'WAS', 'Starting_Pitcher', '77', '205', '27.45', 'Pitcher']\n",
      "['Tim_Redding', 'WAS', 'Starting_Pitcher', '72', '200', '29.05', 'Pitcher']\n",
      "['John_Patterson', 'WAS', 'Starting_Pitcher', '77', '208', '29.08', 'Pitcher']\n",
      "['Shawn_Hill', 'WAS', 'Starting_Pitcher', '74', '185', '25.84', 'Pitcher']\n",
      "['Joel_Hanrahan', 'WAS', 'Starting_Pitcher', '75', '215', '25.4', 'Pitcher']\n",
      "[\"Mike_O'Connor\", 'WAS', 'Starting_Pitcher', '75', '170', '26.54', 'Pitcher']\n",
      "['Emiliano_Fruto', 'WAS', 'Relief_Pitcher', '75', '235', '22.73', 'Pitcher']\n",
      "['Chris_Schroder', 'WAS', 'Relief_Pitcher', '75', '210', '28.53', 'Pitcher']\n",
      "['Brett_Campbell', 'WAS', 'Relief_Pitcher', '72', '170', '25.37', 'Pitcher']\n",
      "['Beltran_Perez', 'WAS', 'Relief_Pitcher', '74', '180', '25.35', 'Pitcher']\n",
      "['Levale_Speigner', 'WAS', 'Relief_Pitcher', '71', '170', '26.43', 'Pitcher']\n",
      "['Jason_Bergmann', 'WAS', 'Relief_Pitcher', '76', '190', '25.43', 'Pitcher']\n",
      "['Saul_Rivera', 'WAS', 'Relief_Pitcher', '71', '150', '29.23', 'Pitcher']\n",
      "['Chris_Booker', 'WAS', 'Relief_Pitcher', '75', '230', '30.22', 'Pitcher']\n",
      "['Micah_Bowie', 'WAS', 'Relief_Pitcher', '76', '203', '32.3', 'Pitcher']\n",
      "['Jon_Rauch', 'WAS', 'Relief_Pitcher', '83', '260', '28.42', 'Pitcher']\n",
      "['Jerome_Williams', 'WAS', 'Relief_Pitcher', '75', '246', '25.24', 'Pitcher']\n",
      "['Luis_Ayala', 'WAS', 'Relief_Pitcher', '74', '186', '29.13', 'Pitcher']\n",
      "['Ryan_Wagner', 'WAS', 'Relief_Pitcher', '76', '210', '24.63', 'Pitcher']\n",
      "['Chad_Cordero', 'WAS', 'Relief_Pitcher', '72', '198', '24.95', 'Pitcher']\n",
      "['Humberto_Cota', 'PIT', 'Catcher', '72', '210', '28.06', 'Catcher']\n",
      "['Ronny_Paulino', 'PIT', 'Catcher', '75', '215', '25.86', 'Catcher']\n",
      "['Adam_LaRoche', 'PIT', 'First_Baseman', '75', '180', '27.32', 'Infielder']\n",
      "['Ryan_Doumit', 'PIT', 'First_Baseman', '72', '200', '25.91', 'Infielder']\n",
      "['Brad_Eldred', 'PIT', 'First_Baseman', '77', '245', '26.63', 'Infielder']\n",
      "['Jose_Castillo', 'PIT', 'Second_Baseman', '73', '200', '25.95', 'Infielder']\n",
      "['Jack_Wilson', 'PIT', 'Shortstop', '72', '192', '29.17', 'Infielder']\n",
      "['Freddy_Sanchez', 'PIT', 'Third_Baseman', '70', '192', '29.19', 'Infielder']\n",
      "['Jason_Bay', 'PIT', 'Outfielder', '74', '200', '28.44', 'Outfielder']\n",
      "['Jose_Bautista', 'PIT', 'Outfielder', '72', '192', '26.36', 'Outfielder']\n",
      "['Xavier_Nady', 'PIT', 'Outfielder', '74', '205', '28.29', 'Outfielder']\n",
      "['Jody_Gerut', 'PIT', 'Outfielder', '72', '190', '29.45', 'Outfielder']\n",
      "['Nate_McLouth', 'PIT', 'Outfielder', '71', '186', '25.34', 'Outfielder']\n",
      "['Chris_Duffy', 'PIT', 'Outfielder', '70', '170', '26.86', 'Outfielder']\n",
      "['Rajai_Davis', 'PIT', 'Outfielder', '71', '197', '26.36', 'Outfielder']\n",
      "['Shane_Youman', 'PIT', 'Starting_Pitcher', '76', '219', '27.39', 'Pitcher']\n",
      "['Yoslan_Herrera', 'PIT', 'Starting_Pitcher', '74', '200', '25.84', 'Pitcher']\n",
      "['Josh_Shortslef', 'PIT', 'Starting_Pitcher', '76', '220', '25.08', 'Pitcher']\n",
      "['Zach_Duke', 'PIT', 'Starting_Pitcher', '74', '207', '23.87', 'Pitcher']\n",
      "['Paul_Maholm', 'PIT', 'Starting_Pitcher', '74', '225', '24.68', 'Pitcher']\n",
      "['Tom_Gorzelanny', 'PIT', 'Starting_Pitcher', '74', '207', '24.64', 'Pitcher']\n",
      "['Shawn_Chacon', 'PIT', 'Starting_Pitcher', '75', '212', '29.19', 'Pitcher']\n",
      "['Tony_Armas_Jr.', 'PIT', 'Starting_Pitcher', '75', '225', '28.84', 'Pitcher']\n",
      "['Ian_Snell', 'PIT', 'Starting_Pitcher', '71', '170', '25.33', 'Pitcher']\n",
      "['Sean_Burnett', 'PIT', 'Starting_Pitcher', '71', '190', '24.45', 'Pitcher']\n",
      "['John_Grabow', 'PIT', 'Relief_Pitcher', '74', '210', '28.32', 'Pitcher']\n",
      "['Marty_McLeary', 'PIT', 'Relief_Pitcher', '77', '230', '32.34', 'Pitcher']\n",
      "['Salomon_Torres', 'PIT', 'Relief_Pitcher', '71', '210', '34.97', 'Pitcher']\n",
      "['Damaso_Marte', 'PIT', 'Relief_Pitcher', '74', '200', '32.04', 'Pitcher']\n",
      "['Matt_Capps', 'PIT', 'Relief_Pitcher', '75', '238', '23.49', 'Pitcher']\n",
      "['Josh_Sharpless', 'PIT', 'Relief_Pitcher', '77', '234', '26.09', 'Pitcher']\n",
      "['Bryan_Bullington', 'PIT', 'Relief_Pitcher', '76', '222', '26.41', 'Pitcher']\n",
      "['Jonah_Bayliss', 'PIT', 'Relief_Pitcher', '74', '200', '26.55', 'Pitcher']\n",
      "['Brian_Rogers', 'PIT', 'Relief_Pitcher', '76', '190', '24.62', 'Pitcher']\n",
      "['Juan_Perez', 'PIT', 'Relief_Pitcher', '72', '170', '28.49', 'Pitcher']\n",
      "['Bengie_Molina', 'SF', 'Catcher', '71', '220', '32.61', 'Catcher']\n",
      "['Eliezer_Alfonzo', 'SF', 'Catcher', '72', '223', '28.06', 'Catcher']\n",
      "['Lance_Niekro', 'SF', 'First_Baseman', '75', '210', '28.08', 'Infielder']\n",
      "['Mark_Sweeney', 'SF', 'First_Baseman', '73', '215', '37.34', 'Infielder']\n",
      "['Ray_Durham', 'SF', 'Second_Baseman', '68', '196', '35.25', 'Infielder']\n",
      "['Kevin_Frandsen', 'SF', 'Second_Baseman', '72', '175', '24.77', 'Infielder']\n",
      "['Omar_Vizquel', 'SF', 'Shortstop', '69', '175', '39.85', 'Infielder']\n",
      "['Rich_Aurilia', 'SF', 'Third_Baseman', '73', '189', '35.49', 'Infielder']\n",
      "['Pedro_Feliz', 'SF', 'Third_Baseman', '73', '205', '31.84', 'Infielder']\n",
      "['Todd_Linden', 'SF', 'Outfielder', '75', '210', '26.67', 'Outfielder']\n",
      "['Dave_Roberts', 'SF', 'Outfielder', '70', '180', '34.75', 'Outfielder']\n",
      "['Jason_Ellison', 'SF', 'Outfielder', '70', '180', '28.91', 'Outfielder']\n",
      "['Randy_Winn', 'SF', 'Outfielder', '74', '197', '32.73', 'Outfielder']\n",
      "['Ryan_Klesko', 'SF', 'Outfielder', '75', '220', '35.72', 'Outfielder']\n",
      "['Barry_Bonds', 'SF', 'Outfielder', '74', '228', '42.6', 'Outfielder']\n",
      "['Fred_Lewis', 'SF', 'Outfielder', '74', '190', '26.22', 'Outfielder']\n",
      "['Kelyn_Acosta', 'SF', 'Starting_Pitcher', '73', '204', '21.85', 'Pitcher']\n",
      "['Jonathan_Sanchez', 'SF', 'Starting_Pitcher', '74', '165', '24.28', 'Pitcher']\n",
      "['Matt_Cain', 'SF', 'Starting_Pitcher', '75', '216', '22.41', 'Pitcher']\n",
      "['Matt_Morris', 'SF', 'Starting_Pitcher', '77', '220', '32.56', 'Pitcher']\n",
      "['Russ_Ortiz', 'SF', 'Starting_Pitcher', '73', '208', '32.74', 'Pitcher']\n",
      "['Noah_Lowry', 'SF', 'Starting_Pitcher', '74', '210', '26.39', 'Pitcher']\n",
      "['Barry_Zito', 'SF', 'Starting_Pitcher', '76', '215', '28.8', 'Pitcher']\n",
      "['Vinnie_Chulk', 'SF', 'Relief_Pitcher', '74', '195', '28.2', 'Pitcher']\n",
      "['Kevin_Correia', 'SF', 'Relief_Pitcher', '75', '200', '26.52', 'Pitcher']\n",
      "['Steve_Kline', 'SF', 'Relief_Pitcher', '73', '215', '34.52', 'Pitcher']\n",
      "['Armando_Benitez', 'SF', 'Relief_Pitcher', '76', '229', '34.32', 'Pitcher']\n",
      "['Scott_Munter', 'SF', 'Relief_Pitcher', '78', '240', '26.98', 'Pitcher']\n",
      "['Jack_Taschner', 'SF', 'Relief_Pitcher', '75', '207', '28.86', 'Pitcher']\n",
      "['Brian_Wilson', 'SF', 'Relief_Pitcher', '73', '205', '24.96', 'Pitcher']\n",
      "['Merkin_Valdez', 'SF', 'Relief_Pitcher', '77', '208', '25.3', 'Pitcher']\n",
      "['Brad_Hennessey', 'SF', 'Relief_Pitcher', '74', '185', '27.06', 'Pitcher']\n",
      "['Billy_Sadler', 'SF', 'Relief_Pitcher', '72', '190', '25.44', 'Pitcher']\n",
      "['Pat_Misch', 'SF', 'Relief_Pitcher', '74', '170', '25.53', 'Pitcher']\n",
      "['Gary_Bennett', 'STL', 'Catcher', '72', '208', '34.87', 'Catcher']\n",
      "['Yadier_Molina', 'STL', 'Catcher', '71', '225', '24.63', 'Catcher']\n",
      "['John_Nelson', 'STL', 'First_Baseman', '73', '190', '27.99', 'Infielder']\n",
      "['Albert_Pujols', 'STL', 'First_Baseman', '75', '225', '27.12', 'Infielder']\n",
      "['Adam_Kennedy', 'STL', 'Second_Baseman', '73', '185', '31.14', 'Infielder']\n",
      "['Aaron_Miles', 'STL', 'Second_Baseman', '67', '180', '30.21', 'Infielder']\n",
      "['David_Eckstein', 'STL', 'Shortstop', '67', '165', '32.11', 'Infielder']\n",
      "['Scott_Rolen', 'STL', 'Third_Baseman', '76', '240', '31.91', 'Infielder']\n",
      "['Scott_Spiezio', 'STL', 'Third_Baseman', '74', '220', '34.44', 'Infielder']\n",
      "['Jim_Edmonds', 'STL', 'Outfielder', '73', '212', '36.68', 'Outfielder']\n",
      "['So_Taguchi', 'STL', 'Outfielder', '70', '163', '37.66', 'Outfielder']\n",
      "['Juan_Encarnacion', 'STL', 'Outfielder', '75', '215', '30.98', 'Outfielder']\n",
      "['Skip_Schumaker', 'STL', 'Outfielder', '70', '175', '27.07', 'Outfielder']\n",
      "['John_Rodriguez', 'STL', 'Outfielder', '72', '205', '29.11', 'Outfielder']\n",
      "['Chris_Duncan', 'STL', 'Outfielder', '77', '210', '25.82', 'Outfielder']\n",
      "['Adam_Wainwright', 'STL', 'Starting_Pitcher', '79', '205', '25.5', 'Pitcher']\n",
      "['Mark_Mulder', 'STL', 'Starting_Pitcher', '78', '208', '29.57', 'Pitcher']\n",
      "['Anthony_Reyes', 'STL', 'Starting_Pitcher', '74', '215', '25.37', 'Pitcher']\n",
      "['Ryan_Franklin', 'STL', 'Starting_Pitcher', '75', '180', '33.99', 'Pitcher']\n",
      "['Kip_Wells', 'STL', 'Starting_Pitcher', '75', '200', '29.86', 'Pitcher']\n",
      "['Chris_Carpenter', 'STL', 'Starting_Pitcher', '78', '230', '31.84', 'Pitcher']\n",
      "['Russ_Springer', 'STL', 'Relief_Pitcher', '76', '211', '38.31', 'Pitcher']\n",
      "['Jason_Isringhausen', 'STL', 'Relief_Pitcher', '75', '230', '34.48', 'Pitcher']\n",
      "['Ricardo_Rincon', 'STL', 'Relief_Pitcher', '69', '190', '36.88', 'Pitcher']\n",
      "['Braden_Looper', 'STL', 'Relief_Pitcher', '75', '220', '32.34', 'Pitcher']\n",
      "['Randy_Flores', 'STL', 'Relief_Pitcher', '72', '180', '31.58', 'Pitcher']\n",
      "['Josh_Hancock', 'STL', 'Relief_Pitcher', '75', '205', '28.89', 'Pitcher']\n",
      "['Brad_Thompson', 'STL', 'Relief_Pitcher', '73', '190', '25.08', 'Pitcher']\n",
      "['Tyler_Johnson', 'STL', 'Relief_Pitcher', '74', '180', '25.73', 'Pitcher']\n",
      "['Chris_Narveson', 'STL', 'Relief_Pitcher', '75', '205', '25.19', 'Pitcher']\n",
      "['Randy_Keisler', 'STL', 'Relief_Pitcher', '75', '190', '31.01', 'Pitcher']\n",
      "['Josh_Kinney', 'STL', 'Relief_Pitcher', '73', '195', '27.92', 'Pitcher']\n"
     ]
    }
   ],
   "source": [
    "import csv\n",
    "\n",
    "ht = []\n",
    "wt = []\n",
    "\n",
    "with open('baseball.csv') as file:\n",
    "    playerreader = csv.reader(file)\n",
    "    next(playerreader)\n",
    "    for row in playerreader:\n",
    "        ht.append(int(row[3]))\n",
    "        wt.append(int(row[4]))\n",
    "        print(row)"
   ]
  },
  {
   "cell_type": "code",
   "execution_count": 72,
   "metadata": {
    "collapsed": true
   },
   "outputs": [
    {
     "data": {
      "text/plain": [
       "1015"
      ]
     },
     "execution_count": 72,
     "metadata": {},
     "output_type": "execute_result"
    }
   ],
   "source": [
    "len(ht)\n",
    "len(wt)"
   ]
  },
  {
   "cell_type": "code",
   "execution_count": 75,
   "metadata": {
    "collapsed": true
   },
   "outputs": [
    {
     "data": {
      "text/plain": [
       "1015"
      ]
     },
     "execution_count": 75,
     "metadata": {},
     "output_type": "execute_result"
    }
   ],
   "source": [
    "np_ht = np.array(ht)\n",
    "np_wt = np.array(wt)\n",
    "\n",
    "bmi = np_wt/(np_ht**2)*703\n",
    "len(bmi)"
   ]
  },
  {
   "cell_type": "code",
   "execution_count": 76,
   "metadata": {
    "collapsed": true
   },
   "outputs": [
    {
     "name": "stdout",
     "output_type": "stream",
     "text": [
      "[20.54054054 20.54054054 20.69078947 20.69078947 20.34143519 20.34143519\n",
      " 20.69078947 20.15685613 19.49653333 20.69078947 20.91846856]\n"
     ]
    }
   ],
   "source": [
    "light = bmi < 21\n",
    "\n",
    "print(bmi[light])"
   ]
  },
  {
   "cell_type": "markdown",
   "metadata": {},
   "source": [
    "**Multi-Dimensional Arrays**"
   ]
  },
  {
   "cell_type": "code",
   "execution_count": 77,
   "metadata": {
    "collapsed": true
   },
   "outputs": [
    {
     "data": {
      "text/plain": [
       "numpy.ndarray"
      ]
     },
     "execution_count": 77,
     "metadata": {},
     "output_type": "execute_result"
    }
   ],
   "source": [
    "h = [67, 70, 65, 63, 72]\n",
    "w = [160, 150, 165, 120, 205]\n",
    "\n",
    "np_h = np.array(h)\n",
    "np_w = np.array(w)\n",
    "\n",
    "type(np_h)\n",
    "type(np_w)"
   ]
  },
  {
   "cell_type": "code",
   "execution_count": 79,
   "metadata": {
    "collapsed": true
   },
   "outputs": [
    {
     "data": {
      "text/plain": [
       "(2, 5)"
      ]
     },
     "execution_count": 79,
     "metadata": {},
     "output_type": "execute_result"
    }
   ],
   "source": [
    "np_2d = np.array([ [67, 70, 65, 63, 72] , [160, 150, 165, 120, 205] ])\n",
    "np_2d.shape"
   ]
  },
  {
   "cell_type": "code",
   "execution_count": 80,
   "metadata": {},
   "outputs": [],
   "source": [
    "np_2d = np.array([[67, 70, 65, 63, 72] , [160, 150, 165, 120, \"205\"]])\n",
    "np_2d = np.array([[67, 70, 65, 63, 72] , [160, 150, 165, 120, 205]])"
   ]
  },
  {
   "cell_type": "markdown",
   "metadata": {},
   "source": [
    "**Subsetting 2-D Array**"
   ]
  },
  {
   "cell_type": "code",
   "execution_count": 81,
   "metadata": {
    "collapsed": true
   },
   "outputs": [
    {
     "data": {
      "text/plain": [
       "array([67, 70, 65, 63, 72])"
      ]
     },
     "execution_count": 81,
     "metadata": {},
     "output_type": "execute_result"
    }
   ],
   "source": [
    "np_2d[0]"
   ]
  },
  {
   "cell_type": "code",
   "execution_count": 82,
   "metadata": {
    "collapsed": true
   },
   "outputs": [
    {
     "data": {
      "text/plain": [
       "65"
      ]
     },
     "execution_count": 82,
     "metadata": {},
     "output_type": "execute_result"
    }
   ],
   "source": [
    "np_2d[0][2]\n",
    "np_2d[0, 2]"
   ]
  },
  {
   "cell_type": "code",
   "execution_count": 83,
   "metadata": {
    "collapsed": true
   },
   "outputs": [
    {
     "data": {
      "text/plain": [
       "(2, 1015)"
      ]
     },
     "execution_count": 83,
     "metadata": {},
     "output_type": "execute_result"
    }
   ],
   "source": [
    "np_baseball = np.array([ht, wt])\n",
    "np_baseball.shape"
   ]
  },
  {
   "cell_type": "code",
   "execution_count": 84,
   "metadata": {},
   "outputs": [],
   "source": [
    "bmi = np_baseball[1] / np_baseball[0]**2*703"
   ]
  },
  {
   "cell_type": "markdown",
   "metadata": {},
   "source": [
    "**Numpy for Basic Statistics**"
   ]
  },
  {
   "cell_type": "code",
   "execution_count": 85,
   "metadata": {
    "collapsed": true
   },
   "outputs": [
    {
     "data": {
      "text/plain": [
       "73.6896551724138"
      ]
     },
     "execution_count": 85,
     "metadata": {},
     "output_type": "execute_result"
    }
   ],
   "source": [
    "np.mean(np_baseball[0])"
   ]
  },
  {
   "cell_type": "code",
   "execution_count": 86,
   "metadata": {
    "collapsed": true
   },
   "outputs": [
    {
     "data": {
      "text/plain": [
       "201.34876847290641"
      ]
     },
     "execution_count": 86,
     "metadata": {},
     "output_type": "execute_result"
    }
   ],
   "source": [
    "np.mean(np_baseball[1])"
   ]
  },
  {
   "cell_type": "code",
   "execution_count": 87,
   "metadata": {
    "collapsed": true
   },
   "outputs": [
    {
     "data": {
      "text/plain": [
       "array([[1.        , 0.53153932],\n",
       "       [0.53153932, 1.        ]])"
      ]
     },
     "execution_count": 87,
     "metadata": {},
     "output_type": "execute_result"
    }
   ],
   "source": [
    "np.corrcoef(np_baseball[0], np_baseball[1])"
   ]
  },
  {
   "cell_type": "code",
   "execution_count": 88,
   "metadata": {
    "collapsed": true
   },
   "outputs": [
    {
     "data": {
      "text/plain": [
       "2.312791881046546"
      ]
     },
     "execution_count": 88,
     "metadata": {},
     "output_type": "execute_result"
    }
   ],
   "source": [
    "np.std(np_baseball[0])"
   ]
  },
  {
   "cell_type": "code",
   "execution_count": 89,
   "metadata": {
    "collapsed": true
   },
   "outputs": [
    {
     "data": {
      "text/plain": [
       "20.812854496114763"
      ]
     },
     "execution_count": 89,
     "metadata": {},
     "output_type": "execute_result"
    }
   ],
   "source": [
    "np.std(np_baseball[1])"
   ]
  },
  {
   "cell_type": "markdown",
   "metadata": {},
   "source": [
    "**Numpy and Finance**"
   ]
  },
  {
   "cell_type": "markdown",
   "metadata": {},
   "source": [
    "**Present Value**"
   ]
  },
  {
   "cell_type": "code",
   "execution_count": 95,
   "metadata": {
    "collapsed": true
   },
   "outputs": [
    {
     "name": "stdout",
     "output_type": "stream",
     "text": [
      "Investment 1 is worth 6418.62in today's dollars\n",
      "Investment 2 is worth 6139.13 in today's dollars.\n",
      "Investment 3 will yield a total of $20789.28 in 15 years.\n",
      "Investment 4 will yield a total of $31721.69 in 15 years.\n"
     ]
    },
    {
     "name": "stderr",
     "output_type": "stream",
     "text": [
      "<ipython-input-95-a9202da4c616>:1: DeprecationWarning: numpy.pv is deprecated and will be removed from NumPy 1.20. Use numpy_financial.pv instead (https://pypi.org/project/numpy-financial/).\n",
      "  investment1 = np.pv(rate=.03, nper=15, pmt=0, fv=10000)\n",
      "<ipython-input-95-a9202da4c616>:4: DeprecationWarning: numpy.pv is deprecated and will be removed from NumPy 1.20. Use numpy_financial.pv instead (https://pypi.org/project/numpy-financial/).\n",
      "  investment2 = np.pv(rate=.05, nper=10, pmt=0, fv=10000)\n",
      "<ipython-input-95-a9202da4c616>:7: DeprecationWarning: numpy.fv is deprecated and will be removed from NumPy 1.20. Use numpy_financial.fv instead (https://pypi.org/project/numpy-financial/).\n",
      "  investment3 = np.fv(rate=.05, nper=15, pmt=0, pv=-10000)\n",
      "<ipython-input-95-a9202da4c616>:10: DeprecationWarning: numpy.fv is deprecated and will be removed from NumPy 1.20. Use numpy_financial.fv instead (https://pypi.org/project/numpy-financial/).\n",
      "  investment4 = np.fv(rate=.08, nper=15, pmt=0, pv=-10000)\n"
     ]
    }
   ],
   "source": [
    "investment1 = np.pv(rate=.03, nper=15, pmt=0, fv=10000)\n",
    "print('Investment 1 is worth ' + str(round(-investment1, 2)) + \"in today's dollars\")\n",
    "\n",
    "investment2 = np.pv(rate=.05, nper=10, pmt=0, fv=10000)\n",
    "print(\"Investment 2 is worth \" + str(round(-investment2, 2)) + \" in today's dollars.\")"
   ]
  },
  {
   "cell_type": "markdown",
   "metadata": {},
   "source": [
    "**Future Value**"
   ]
  },
  {
   "cell_type": "code",
   "execution_count": 93,
   "metadata": {
    "collapsed": true
   },
   "outputs": [
    {
     "name": "stdout",
     "output_type": "stream",
     "text": [
      "Investment 3 will yield a total of $20789.28 in 15 years.\n",
      "Investment 4 will yield a total of $31721.69 in 15 years.\n"
     ]
    },
    {
     "name": "stderr",
     "output_type": "stream",
     "text": [
      "<ipython-input-93-b186a98bf105>:1: DeprecationWarning: numpy.fv is deprecated and will be removed from NumPy 1.20. Use numpy_financial.fv instead (https://pypi.org/project/numpy-financial/).\n",
      "  investment3 = np.fv(rate=.05, nper=15, pmt=0, pv=-10000)\n",
      "<ipython-input-93-b186a98bf105>:4: DeprecationWarning: numpy.fv is deprecated and will be removed from NumPy 1.20. Use numpy_financial.fv instead (https://pypi.org/project/numpy-financial/).\n",
      "  investment4 = np.fv(rate=.08, nper=15, pmt=0, pv=-10000)\n"
     ]
    }
   ],
   "source": [
    "investment3 = np.fv(rate=.05, nper=15, pmt=0, pv=-10000)\n",
    "print(\"Investment 3 will yield a total of $\" + str(round(investment3, 2)) + \" in 15 years.\")\n",
    "\n",
    "investment4 = np.fv(rate=.08, nper=15, pmt=0, pv=-10000)\n",
    "print(\"Investment 4 will yield a total of $\" + str(round(investment4, 2)) + \" in 15 years.\")"
   ]
  },
  {
   "cell_type": "markdown",
   "metadata": {},
   "source": [
    "**Discounting Cash Flows**\n",
    "\n",
    "**Net Present Value**"
   ]
  },
  {
   "cell_type": "code",
   "execution_count": 96,
   "metadata": {
    "collapsed": true
   },
   "outputs": [
    {
     "name": "stdout",
     "output_type": "stream",
     "text": [
      "Invest1's NPV is $471.71 in today's dollars.\n",
      "Invest2's NPV is $454.6 in today's dollars.\n",
      "Invest3's NPV is $438.72 in today's dollars.\n"
     ]
    },
    {
     "name": "stderr",
     "output_type": "stream",
     "text": [
      "<ipython-input-96-6e2893bff3ed>:4: DeprecationWarning: numpy.npv is deprecated and will be removed from NumPy 1.20. Use numpy_financial.npv instead (https://pypi.org/project/numpy-financial/).\n",
      "  invest1 = np.npv(rate=.03, values=cashflows)\n",
      "<ipython-input-96-6e2893bff3ed>:7: DeprecationWarning: numpy.npv is deprecated and will be removed from NumPy 1.20. Use numpy_financial.npv instead (https://pypi.org/project/numpy-financial/).\n",
      "  invest2 = np.npv(rate=.05, values=cashflows)\n",
      "<ipython-input-96-6e2893bff3ed>:10: DeprecationWarning: numpy.npv is deprecated and will be removed from NumPy 1.20. Use numpy_financial.npv instead (https://pypi.org/project/numpy-financial/).\n",
      "  invest3 = np.npv(rate=.07, values=cashflows)\n"
     ]
    }
   ],
   "source": [
    "# pre-define array of cash flows\n",
    "cashflows = np.array([100,100,100,100,100])\n",
    "\n",
    "invest1 = np.npv(rate=.03, values=cashflows)\n",
    "print(\"Invest1's NPV is $\" + str(round(invest1, 2)) + \" in today's dollars.\")\n",
    "\n",
    "invest2 = np.npv(rate=.05, values=cashflows)\n",
    "print(\"Invest2's NPV is $\" + str(round(invest2, 2)) + \" in today's dollars.\")\n",
    "\n",
    "invest3 = np.npv(rate=.07, values=cashflows)\n",
    "print(\"Invest3's NPV is $\" + str(round(invest3, 2)) + \" in today's dollars.\")"
   ]
  },
  {
   "cell_type": "markdown",
   "metadata": {},
   "source": [
    "**Initial Project Costs**"
   ]
  },
  {
   "cell_type": "code",
   "execution_count": 97,
   "metadata": {
    "collapsed": true
   },
   "outputs": [
    {
     "name": "stdout",
     "output_type": "stream",
     "text": [
      "The NPV of Investment1 is worth $665.54 in today's dollars.\n",
      "The NPV of Investment2 is worth $346.7 in today's dollars.\n"
     ]
    },
    {
     "name": "stderr",
     "output_type": "stream",
     "text": [
      "<ipython-input-97-779d192eb93a>:4: DeprecationWarning: numpy.npv is deprecated and will be removed from NumPy 1.20. Use numpy_financial.npv instead (https://pypi.org/project/numpy-financial/).\n",
      "  investment1 = np.npv(rate=.03, values=cashflows1)\n",
      "<ipython-input-97-779d192eb93a>:7: DeprecationWarning: numpy.npv is deprecated and will be removed from NumPy 1.20. Use numpy_financial.npv instead (https://pypi.org/project/numpy-financial/).\n",
      "  investment2 = np.npv(rate=.03, values=cashflows2)\n"
     ]
    }
   ],
   "source": [
    "cashflows1 = np.array([-250,100,200,300,400])\n",
    "cashflows2 = np.array([-250,300,-250,300,300])\n",
    "\n",
    "investment1 = np.npv(rate=.03, values=cashflows1)\n",
    "print(\"The NPV of Investment1 is worth $\" + str(round(investment1, 2)) + \" in today's dollars.\")\n",
    "\n",
    "investment2 = np.npv(rate=.03, values=cashflows2)\n",
    "print(\"The NPV of Investment2 is worth $\" + str(round(investment2, 2)) + \" in today's dollars.\")"
   ]
  },
  {
   "cell_type": "markdown",
   "metadata": {},
   "source": [
    "**Internal Rate of Return -- Project Proposals -- Cash Flows Projections**"
   ]
  },
  {
   "cell_type": "code",
   "execution_count": 98,
   "metadata": {},
   "outputs": [],
   "source": [
    "cf_proj1 = np.array([-1000,200,250,300,350,400,450,500,550,600])\n",
    "cf_proj2 = np.array([-1000,150,225,300,375,425,500,575,600,625])\n",
    "\n",
    "cf_proj1 = cf_proj1*1000\n",
    "cf_proj2 = cf_proj2*1000"
   ]
  },
  {
   "cell_type": "code",
   "execution_count": 99,
   "metadata": {
    "collapsed": true
   },
   "outputs": [
    {
     "name": "stdout",
     "output_type": "stream",
     "text": [
      "Project 1 IRR: 28.92%\n",
      "Project 2 IRR: 28.78%\n"
     ]
    },
    {
     "name": "stderr",
     "output_type": "stream",
     "text": [
      "<ipython-input-99-369a04066169>:1: DeprecationWarning: numpy.irr is deprecated and will be removed from NumPy 1.20. Use numpy_financial.irr instead (https://pypi.org/project/numpy-financial/).\n",
      "  irr_proj1 = np.irr(cf_proj1)\n",
      "<ipython-input-99-369a04066169>:4: DeprecationWarning: numpy.irr is deprecated and will be removed from NumPy 1.20. Use numpy_financial.irr instead (https://pypi.org/project/numpy-financial/).\n",
      "  irr_proj2 = np.irr(cf_proj2)\n"
     ]
    }
   ],
   "source": [
    "irr_proj1 = np.irr(cf_proj1)\n",
    "print(\"Project 1 IRR: \" + str(round(100*irr_proj1, 2)) + \"%\")\n",
    "\n",
    "irr_proj2 = np.irr(cf_proj2)\n",
    "print(\"Project 2 IRR: \" + str(round(100*irr_proj2, 2)) + \"%\")"
   ]
  },
  {
   "cell_type": "markdown",
   "metadata": {},
   "source": [
    "**Who Wants To Be A Millionaire?**"
   ]
  },
  {
   "cell_type": "code",
   "execution_count": 100,
   "metadata": {},
   "outputs": [],
   "source": [
    "years = 20\n",
    "rate_annual = 0.10"
   ]
  },
  {
   "cell_type": "code",
   "execution_count": 101,
   "metadata": {},
   "outputs": [],
   "source": [
    "rate_monthly = (1+rate_annual)**(1/12)-1\n",
    "months = years*12"
   ]
  },
  {
   "cell_type": "code",
   "execution_count": 102,
   "metadata": {
    "collapsed": true
   },
   "outputs": [
    {
     "name": "stdout",
     "output_type": "stream",
     "text": [
      "You will have to invest $1392.25 per month to amass $1M over 20 years.\n"
     ]
    },
    {
     "name": "stderr",
     "output_type": "stream",
     "text": [
      "<ipython-input-102-aa288f5e5a5c>:1: DeprecationWarning: numpy.pmt is deprecated and will be removed from NumPy 1.20. Use numpy_financial.pmt instead (https://pypi.org/project/numpy-financial/).\n",
      "  monthlyinvest = np.pmt(rate=rate_monthly, nper=months, pv=0, fv=-1000000)\n"
     ]
    }
   ],
   "source": [
    "monthlyinvest = np.pmt(rate=rate_monthly, nper=months, pv=0, fv=-1000000)\n",
    "print(\"You will have to invest $\" + str(round(monthlyinvest, 2)) + \" per month to amass $1M over \" +str(years) +\" years.\")"
   ]
  },
  {
   "cell_type": "markdown",
   "metadata": {},
   "source": [
    "**Pandas**"
   ]
  },
  {
   "cell_type": "code",
   "execution_count": 103,
   "metadata": {},
   "outputs": [],
   "source": [
    "import pandas as pd"
   ]
  },
  {
   "cell_type": "code",
   "execution_count": 104,
   "metadata": {
    "collapsed": true
   },
   "outputs": [
    {
     "ename": "KeyboardInterrupt",
     "evalue": "",
     "output_type": "error",
     "traceback": [
      "\u001b[1;31m---------------------------------------------------------------------------\u001b[0m",
      "\u001b[1;31mTimeoutError\u001b[0m                              Traceback (most recent call last)",
      "\u001b[1;32m~\\anaconda3\\lib\\socket.py\u001b[0m in \u001b[0;36mcreate_connection\u001b[1;34m(address, timeout, source_address)\u001b[0m\n\u001b[0;32m    795\u001b[0m                 \u001b[0msock\u001b[0m\u001b[1;33m.\u001b[0m\u001b[0mbind\u001b[0m\u001b[1;33m(\u001b[0m\u001b[0msource_address\u001b[0m\u001b[1;33m)\u001b[0m\u001b[1;33m\u001b[0m\u001b[1;33m\u001b[0m\u001b[0m\n\u001b[1;32m--> 796\u001b[1;33m             \u001b[0msock\u001b[0m\u001b[1;33m.\u001b[0m\u001b[0mconnect\u001b[0m\u001b[1;33m(\u001b[0m\u001b[0msa\u001b[0m\u001b[1;33m)\u001b[0m\u001b[1;33m\u001b[0m\u001b[1;33m\u001b[0m\u001b[0m\n\u001b[0m\u001b[0;32m    797\u001b[0m             \u001b[1;31m# Break explicitly a reference cycle\u001b[0m\u001b[1;33m\u001b[0m\u001b[1;33m\u001b[0m\u001b[1;33m\u001b[0m\u001b[0m\n",
      "\u001b[1;31mTimeoutError\u001b[0m: [WinError 10060] A connection attempt failed because the connected party did not properly respond after a period of time, or established connection failed because connected host has failed to respond",
      "\nDuring handling of the above exception, another exception occurred:\n",
      "\u001b[1;31mKeyboardInterrupt\u001b[0m                         Traceback (most recent call last)",
      "\u001b[1;32m<ipython-input-104-cf590d8aedac>\u001b[0m in \u001b[0;36m<module>\u001b[1;34m\u001b[0m\n\u001b[1;32m----> 1\u001b[1;33m \u001b[0mufo\u001b[0m \u001b[1;33m=\u001b[0m \u001b[0mpd\u001b[0m\u001b[1;33m.\u001b[0m\u001b[0mread_csv\u001b[0m\u001b[1;33m(\u001b[0m\u001b[1;34m\"http://bit.ly/uforeports\"\u001b[0m\u001b[1;33m)\u001b[0m\u001b[1;33m\u001b[0m\u001b[1;33m\u001b[0m\u001b[0m\n\u001b[0m",
      "\u001b[1;32m~\\anaconda3\\lib\\site-packages\\pandas\\io\\parsers.py\u001b[0m in \u001b[0;36mparser_f\u001b[1;34m(filepath_or_buffer, sep, delimiter, header, names, index_col, usecols, squeeze, prefix, mangle_dupe_cols, dtype, engine, converters, true_values, false_values, skipinitialspace, skiprows, skipfooter, nrows, na_values, keep_default_na, na_filter, verbose, skip_blank_lines, parse_dates, infer_datetime_format, keep_date_col, date_parser, dayfirst, cache_dates, iterator, chunksize, compression, thousands, decimal, lineterminator, quotechar, quoting, doublequote, escapechar, comment, encoding, dialect, error_bad_lines, warn_bad_lines, delim_whitespace, low_memory, memory_map, float_precision)\u001b[0m\n\u001b[0;32m    674\u001b[0m         )\n\u001b[0;32m    675\u001b[0m \u001b[1;33m\u001b[0m\u001b[0m\n\u001b[1;32m--> 676\u001b[1;33m         \u001b[1;32mreturn\u001b[0m \u001b[0m_read\u001b[0m\u001b[1;33m(\u001b[0m\u001b[0mfilepath_or_buffer\u001b[0m\u001b[1;33m,\u001b[0m \u001b[0mkwds\u001b[0m\u001b[1;33m)\u001b[0m\u001b[1;33m\u001b[0m\u001b[1;33m\u001b[0m\u001b[0m\n\u001b[0m\u001b[0;32m    677\u001b[0m \u001b[1;33m\u001b[0m\u001b[0m\n\u001b[0;32m    678\u001b[0m     \u001b[0mparser_f\u001b[0m\u001b[1;33m.\u001b[0m\u001b[0m__name__\u001b[0m \u001b[1;33m=\u001b[0m \u001b[0mname\u001b[0m\u001b[1;33m\u001b[0m\u001b[1;33m\u001b[0m\u001b[0m\n",
      "\u001b[1;32m~\\anaconda3\\lib\\site-packages\\pandas\\io\\parsers.py\u001b[0m in \u001b[0;36m_read\u001b[1;34m(filepath_or_buffer, kwds)\u001b[0m\n\u001b[0;32m    428\u001b[0m     \u001b[1;31m# though mypy handling of conditional imports is difficult.\u001b[0m\u001b[1;33m\u001b[0m\u001b[1;33m\u001b[0m\u001b[1;33m\u001b[0m\u001b[0m\n\u001b[0;32m    429\u001b[0m     \u001b[1;31m# See https://github.com/python/mypy/issues/1297\u001b[0m\u001b[1;33m\u001b[0m\u001b[1;33m\u001b[0m\u001b[1;33m\u001b[0m\u001b[0m\n\u001b[1;32m--> 430\u001b[1;33m     fp_or_buf, _, compression, should_close = get_filepath_or_buffer(\n\u001b[0m\u001b[0;32m    431\u001b[0m         \u001b[0mfilepath_or_buffer\u001b[0m\u001b[1;33m,\u001b[0m \u001b[0mencoding\u001b[0m\u001b[1;33m,\u001b[0m \u001b[0mcompression\u001b[0m\u001b[1;33m\u001b[0m\u001b[1;33m\u001b[0m\u001b[0m\n\u001b[0;32m    432\u001b[0m     )\n",
      "\u001b[1;32m~\\anaconda3\\lib\\site-packages\\pandas\\io\\common.py\u001b[0m in \u001b[0;36mget_filepath_or_buffer\u001b[1;34m(filepath_or_buffer, encoding, compression, mode)\u001b[0m\n\u001b[0;32m    170\u001b[0m \u001b[1;33m\u001b[0m\u001b[0m\n\u001b[0;32m    171\u001b[0m     \u001b[1;32mif\u001b[0m \u001b[0misinstance\u001b[0m\u001b[1;33m(\u001b[0m\u001b[0mfilepath_or_buffer\u001b[0m\u001b[1;33m,\u001b[0m \u001b[0mstr\u001b[0m\u001b[1;33m)\u001b[0m \u001b[1;32mand\u001b[0m \u001b[0mis_url\u001b[0m\u001b[1;33m(\u001b[0m\u001b[0mfilepath_or_buffer\u001b[0m\u001b[1;33m)\u001b[0m\u001b[1;33m:\u001b[0m\u001b[1;33m\u001b[0m\u001b[1;33m\u001b[0m\u001b[0m\n\u001b[1;32m--> 172\u001b[1;33m         \u001b[0mreq\u001b[0m \u001b[1;33m=\u001b[0m \u001b[0murlopen\u001b[0m\u001b[1;33m(\u001b[0m\u001b[0mfilepath_or_buffer\u001b[0m\u001b[1;33m)\u001b[0m\u001b[1;33m\u001b[0m\u001b[1;33m\u001b[0m\u001b[0m\n\u001b[0m\u001b[0;32m    173\u001b[0m         \u001b[0mcontent_encoding\u001b[0m \u001b[1;33m=\u001b[0m \u001b[0mreq\u001b[0m\u001b[1;33m.\u001b[0m\u001b[0mheaders\u001b[0m\u001b[1;33m.\u001b[0m\u001b[0mget\u001b[0m\u001b[1;33m(\u001b[0m\u001b[1;34m\"Content-Encoding\"\u001b[0m\u001b[1;33m,\u001b[0m \u001b[1;32mNone\u001b[0m\u001b[1;33m)\u001b[0m\u001b[1;33m\u001b[0m\u001b[1;33m\u001b[0m\u001b[0m\n\u001b[0;32m    174\u001b[0m         \u001b[1;32mif\u001b[0m \u001b[0mcontent_encoding\u001b[0m \u001b[1;33m==\u001b[0m \u001b[1;34m\"gzip\"\u001b[0m\u001b[1;33m:\u001b[0m\u001b[1;33m\u001b[0m\u001b[1;33m\u001b[0m\u001b[0m\n",
      "\u001b[1;32m~\\anaconda3\\lib\\site-packages\\pandas\\io\\common.py\u001b[0m in \u001b[0;36murlopen\u001b[1;34m(*args, **kwargs)\u001b[0m\n\u001b[0;32m    139\u001b[0m     \u001b[1;32mimport\u001b[0m \u001b[0murllib\u001b[0m\u001b[1;33m.\u001b[0m\u001b[0mrequest\u001b[0m\u001b[1;33m\u001b[0m\u001b[1;33m\u001b[0m\u001b[0m\n\u001b[0;32m    140\u001b[0m \u001b[1;33m\u001b[0m\u001b[0m\n\u001b[1;32m--> 141\u001b[1;33m     \u001b[1;32mreturn\u001b[0m \u001b[0murllib\u001b[0m\u001b[1;33m.\u001b[0m\u001b[0mrequest\u001b[0m\u001b[1;33m.\u001b[0m\u001b[0murlopen\u001b[0m\u001b[1;33m(\u001b[0m\u001b[1;33m*\u001b[0m\u001b[0margs\u001b[0m\u001b[1;33m,\u001b[0m \u001b[1;33m**\u001b[0m\u001b[0mkwargs\u001b[0m\u001b[1;33m)\u001b[0m\u001b[1;33m\u001b[0m\u001b[1;33m\u001b[0m\u001b[0m\n\u001b[0m\u001b[0;32m    142\u001b[0m \u001b[1;33m\u001b[0m\u001b[0m\n\u001b[0;32m    143\u001b[0m \u001b[1;33m\u001b[0m\u001b[0m\n",
      "\u001b[1;32m~\\anaconda3\\lib\\urllib\\request.py\u001b[0m in \u001b[0;36murlopen\u001b[1;34m(url, data, timeout, cafile, capath, cadefault, context)\u001b[0m\n\u001b[0;32m    220\u001b[0m     \u001b[1;32melse\u001b[0m\u001b[1;33m:\u001b[0m\u001b[1;33m\u001b[0m\u001b[1;33m\u001b[0m\u001b[0m\n\u001b[0;32m    221\u001b[0m         \u001b[0mopener\u001b[0m \u001b[1;33m=\u001b[0m \u001b[0m_opener\u001b[0m\u001b[1;33m\u001b[0m\u001b[1;33m\u001b[0m\u001b[0m\n\u001b[1;32m--> 222\u001b[1;33m     \u001b[1;32mreturn\u001b[0m \u001b[0mopener\u001b[0m\u001b[1;33m.\u001b[0m\u001b[0mopen\u001b[0m\u001b[1;33m(\u001b[0m\u001b[0murl\u001b[0m\u001b[1;33m,\u001b[0m \u001b[0mdata\u001b[0m\u001b[1;33m,\u001b[0m \u001b[0mtimeout\u001b[0m\u001b[1;33m)\u001b[0m\u001b[1;33m\u001b[0m\u001b[1;33m\u001b[0m\u001b[0m\n\u001b[0m\u001b[0;32m    223\u001b[0m \u001b[1;33m\u001b[0m\u001b[0m\n\u001b[0;32m    224\u001b[0m \u001b[1;32mdef\u001b[0m \u001b[0minstall_opener\u001b[0m\u001b[1;33m(\u001b[0m\u001b[0mopener\u001b[0m\u001b[1;33m)\u001b[0m\u001b[1;33m:\u001b[0m\u001b[1;33m\u001b[0m\u001b[1;33m\u001b[0m\u001b[0m\n",
      "\u001b[1;32m~\\anaconda3\\lib\\urllib\\request.py\u001b[0m in \u001b[0;36mopen\u001b[1;34m(self, fullurl, data, timeout)\u001b[0m\n\u001b[0;32m    529\u001b[0m         \u001b[1;32mfor\u001b[0m \u001b[0mprocessor\u001b[0m \u001b[1;32min\u001b[0m \u001b[0mself\u001b[0m\u001b[1;33m.\u001b[0m\u001b[0mprocess_response\u001b[0m\u001b[1;33m.\u001b[0m\u001b[0mget\u001b[0m\u001b[1;33m(\u001b[0m\u001b[0mprotocol\u001b[0m\u001b[1;33m,\u001b[0m \u001b[1;33m[\u001b[0m\u001b[1;33m]\u001b[0m\u001b[1;33m)\u001b[0m\u001b[1;33m:\u001b[0m\u001b[1;33m\u001b[0m\u001b[1;33m\u001b[0m\u001b[0m\n\u001b[0;32m    530\u001b[0m             \u001b[0mmeth\u001b[0m \u001b[1;33m=\u001b[0m \u001b[0mgetattr\u001b[0m\u001b[1;33m(\u001b[0m\u001b[0mprocessor\u001b[0m\u001b[1;33m,\u001b[0m \u001b[0mmeth_name\u001b[0m\u001b[1;33m)\u001b[0m\u001b[1;33m\u001b[0m\u001b[1;33m\u001b[0m\u001b[0m\n\u001b[1;32m--> 531\u001b[1;33m             \u001b[0mresponse\u001b[0m \u001b[1;33m=\u001b[0m \u001b[0mmeth\u001b[0m\u001b[1;33m(\u001b[0m\u001b[0mreq\u001b[0m\u001b[1;33m,\u001b[0m \u001b[0mresponse\u001b[0m\u001b[1;33m)\u001b[0m\u001b[1;33m\u001b[0m\u001b[1;33m\u001b[0m\u001b[0m\n\u001b[0m\u001b[0;32m    532\u001b[0m \u001b[1;33m\u001b[0m\u001b[0m\n\u001b[0;32m    533\u001b[0m         \u001b[1;32mreturn\u001b[0m \u001b[0mresponse\u001b[0m\u001b[1;33m\u001b[0m\u001b[1;33m\u001b[0m\u001b[0m\n",
      "\u001b[1;32m~\\anaconda3\\lib\\urllib\\request.py\u001b[0m in \u001b[0;36mhttp_response\u001b[1;34m(self, request, response)\u001b[0m\n\u001b[0;32m    638\u001b[0m         \u001b[1;31m# request was successfully received, understood, and accepted.\u001b[0m\u001b[1;33m\u001b[0m\u001b[1;33m\u001b[0m\u001b[1;33m\u001b[0m\u001b[0m\n\u001b[0;32m    639\u001b[0m         \u001b[1;32mif\u001b[0m \u001b[1;32mnot\u001b[0m \u001b[1;33m(\u001b[0m\u001b[1;36m200\u001b[0m \u001b[1;33m<=\u001b[0m \u001b[0mcode\u001b[0m \u001b[1;33m<\u001b[0m \u001b[1;36m300\u001b[0m\u001b[1;33m)\u001b[0m\u001b[1;33m:\u001b[0m\u001b[1;33m\u001b[0m\u001b[1;33m\u001b[0m\u001b[0m\n\u001b[1;32m--> 640\u001b[1;33m             response = self.parent.error(\n\u001b[0m\u001b[0;32m    641\u001b[0m                 'http', request, response, code, msg, hdrs)\n\u001b[0;32m    642\u001b[0m \u001b[1;33m\u001b[0m\u001b[0m\n",
      "\u001b[1;32m~\\anaconda3\\lib\\urllib\\request.py\u001b[0m in \u001b[0;36merror\u001b[1;34m(self, proto, *args)\u001b[0m\n\u001b[0;32m    561\u001b[0m             \u001b[0mhttp_err\u001b[0m \u001b[1;33m=\u001b[0m \u001b[1;36m0\u001b[0m\u001b[1;33m\u001b[0m\u001b[1;33m\u001b[0m\u001b[0m\n\u001b[0;32m    562\u001b[0m         \u001b[0margs\u001b[0m \u001b[1;33m=\u001b[0m \u001b[1;33m(\u001b[0m\u001b[0mdict\u001b[0m\u001b[1;33m,\u001b[0m \u001b[0mproto\u001b[0m\u001b[1;33m,\u001b[0m \u001b[0mmeth_name\u001b[0m\u001b[1;33m)\u001b[0m \u001b[1;33m+\u001b[0m \u001b[0margs\u001b[0m\u001b[1;33m\u001b[0m\u001b[1;33m\u001b[0m\u001b[0m\n\u001b[1;32m--> 563\u001b[1;33m         \u001b[0mresult\u001b[0m \u001b[1;33m=\u001b[0m \u001b[0mself\u001b[0m\u001b[1;33m.\u001b[0m\u001b[0m_call_chain\u001b[0m\u001b[1;33m(\u001b[0m\u001b[1;33m*\u001b[0m\u001b[0margs\u001b[0m\u001b[1;33m)\u001b[0m\u001b[1;33m\u001b[0m\u001b[1;33m\u001b[0m\u001b[0m\n\u001b[0m\u001b[0;32m    564\u001b[0m         \u001b[1;32mif\u001b[0m \u001b[0mresult\u001b[0m\u001b[1;33m:\u001b[0m\u001b[1;33m\u001b[0m\u001b[1;33m\u001b[0m\u001b[0m\n\u001b[0;32m    565\u001b[0m             \u001b[1;32mreturn\u001b[0m \u001b[0mresult\u001b[0m\u001b[1;33m\u001b[0m\u001b[1;33m\u001b[0m\u001b[0m\n",
      "\u001b[1;32m~\\anaconda3\\lib\\urllib\\request.py\u001b[0m in \u001b[0;36m_call_chain\u001b[1;34m(self, chain, kind, meth_name, *args)\u001b[0m\n\u001b[0;32m    500\u001b[0m         \u001b[1;32mfor\u001b[0m \u001b[0mhandler\u001b[0m \u001b[1;32min\u001b[0m \u001b[0mhandlers\u001b[0m\u001b[1;33m:\u001b[0m\u001b[1;33m\u001b[0m\u001b[1;33m\u001b[0m\u001b[0m\n\u001b[0;32m    501\u001b[0m             \u001b[0mfunc\u001b[0m \u001b[1;33m=\u001b[0m \u001b[0mgetattr\u001b[0m\u001b[1;33m(\u001b[0m\u001b[0mhandler\u001b[0m\u001b[1;33m,\u001b[0m \u001b[0mmeth_name\u001b[0m\u001b[1;33m)\u001b[0m\u001b[1;33m\u001b[0m\u001b[1;33m\u001b[0m\u001b[0m\n\u001b[1;32m--> 502\u001b[1;33m             \u001b[0mresult\u001b[0m \u001b[1;33m=\u001b[0m \u001b[0mfunc\u001b[0m\u001b[1;33m(\u001b[0m\u001b[1;33m*\u001b[0m\u001b[0margs\u001b[0m\u001b[1;33m)\u001b[0m\u001b[1;33m\u001b[0m\u001b[1;33m\u001b[0m\u001b[0m\n\u001b[0m\u001b[0;32m    503\u001b[0m             \u001b[1;32mif\u001b[0m \u001b[0mresult\u001b[0m \u001b[1;32mis\u001b[0m \u001b[1;32mnot\u001b[0m \u001b[1;32mNone\u001b[0m\u001b[1;33m:\u001b[0m\u001b[1;33m\u001b[0m\u001b[1;33m\u001b[0m\u001b[0m\n\u001b[0;32m    504\u001b[0m                 \u001b[1;32mreturn\u001b[0m \u001b[0mresult\u001b[0m\u001b[1;33m\u001b[0m\u001b[1;33m\u001b[0m\u001b[0m\n",
      "\u001b[1;32m~\\anaconda3\\lib\\urllib\\request.py\u001b[0m in \u001b[0;36mhttp_error_302\u001b[1;34m(self, req, fp, code, msg, headers)\u001b[0m\n\u001b[0;32m    753\u001b[0m         \u001b[0mfp\u001b[0m\u001b[1;33m.\u001b[0m\u001b[0mclose\u001b[0m\u001b[1;33m(\u001b[0m\u001b[1;33m)\u001b[0m\u001b[1;33m\u001b[0m\u001b[1;33m\u001b[0m\u001b[0m\n\u001b[0;32m    754\u001b[0m \u001b[1;33m\u001b[0m\u001b[0m\n\u001b[1;32m--> 755\u001b[1;33m         \u001b[1;32mreturn\u001b[0m \u001b[0mself\u001b[0m\u001b[1;33m.\u001b[0m\u001b[0mparent\u001b[0m\u001b[1;33m.\u001b[0m\u001b[0mopen\u001b[0m\u001b[1;33m(\u001b[0m\u001b[0mnew\u001b[0m\u001b[1;33m,\u001b[0m \u001b[0mtimeout\u001b[0m\u001b[1;33m=\u001b[0m\u001b[0mreq\u001b[0m\u001b[1;33m.\u001b[0m\u001b[0mtimeout\u001b[0m\u001b[1;33m)\u001b[0m\u001b[1;33m\u001b[0m\u001b[1;33m\u001b[0m\u001b[0m\n\u001b[0m\u001b[0;32m    756\u001b[0m \u001b[1;33m\u001b[0m\u001b[0m\n\u001b[0;32m    757\u001b[0m     \u001b[0mhttp_error_301\u001b[0m \u001b[1;33m=\u001b[0m \u001b[0mhttp_error_303\u001b[0m \u001b[1;33m=\u001b[0m \u001b[0mhttp_error_307\u001b[0m \u001b[1;33m=\u001b[0m \u001b[0mhttp_error_302\u001b[0m\u001b[1;33m\u001b[0m\u001b[1;33m\u001b[0m\u001b[0m\n",
      "\u001b[1;32m~\\anaconda3\\lib\\urllib\\request.py\u001b[0m in \u001b[0;36mopen\u001b[1;34m(self, fullurl, data, timeout)\u001b[0m\n\u001b[0;32m    523\u001b[0m \u001b[1;33m\u001b[0m\u001b[0m\n\u001b[0;32m    524\u001b[0m         \u001b[0msys\u001b[0m\u001b[1;33m.\u001b[0m\u001b[0maudit\u001b[0m\u001b[1;33m(\u001b[0m\u001b[1;34m'urllib.Request'\u001b[0m\u001b[1;33m,\u001b[0m \u001b[0mreq\u001b[0m\u001b[1;33m.\u001b[0m\u001b[0mfull_url\u001b[0m\u001b[1;33m,\u001b[0m \u001b[0mreq\u001b[0m\u001b[1;33m.\u001b[0m\u001b[0mdata\u001b[0m\u001b[1;33m,\u001b[0m \u001b[0mreq\u001b[0m\u001b[1;33m.\u001b[0m\u001b[0mheaders\u001b[0m\u001b[1;33m,\u001b[0m \u001b[0mreq\u001b[0m\u001b[1;33m.\u001b[0m\u001b[0mget_method\u001b[0m\u001b[1;33m(\u001b[0m\u001b[1;33m)\u001b[0m\u001b[1;33m)\u001b[0m\u001b[1;33m\u001b[0m\u001b[1;33m\u001b[0m\u001b[0m\n\u001b[1;32m--> 525\u001b[1;33m         \u001b[0mresponse\u001b[0m \u001b[1;33m=\u001b[0m \u001b[0mself\u001b[0m\u001b[1;33m.\u001b[0m\u001b[0m_open\u001b[0m\u001b[1;33m(\u001b[0m\u001b[0mreq\u001b[0m\u001b[1;33m,\u001b[0m \u001b[0mdata\u001b[0m\u001b[1;33m)\u001b[0m\u001b[1;33m\u001b[0m\u001b[1;33m\u001b[0m\u001b[0m\n\u001b[0m\u001b[0;32m    526\u001b[0m \u001b[1;33m\u001b[0m\u001b[0m\n\u001b[0;32m    527\u001b[0m         \u001b[1;31m# post-process response\u001b[0m\u001b[1;33m\u001b[0m\u001b[1;33m\u001b[0m\u001b[1;33m\u001b[0m\u001b[0m\n",
      "\u001b[1;32m~\\anaconda3\\lib\\urllib\\request.py\u001b[0m in \u001b[0;36m_open\u001b[1;34m(self, req, data)\u001b[0m\n\u001b[0;32m    540\u001b[0m \u001b[1;33m\u001b[0m\u001b[0m\n\u001b[0;32m    541\u001b[0m         \u001b[0mprotocol\u001b[0m \u001b[1;33m=\u001b[0m \u001b[0mreq\u001b[0m\u001b[1;33m.\u001b[0m\u001b[0mtype\u001b[0m\u001b[1;33m\u001b[0m\u001b[1;33m\u001b[0m\u001b[0m\n\u001b[1;32m--> 542\u001b[1;33m         result = self._call_chain(self.handle_open, protocol, protocol +\n\u001b[0m\u001b[0;32m    543\u001b[0m                                   '_open', req)\n\u001b[0;32m    544\u001b[0m         \u001b[1;32mif\u001b[0m \u001b[0mresult\u001b[0m\u001b[1;33m:\u001b[0m\u001b[1;33m\u001b[0m\u001b[1;33m\u001b[0m\u001b[0m\n",
      "\u001b[1;32m~\\anaconda3\\lib\\urllib\\request.py\u001b[0m in \u001b[0;36m_call_chain\u001b[1;34m(self, chain, kind, meth_name, *args)\u001b[0m\n\u001b[0;32m    500\u001b[0m         \u001b[1;32mfor\u001b[0m \u001b[0mhandler\u001b[0m \u001b[1;32min\u001b[0m \u001b[0mhandlers\u001b[0m\u001b[1;33m:\u001b[0m\u001b[1;33m\u001b[0m\u001b[1;33m\u001b[0m\u001b[0m\n\u001b[0;32m    501\u001b[0m             \u001b[0mfunc\u001b[0m \u001b[1;33m=\u001b[0m \u001b[0mgetattr\u001b[0m\u001b[1;33m(\u001b[0m\u001b[0mhandler\u001b[0m\u001b[1;33m,\u001b[0m \u001b[0mmeth_name\u001b[0m\u001b[1;33m)\u001b[0m\u001b[1;33m\u001b[0m\u001b[1;33m\u001b[0m\u001b[0m\n\u001b[1;32m--> 502\u001b[1;33m             \u001b[0mresult\u001b[0m \u001b[1;33m=\u001b[0m \u001b[0mfunc\u001b[0m\u001b[1;33m(\u001b[0m\u001b[1;33m*\u001b[0m\u001b[0margs\u001b[0m\u001b[1;33m)\u001b[0m\u001b[1;33m\u001b[0m\u001b[1;33m\u001b[0m\u001b[0m\n\u001b[0m\u001b[0;32m    503\u001b[0m             \u001b[1;32mif\u001b[0m \u001b[0mresult\u001b[0m \u001b[1;32mis\u001b[0m \u001b[1;32mnot\u001b[0m \u001b[1;32mNone\u001b[0m\u001b[1;33m:\u001b[0m\u001b[1;33m\u001b[0m\u001b[1;33m\u001b[0m\u001b[0m\n\u001b[0;32m    504\u001b[0m                 \u001b[1;32mreturn\u001b[0m \u001b[0mresult\u001b[0m\u001b[1;33m\u001b[0m\u001b[1;33m\u001b[0m\u001b[0m\n",
      "\u001b[1;32m~\\anaconda3\\lib\\urllib\\request.py\u001b[0m in \u001b[0;36mhttps_open\u001b[1;34m(self, req)\u001b[0m\n\u001b[0;32m   1391\u001b[0m \u001b[1;33m\u001b[0m\u001b[0m\n\u001b[0;32m   1392\u001b[0m         \u001b[1;32mdef\u001b[0m \u001b[0mhttps_open\u001b[0m\u001b[1;33m(\u001b[0m\u001b[0mself\u001b[0m\u001b[1;33m,\u001b[0m \u001b[0mreq\u001b[0m\u001b[1;33m)\u001b[0m\u001b[1;33m:\u001b[0m\u001b[1;33m\u001b[0m\u001b[1;33m\u001b[0m\u001b[0m\n\u001b[1;32m-> 1393\u001b[1;33m             return self.do_open(http.client.HTTPSConnection, req,\n\u001b[0m\u001b[0;32m   1394\u001b[0m                 context=self._context, check_hostname=self._check_hostname)\n\u001b[0;32m   1395\u001b[0m \u001b[1;33m\u001b[0m\u001b[0m\n",
      "\u001b[1;32m~\\anaconda3\\lib\\urllib\\request.py\u001b[0m in \u001b[0;36mdo_open\u001b[1;34m(self, http_class, req, **http_conn_args)\u001b[0m\n\u001b[0;32m   1348\u001b[0m         \u001b[1;32mtry\u001b[0m\u001b[1;33m:\u001b[0m\u001b[1;33m\u001b[0m\u001b[1;33m\u001b[0m\u001b[0m\n\u001b[0;32m   1349\u001b[0m             \u001b[1;32mtry\u001b[0m\u001b[1;33m:\u001b[0m\u001b[1;33m\u001b[0m\u001b[1;33m\u001b[0m\u001b[0m\n\u001b[1;32m-> 1350\u001b[1;33m                 h.request(req.get_method(), req.selector, req.data, headers,\n\u001b[0m\u001b[0;32m   1351\u001b[0m                           encode_chunked=req.has_header('Transfer-encoding'))\n\u001b[0;32m   1352\u001b[0m             \u001b[1;32mexcept\u001b[0m \u001b[0mOSError\u001b[0m \u001b[1;32mas\u001b[0m \u001b[0merr\u001b[0m\u001b[1;33m:\u001b[0m \u001b[1;31m# timeout error\u001b[0m\u001b[1;33m\u001b[0m\u001b[1;33m\u001b[0m\u001b[0m\n",
      "\u001b[1;32m~\\anaconda3\\lib\\http\\client.py\u001b[0m in \u001b[0;36mrequest\u001b[1;34m(self, method, url, body, headers, encode_chunked)\u001b[0m\n\u001b[0;32m   1238\u001b[0m                 encode_chunked=False):\n\u001b[0;32m   1239\u001b[0m         \u001b[1;34m\"\"\"Send a complete request to the server.\"\"\"\u001b[0m\u001b[1;33m\u001b[0m\u001b[1;33m\u001b[0m\u001b[0m\n\u001b[1;32m-> 1240\u001b[1;33m         \u001b[0mself\u001b[0m\u001b[1;33m.\u001b[0m\u001b[0m_send_request\u001b[0m\u001b[1;33m(\u001b[0m\u001b[0mmethod\u001b[0m\u001b[1;33m,\u001b[0m \u001b[0murl\u001b[0m\u001b[1;33m,\u001b[0m \u001b[0mbody\u001b[0m\u001b[1;33m,\u001b[0m \u001b[0mheaders\u001b[0m\u001b[1;33m,\u001b[0m \u001b[0mencode_chunked\u001b[0m\u001b[1;33m)\u001b[0m\u001b[1;33m\u001b[0m\u001b[1;33m\u001b[0m\u001b[0m\n\u001b[0m\u001b[0;32m   1241\u001b[0m \u001b[1;33m\u001b[0m\u001b[0m\n\u001b[0;32m   1242\u001b[0m     \u001b[1;32mdef\u001b[0m \u001b[0m_send_request\u001b[0m\u001b[1;33m(\u001b[0m\u001b[0mself\u001b[0m\u001b[1;33m,\u001b[0m \u001b[0mmethod\u001b[0m\u001b[1;33m,\u001b[0m \u001b[0murl\u001b[0m\u001b[1;33m,\u001b[0m \u001b[0mbody\u001b[0m\u001b[1;33m,\u001b[0m \u001b[0mheaders\u001b[0m\u001b[1;33m,\u001b[0m \u001b[0mencode_chunked\u001b[0m\u001b[1;33m)\u001b[0m\u001b[1;33m:\u001b[0m\u001b[1;33m\u001b[0m\u001b[1;33m\u001b[0m\u001b[0m\n",
      "\u001b[1;32m~\\anaconda3\\lib\\http\\client.py\u001b[0m in \u001b[0;36m_send_request\u001b[1;34m(self, method, url, body, headers, encode_chunked)\u001b[0m\n\u001b[0;32m   1284\u001b[0m             \u001b[1;31m# default charset of iso-8859-1.\u001b[0m\u001b[1;33m\u001b[0m\u001b[1;33m\u001b[0m\u001b[1;33m\u001b[0m\u001b[0m\n\u001b[0;32m   1285\u001b[0m             \u001b[0mbody\u001b[0m \u001b[1;33m=\u001b[0m \u001b[0m_encode\u001b[0m\u001b[1;33m(\u001b[0m\u001b[0mbody\u001b[0m\u001b[1;33m,\u001b[0m \u001b[1;34m'body'\u001b[0m\u001b[1;33m)\u001b[0m\u001b[1;33m\u001b[0m\u001b[1;33m\u001b[0m\u001b[0m\n\u001b[1;32m-> 1286\u001b[1;33m         \u001b[0mself\u001b[0m\u001b[1;33m.\u001b[0m\u001b[0mendheaders\u001b[0m\u001b[1;33m(\u001b[0m\u001b[0mbody\u001b[0m\u001b[1;33m,\u001b[0m \u001b[0mencode_chunked\u001b[0m\u001b[1;33m=\u001b[0m\u001b[0mencode_chunked\u001b[0m\u001b[1;33m)\u001b[0m\u001b[1;33m\u001b[0m\u001b[1;33m\u001b[0m\u001b[0m\n\u001b[0m\u001b[0;32m   1287\u001b[0m \u001b[1;33m\u001b[0m\u001b[0m\n\u001b[0;32m   1288\u001b[0m     \u001b[1;32mdef\u001b[0m \u001b[0mgetresponse\u001b[0m\u001b[1;33m(\u001b[0m\u001b[0mself\u001b[0m\u001b[1;33m)\u001b[0m\u001b[1;33m:\u001b[0m\u001b[1;33m\u001b[0m\u001b[1;33m\u001b[0m\u001b[0m\n",
      "\u001b[1;32m~\\anaconda3\\lib\\http\\client.py\u001b[0m in \u001b[0;36mendheaders\u001b[1;34m(self, message_body, encode_chunked)\u001b[0m\n\u001b[0;32m   1233\u001b[0m         \u001b[1;32melse\u001b[0m\u001b[1;33m:\u001b[0m\u001b[1;33m\u001b[0m\u001b[1;33m\u001b[0m\u001b[0m\n\u001b[0;32m   1234\u001b[0m             \u001b[1;32mraise\u001b[0m \u001b[0mCannotSendHeader\u001b[0m\u001b[1;33m(\u001b[0m\u001b[1;33m)\u001b[0m\u001b[1;33m\u001b[0m\u001b[1;33m\u001b[0m\u001b[0m\n\u001b[1;32m-> 1235\u001b[1;33m         \u001b[0mself\u001b[0m\u001b[1;33m.\u001b[0m\u001b[0m_send_output\u001b[0m\u001b[1;33m(\u001b[0m\u001b[0mmessage_body\u001b[0m\u001b[1;33m,\u001b[0m \u001b[0mencode_chunked\u001b[0m\u001b[1;33m=\u001b[0m\u001b[0mencode_chunked\u001b[0m\u001b[1;33m)\u001b[0m\u001b[1;33m\u001b[0m\u001b[1;33m\u001b[0m\u001b[0m\n\u001b[0m\u001b[0;32m   1236\u001b[0m \u001b[1;33m\u001b[0m\u001b[0m\n\u001b[0;32m   1237\u001b[0m     def request(self, method, url, body=None, headers={}, *,\n",
      "\u001b[1;32m~\\anaconda3\\lib\\http\\client.py\u001b[0m in \u001b[0;36m_send_output\u001b[1;34m(self, message_body, encode_chunked)\u001b[0m\n\u001b[0;32m   1004\u001b[0m         \u001b[0mmsg\u001b[0m \u001b[1;33m=\u001b[0m \u001b[1;34mb\"\\r\\n\"\u001b[0m\u001b[1;33m.\u001b[0m\u001b[0mjoin\u001b[0m\u001b[1;33m(\u001b[0m\u001b[0mself\u001b[0m\u001b[1;33m.\u001b[0m\u001b[0m_buffer\u001b[0m\u001b[1;33m)\u001b[0m\u001b[1;33m\u001b[0m\u001b[1;33m\u001b[0m\u001b[0m\n\u001b[0;32m   1005\u001b[0m         \u001b[1;32mdel\u001b[0m \u001b[0mself\u001b[0m\u001b[1;33m.\u001b[0m\u001b[0m_buffer\u001b[0m\u001b[1;33m[\u001b[0m\u001b[1;33m:\u001b[0m\u001b[1;33m]\u001b[0m\u001b[1;33m\u001b[0m\u001b[1;33m\u001b[0m\u001b[0m\n\u001b[1;32m-> 1006\u001b[1;33m         \u001b[0mself\u001b[0m\u001b[1;33m.\u001b[0m\u001b[0msend\u001b[0m\u001b[1;33m(\u001b[0m\u001b[0mmsg\u001b[0m\u001b[1;33m)\u001b[0m\u001b[1;33m\u001b[0m\u001b[1;33m\u001b[0m\u001b[0m\n\u001b[0m\u001b[0;32m   1007\u001b[0m \u001b[1;33m\u001b[0m\u001b[0m\n\u001b[0;32m   1008\u001b[0m         \u001b[1;32mif\u001b[0m \u001b[0mmessage_body\u001b[0m \u001b[1;32mis\u001b[0m \u001b[1;32mnot\u001b[0m \u001b[1;32mNone\u001b[0m\u001b[1;33m:\u001b[0m\u001b[1;33m\u001b[0m\u001b[1;33m\u001b[0m\u001b[0m\n",
      "\u001b[1;32m~\\anaconda3\\lib\\http\\client.py\u001b[0m in \u001b[0;36msend\u001b[1;34m(self, data)\u001b[0m\n\u001b[0;32m    944\u001b[0m         \u001b[1;32mif\u001b[0m \u001b[0mself\u001b[0m\u001b[1;33m.\u001b[0m\u001b[0msock\u001b[0m \u001b[1;32mis\u001b[0m \u001b[1;32mNone\u001b[0m\u001b[1;33m:\u001b[0m\u001b[1;33m\u001b[0m\u001b[1;33m\u001b[0m\u001b[0m\n\u001b[0;32m    945\u001b[0m             \u001b[1;32mif\u001b[0m \u001b[0mself\u001b[0m\u001b[1;33m.\u001b[0m\u001b[0mauto_open\u001b[0m\u001b[1;33m:\u001b[0m\u001b[1;33m\u001b[0m\u001b[1;33m\u001b[0m\u001b[0m\n\u001b[1;32m--> 946\u001b[1;33m                 \u001b[0mself\u001b[0m\u001b[1;33m.\u001b[0m\u001b[0mconnect\u001b[0m\u001b[1;33m(\u001b[0m\u001b[1;33m)\u001b[0m\u001b[1;33m\u001b[0m\u001b[1;33m\u001b[0m\u001b[0m\n\u001b[0m\u001b[0;32m    947\u001b[0m             \u001b[1;32melse\u001b[0m\u001b[1;33m:\u001b[0m\u001b[1;33m\u001b[0m\u001b[1;33m\u001b[0m\u001b[0m\n\u001b[0;32m    948\u001b[0m                 \u001b[1;32mraise\u001b[0m \u001b[0mNotConnected\u001b[0m\u001b[1;33m(\u001b[0m\u001b[1;33m)\u001b[0m\u001b[1;33m\u001b[0m\u001b[1;33m\u001b[0m\u001b[0m\n",
      "\u001b[1;32m~\\anaconda3\\lib\\http\\client.py\u001b[0m in \u001b[0;36mconnect\u001b[1;34m(self)\u001b[0m\n\u001b[0;32m   1400\u001b[0m             \u001b[1;34m\"Connect to a host on a given (SSL) port.\"\u001b[0m\u001b[1;33m\u001b[0m\u001b[1;33m\u001b[0m\u001b[0m\n\u001b[0;32m   1401\u001b[0m \u001b[1;33m\u001b[0m\u001b[0m\n\u001b[1;32m-> 1402\u001b[1;33m             \u001b[0msuper\u001b[0m\u001b[1;33m(\u001b[0m\u001b[1;33m)\u001b[0m\u001b[1;33m.\u001b[0m\u001b[0mconnect\u001b[0m\u001b[1;33m(\u001b[0m\u001b[1;33m)\u001b[0m\u001b[1;33m\u001b[0m\u001b[1;33m\u001b[0m\u001b[0m\n\u001b[0m\u001b[0;32m   1403\u001b[0m \u001b[1;33m\u001b[0m\u001b[0m\n\u001b[0;32m   1404\u001b[0m             \u001b[1;32mif\u001b[0m \u001b[0mself\u001b[0m\u001b[1;33m.\u001b[0m\u001b[0m_tunnel_host\u001b[0m\u001b[1;33m:\u001b[0m\u001b[1;33m\u001b[0m\u001b[1;33m\u001b[0m\u001b[0m\n",
      "\u001b[1;32m~\\anaconda3\\lib\\http\\client.py\u001b[0m in \u001b[0;36mconnect\u001b[1;34m(self)\u001b[0m\n\u001b[0;32m    915\u001b[0m     \u001b[1;32mdef\u001b[0m \u001b[0mconnect\u001b[0m\u001b[1;33m(\u001b[0m\u001b[0mself\u001b[0m\u001b[1;33m)\u001b[0m\u001b[1;33m:\u001b[0m\u001b[1;33m\u001b[0m\u001b[1;33m\u001b[0m\u001b[0m\n\u001b[0;32m    916\u001b[0m         \u001b[1;34m\"\"\"Connect to the host and port specified in __init__.\"\"\"\u001b[0m\u001b[1;33m\u001b[0m\u001b[1;33m\u001b[0m\u001b[0m\n\u001b[1;32m--> 917\u001b[1;33m         self.sock = self._create_connection(\n\u001b[0m\u001b[0;32m    918\u001b[0m             (self.host,self.port), self.timeout, self.source_address)\n\u001b[0;32m    919\u001b[0m         \u001b[0mself\u001b[0m\u001b[1;33m.\u001b[0m\u001b[0msock\u001b[0m\u001b[1;33m.\u001b[0m\u001b[0msetsockopt\u001b[0m\u001b[1;33m(\u001b[0m\u001b[0msocket\u001b[0m\u001b[1;33m.\u001b[0m\u001b[0mIPPROTO_TCP\u001b[0m\u001b[1;33m,\u001b[0m \u001b[0msocket\u001b[0m\u001b[1;33m.\u001b[0m\u001b[0mTCP_NODELAY\u001b[0m\u001b[1;33m,\u001b[0m \u001b[1;36m1\u001b[0m\u001b[1;33m)\u001b[0m\u001b[1;33m\u001b[0m\u001b[1;33m\u001b[0m\u001b[0m\n",
      "\u001b[1;32m~\\anaconda3\\lib\\socket.py\u001b[0m in \u001b[0;36mcreate_connection\u001b[1;34m(address, timeout, source_address)\u001b[0m\n\u001b[0;32m    794\u001b[0m             \u001b[1;32mif\u001b[0m \u001b[0msource_address\u001b[0m\u001b[1;33m:\u001b[0m\u001b[1;33m\u001b[0m\u001b[1;33m\u001b[0m\u001b[0m\n\u001b[0;32m    795\u001b[0m                 \u001b[0msock\u001b[0m\u001b[1;33m.\u001b[0m\u001b[0mbind\u001b[0m\u001b[1;33m(\u001b[0m\u001b[0msource_address\u001b[0m\u001b[1;33m)\u001b[0m\u001b[1;33m\u001b[0m\u001b[1;33m\u001b[0m\u001b[0m\n\u001b[1;32m--> 796\u001b[1;33m             \u001b[0msock\u001b[0m\u001b[1;33m.\u001b[0m\u001b[0mconnect\u001b[0m\u001b[1;33m(\u001b[0m\u001b[0msa\u001b[0m\u001b[1;33m)\u001b[0m\u001b[1;33m\u001b[0m\u001b[1;33m\u001b[0m\u001b[0m\n\u001b[0m\u001b[0;32m    797\u001b[0m             \u001b[1;31m# Break explicitly a reference cycle\u001b[0m\u001b[1;33m\u001b[0m\u001b[1;33m\u001b[0m\u001b[1;33m\u001b[0m\u001b[0m\n\u001b[0;32m    798\u001b[0m             \u001b[0merr\u001b[0m \u001b[1;33m=\u001b[0m \u001b[1;32mNone\u001b[0m\u001b[1;33m\u001b[0m\u001b[1;33m\u001b[0m\u001b[0m\n",
      "\u001b[1;31mKeyboardInterrupt\u001b[0m: "
     ]
    }
   ],
   "source": [
    "ufo = pd.read_csv('http://bit.ly/uforeports')"
   ]
  },
  {
   "cell_type": "code",
   "execution_count": null,
   "metadata": {},
   "outputs": [],
   "source": [
    "type(ufo)"
   ]
  },
  {
   "cell_type": "code",
   "execution_count": null,
   "metadata": {},
   "outputs": [],
   "source": [
    "ufo.columns"
   ]
  },
  {
   "cell_type": "code",
   "execution_count": 105,
   "metadata": {
    "collapsed": true
   },
   "outputs": [
    {
     "ename": "NameError",
     "evalue": "name 'ufo' is not defined",
     "output_type": "error",
     "traceback": [
      "\u001b[1;31m---------------------------------------------------------------------------\u001b[0m",
      "\u001b[1;31mNameError\u001b[0m                                 Traceback (most recent call last)",
      "\u001b[1;32m<ipython-input-105-01f8dbdeaf64>\u001b[0m in \u001b[0;36m<module>\u001b[1;34m\u001b[0m\n\u001b[1;32m----> 1\u001b[1;33m \u001b[0mufo\u001b[0m\u001b[1;33m.\u001b[0m\u001b[0mrename\u001b[0m\u001b[1;33m(\u001b[0m\u001b[0mcolumns\u001b[0m\u001b[1;33m=\u001b[0m\u001b[1;33m{\u001b[0m\u001b[1;34m'Colors Reported'\u001b[0m\u001b[1;33m:\u001b[0m\u001b[1;34m'ColorsReported'\u001b[0m\u001b[1;33m,\u001b[0m \u001b[1;34m'Shape Reported'\u001b[0m\u001b[1;33m:\u001b[0m\u001b[1;34m'ShapeReported'\u001b[0m\u001b[1;33m}\u001b[0m\u001b[1;33m,\u001b[0m \u001b[0minplace\u001b[0m\u001b[1;33m=\u001b[0m\u001b[1;32mTrue\u001b[0m\u001b[1;33m)\u001b[0m\u001b[1;33m\u001b[0m\u001b[1;33m\u001b[0m\u001b[0m\n\u001b[0m",
      "\u001b[1;31mNameError\u001b[0m: name 'ufo' is not defined"
     ]
    }
   ],
   "source": [
    "ufo.rename(columns={'Colors Reported':'ColorsReported', 'Shape Reported':'ShapeReported'}, inplace=True)"
   ]
  },
  {
   "cell_type": "code",
   "execution_count": null,
   "metadata": {},
   "outputs": [],
   "source": [
    "ufo.City"
   ]
  },
  {
   "cell_type": "code",
   "execution_count": null,
   "metadata": {},
   "outputs": [],
   "source": [
    "ufo['Location'] = ufo.City+','+ufo.State\n",
    "ufo.head(3)"
   ]
  },
  {
   "cell_type": "code",
   "execution_count": 106,
   "metadata": {
    "collapsed": true
   },
   "outputs": [
    {
     "ename": "NameError",
     "evalue": "name 'ufo' is not defined",
     "output_type": "error",
     "traceback": [
      "\u001b[1;31m---------------------------------------------------------------------------\u001b[0m",
      "\u001b[1;31mNameError\u001b[0m                                 Traceback (most recent call last)",
      "\u001b[1;32m<ipython-input-106-81a3d3e77e0a>\u001b[0m in \u001b[0;36m<module>\u001b[1;34m\u001b[0m\n\u001b[1;32m----> 1\u001b[1;33m \u001b[0mufo\u001b[0m\u001b[1;33m.\u001b[0m\u001b[0mdrop\u001b[0m\u001b[1;33m(\u001b[0m\u001b[1;34m'ColorsReported'\u001b[0m\u001b[1;33m,\u001b[0m \u001b[0maxis\u001b[0m\u001b[1;33m=\u001b[0m\u001b[1;36m1\u001b[0m\u001b[1;33m,\u001b[0m \u001b[0minplace\u001b[0m\u001b[1;33m=\u001b[0m\u001b[1;32mTrue\u001b[0m\u001b[1;33m)\u001b[0m\u001b[1;33m\u001b[0m\u001b[1;33m\u001b[0m\u001b[0m\n\u001b[0m\u001b[0;32m      2\u001b[0m \u001b[0mufo\u001b[0m\u001b[1;33m.\u001b[0m\u001b[0mhead\u001b[0m\u001b[1;33m(\u001b[0m\u001b[1;36m3\u001b[0m\u001b[1;33m)\u001b[0m\u001b[1;33m\u001b[0m\u001b[1;33m\u001b[0m\u001b[0m\n",
      "\u001b[1;31mNameError\u001b[0m: name 'ufo' is not defined"
     ]
    }
   ],
   "source": [
    "ufo.drop('ColorsReported', axis=1, inplace=True)\n",
    "ufo.head(3)"
   ]
  },
  {
   "cell_type": "code",
   "execution_count": null,
   "metadata": {},
   "outputs": [],
   "source": [
    "ufo.drop(['City', 'State'], axis=1, inplace=True)\n",
    "ufo.head(3)"
   ]
  },
  {
   "cell_type": "code",
   "execution_count": null,
   "metadata": {},
   "outputs": [],
   "source": [
    "ufo = pd.read_csv('http://bit.ly/uforeports')\n",
    "ufo.tail(3)"
   ]
  },
  {
   "cell_type": "code",
   "execution_count": null,
   "metadata": {},
   "outputs": [],
   "source": [
    "ufo.isnull().tail()"
   ]
  },
  {
   "cell_type": "code",
   "execution_count": null,
   "metadata": {},
   "outputs": [],
   "source": [
    "ufo.isnull().sum()"
   ]
  },
  {
   "cell_type": "code",
   "execution_count": null,
   "metadata": {},
   "outputs": [],
   "source": [
    "ufo.isnull().count()"
   ]
  },
  {
   "cell_type": "code",
   "execution_count": null,
   "metadata": {},
   "outputs": [],
   "source": [
    "ufo[ufo.City.isnull()].head(3)"
   ]
  },
  {
   "cell_type": "code",
   "execution_count": null,
   "metadata": {},
   "outputs": [],
   "source": [
    "ufo['Shape Reported'].fillna(value='VARIOUS', inplace=True)"
   ]
  },
  {
   "cell_type": "code",
   "execution_count": null,
   "metadata": {},
   "outputs": [],
   "source": [
    "ufo.rename(columns={'Shape Reported':'ShapeReported'}, inplace=True)"
   ]
  },
  {
   "cell_type": "code",
   "execution_count": null,
   "metadata": {},
   "outputs": [],
   "source": [
    "ufo.ShapeReported.value_counts().head()"
   ]
  },
  {
   "cell_type": "markdown",
   "metadata": {},
   "source": [
    "**Beverage Consumption Data**"
   ]
  },
  {
   "cell_type": "code",
   "execution_count": 107,
   "metadata": {},
   "outputs": [],
   "source": [
    "drinks = pd.read_csv('http://bit.ly/drinksbycountry')"
   ]
  },
  {
   "cell_type": "code",
   "execution_count": null,
   "metadata": {},
   "outputs": [],
   "source": [
    "drinks.dtypes"
   ]
  },
  {
   "cell_type": "code",
   "execution_count": null,
   "metadata": {},
   "outputs": [],
   "source": [
    "drinks.mean()"
   ]
  },
  {
   "cell_type": "code",
   "execution_count": null,
   "metadata": {},
   "outputs": [],
   "source": [
    "drinks.describe()"
   ]
  },
  {
   "cell_type": "code",
   "execution_count": null,
   "metadata": {},
   "outputs": [],
   "source": [
    "drinks.describe(include='all')"
   ]
  },
  {
   "cell_type": "code",
   "execution_count": null,
   "metadata": {},
   "outputs": [],
   "source": [
    "drinks[drinks.beer_servings>300]"
   ]
  },
  {
   "cell_type": "code",
   "execution_count": null,
   "metadata": {},
   "outputs": [],
   "source": [
    "drinks.groupby('continent').beer_servings.agg(['count','mean','min','max'])"
   ]
  },
  {
   "cell_type": "code",
   "execution_count": null,
   "metadata": {},
   "outputs": [],
   "source": [
    "drinks[drinks.continent=='North America']"
   ]
  },
  {
   "cell_type": "code",
   "execution_count": null,
   "metadata": {},
   "outputs": [],
   "source": [
    "drinks.groupby('continent').mean()"
   ]
  },
  {
   "cell_type": "code",
   "execution_count": null,
   "metadata": {},
   "outputs": [],
   "source": [
    "drinks.groupby('continent').mean().plot(kind='bar')"
   ]
  },
  {
   "cell_type": "code",
   "execution_count": null,
   "metadata": {},
   "outputs": [],
   "source": [
    "import matplotlib.pyplot as plt\n",
    "%matplotlib inline"
   ]
  },
  {
   "cell_type": "code",
   "execution_count": 108,
   "metadata": {},
   "outputs": [],
   "source": [
    "popminder = pd.read_csv('gapminder.csv')"
   ]
  },
  {
   "cell_type": "code",
   "execution_count": 109,
   "metadata": {
    "collapsed": true
   },
   "outputs": [
    {
     "data": {
      "text/html": [
       "<div>\n",
       "<style scoped>\n",
       "    .dataframe tbody tr th:only-of-type {\n",
       "        vertical-align: middle;\n",
       "    }\n",
       "\n",
       "    .dataframe tbody tr th {\n",
       "        vertical-align: top;\n",
       "    }\n",
       "\n",
       "    .dataframe thead th {\n",
       "        text-align: right;\n",
       "    }\n",
       "</style>\n",
       "<table border=\"1\" class=\"dataframe\">\n",
       "  <thead>\n",
       "    <tr style=\"text-align: right;\">\n",
       "      <th></th>\n",
       "      <th>Unnamed: 0</th>\n",
       "      <th>country</th>\n",
       "      <th>year</th>\n",
       "      <th>population</th>\n",
       "      <th>cont</th>\n",
       "      <th>life_exp</th>\n",
       "      <th>gdp_cap</th>\n",
       "    </tr>\n",
       "  </thead>\n",
       "  <tbody>\n",
       "    <tr>\n",
       "      <th>137</th>\n",
       "      <td>1655</td>\n",
       "      <td>Vietnam</td>\n",
       "      <td>2007</td>\n",
       "      <td>85262356.0</td>\n",
       "      <td>Asia</td>\n",
       "      <td>74.249</td>\n",
       "      <td>2441.576404</td>\n",
       "    </tr>\n",
       "    <tr>\n",
       "      <th>138</th>\n",
       "      <td>1667</td>\n",
       "      <td>West Bank and Gaza</td>\n",
       "      <td>2007</td>\n",
       "      <td>4018332.0</td>\n",
       "      <td>Asia</td>\n",
       "      <td>73.422</td>\n",
       "      <td>3025.349798</td>\n",
       "    </tr>\n",
       "    <tr>\n",
       "      <th>139</th>\n",
       "      <td>1679</td>\n",
       "      <td>Yemen, Rep.</td>\n",
       "      <td>2007</td>\n",
       "      <td>22211743.0</td>\n",
       "      <td>Asia</td>\n",
       "      <td>62.698</td>\n",
       "      <td>2280.769906</td>\n",
       "    </tr>\n",
       "    <tr>\n",
       "      <th>140</th>\n",
       "      <td>1691</td>\n",
       "      <td>Zambia</td>\n",
       "      <td>2007</td>\n",
       "      <td>11746035.0</td>\n",
       "      <td>Africa</td>\n",
       "      <td>42.384</td>\n",
       "      <td>1271.211593</td>\n",
       "    </tr>\n",
       "    <tr>\n",
       "      <th>141</th>\n",
       "      <td>1703</td>\n",
       "      <td>Zimbabwe</td>\n",
       "      <td>2007</td>\n",
       "      <td>12311143.0</td>\n",
       "      <td>Africa</td>\n",
       "      <td>43.487</td>\n",
       "      <td>469.709298</td>\n",
       "    </tr>\n",
       "  </tbody>\n",
       "</table>\n",
       "</div>"
      ],
      "text/plain": [
       "     Unnamed: 0             country  year  population    cont  life_exp  \\\n",
       "137        1655             Vietnam  2007  85262356.0    Asia    74.249   \n",
       "138        1667  West Bank and Gaza  2007   4018332.0    Asia    73.422   \n",
       "139        1679         Yemen, Rep.  2007  22211743.0    Asia    62.698   \n",
       "140        1691              Zambia  2007  11746035.0  Africa    42.384   \n",
       "141        1703            Zimbabwe  2007  12311143.0  Africa    43.487   \n",
       "\n",
       "         gdp_cap  \n",
       "137  2441.576404  \n",
       "138  3025.349798  \n",
       "139  2280.769906  \n",
       "140  1271.211593  \n",
       "141   469.709298  "
      ]
     },
     "execution_count": 109,
     "metadata": {},
     "output_type": "execute_result"
    }
   ],
   "source": [
    "popminder.head(5)\n",
    "popminder.tail(5)"
   ]
  },
  {
   "cell_type": "code",
   "execution_count": 110,
   "metadata": {
    "collapsed": true
   },
   "outputs": [
    {
     "data": {
      "text/plain": [
       "pandas.core.frame.DataFrame"
      ]
     },
     "execution_count": 110,
     "metadata": {},
     "output_type": "execute_result"
    }
   ],
   "source": [
    "type(popminder)"
   ]
  },
  {
   "cell_type": "code",
   "execution_count": 111,
   "metadata": {
    "collapsed": true
   },
   "outputs": [
    {
     "data": {
      "text/plain": [
       "(142, 7)"
      ]
     },
     "execution_count": 111,
     "metadata": {},
     "output_type": "execute_result"
    }
   ],
   "source": [
    "popminder.shape"
   ]
  },
  {
   "cell_type": "code",
   "execution_count": 112,
   "metadata": {
    "collapsed": true
   },
   "outputs": [
    {
     "data": {
      "text/html": [
       "<div>\n",
       "<style scoped>\n",
       "    .dataframe tbody tr th:only-of-type {\n",
       "        vertical-align: middle;\n",
       "    }\n",
       "\n",
       "    .dataframe tbody tr th {\n",
       "        vertical-align: top;\n",
       "    }\n",
       "\n",
       "    .dataframe thead th {\n",
       "        text-align: right;\n",
       "    }\n",
       "</style>\n",
       "<table border=\"1\" class=\"dataframe\">\n",
       "  <thead>\n",
       "    <tr style=\"text-align: right;\">\n",
       "      <th></th>\n",
       "      <th>Unnamed: 0</th>\n",
       "      <th>year</th>\n",
       "      <th>population</th>\n",
       "      <th>life_exp</th>\n",
       "      <th>gdp_cap</th>\n",
       "    </tr>\n",
       "  </thead>\n",
       "  <tbody>\n",
       "    <tr>\n",
       "      <th>count</th>\n",
       "      <td>142.000000</td>\n",
       "      <td>142.0</td>\n",
       "      <td>1.420000e+02</td>\n",
       "      <td>142.000000</td>\n",
       "      <td>142.000000</td>\n",
       "    </tr>\n",
       "    <tr>\n",
       "      <th>mean</th>\n",
       "      <td>857.000000</td>\n",
       "      <td>2007.0</td>\n",
       "      <td>4.402122e+07</td>\n",
       "      <td>67.007423</td>\n",
       "      <td>11680.071820</td>\n",
       "    </tr>\n",
       "    <tr>\n",
       "      <th>std</th>\n",
       "      <td>493.631441</td>\n",
       "      <td>0.0</td>\n",
       "      <td>1.476214e+08</td>\n",
       "      <td>12.073021</td>\n",
       "      <td>12859.937337</td>\n",
       "    </tr>\n",
       "    <tr>\n",
       "      <th>min</th>\n",
       "      <td>11.000000</td>\n",
       "      <td>2007.0</td>\n",
       "      <td>1.995790e+05</td>\n",
       "      <td>39.613000</td>\n",
       "      <td>277.551859</td>\n",
       "    </tr>\n",
       "    <tr>\n",
       "      <th>25%</th>\n",
       "      <td>434.000000</td>\n",
       "      <td>2007.0</td>\n",
       "      <td>4.508034e+06</td>\n",
       "      <td>57.160250</td>\n",
       "      <td>1624.842248</td>\n",
       "    </tr>\n",
       "    <tr>\n",
       "      <th>50%</th>\n",
       "      <td>857.000000</td>\n",
       "      <td>2007.0</td>\n",
       "      <td>1.051753e+07</td>\n",
       "      <td>71.935500</td>\n",
       "      <td>6124.371109</td>\n",
       "    </tr>\n",
       "    <tr>\n",
       "      <th>75%</th>\n",
       "      <td>1280.000000</td>\n",
       "      <td>2007.0</td>\n",
       "      <td>3.121004e+07</td>\n",
       "      <td>76.413250</td>\n",
       "      <td>18008.835640</td>\n",
       "    </tr>\n",
       "    <tr>\n",
       "      <th>max</th>\n",
       "      <td>1703.000000</td>\n",
       "      <td>2007.0</td>\n",
       "      <td>1.318683e+09</td>\n",
       "      <td>82.603000</td>\n",
       "      <td>49357.190170</td>\n",
       "    </tr>\n",
       "  </tbody>\n",
       "</table>\n",
       "</div>"
      ],
      "text/plain": [
       "        Unnamed: 0    year    population    life_exp       gdp_cap\n",
       "count   142.000000   142.0  1.420000e+02  142.000000    142.000000\n",
       "mean    857.000000  2007.0  4.402122e+07   67.007423  11680.071820\n",
       "std     493.631441     0.0  1.476214e+08   12.073021  12859.937337\n",
       "min      11.000000  2007.0  1.995790e+05   39.613000    277.551859\n",
       "25%     434.000000  2007.0  4.508034e+06   57.160250   1624.842248\n",
       "50%     857.000000  2007.0  1.051753e+07   71.935500   6124.371109\n",
       "75%    1280.000000  2007.0  3.121004e+07   76.413250  18008.835640\n",
       "max    1703.000000  2007.0  1.318683e+09   82.603000  49357.190170"
      ]
     },
     "execution_count": 112,
     "metadata": {},
     "output_type": "execute_result"
    }
   ],
   "source": [
    "popminder.describe()"
   ]
  },
  {
   "cell_type": "code",
   "execution_count": 113,
   "metadata": {
    "collapsed": true
   },
   "outputs": [
    {
     "data": {
      "text/plain": [
       "0      False\n",
       "1      False\n",
       "2      False\n",
       "3      False\n",
       "4      False\n",
       "       ...  \n",
       "137    False\n",
       "138    False\n",
       "139    False\n",
       "140    False\n",
       "141    False\n",
       "Name: life_exp, Length: 142, dtype: bool"
      ]
     },
     "execution_count": 113,
     "metadata": {},
     "output_type": "execute_result"
    }
   ],
   "source": [
    "popminder.life_exp >81"
   ]
  },
  {
   "cell_type": "code",
   "execution_count": 114,
   "metadata": {
    "collapsed": true
   },
   "outputs": [
    {
     "data": {
      "text/html": [
       "<div>\n",
       "<style scoped>\n",
       "    .dataframe tbody tr th:only-of-type {\n",
       "        vertical-align: middle;\n",
       "    }\n",
       "\n",
       "    .dataframe tbody tr th {\n",
       "        vertical-align: top;\n",
       "    }\n",
       "\n",
       "    .dataframe thead th {\n",
       "        text-align: right;\n",
       "    }\n",
       "</style>\n",
       "<table border=\"1\" class=\"dataframe\">\n",
       "  <thead>\n",
       "    <tr style=\"text-align: right;\">\n",
       "      <th></th>\n",
       "      <th>Unnamed: 0</th>\n",
       "      <th>country</th>\n",
       "      <th>year</th>\n",
       "      <th>population</th>\n",
       "      <th>cont</th>\n",
       "      <th>life_exp</th>\n",
       "      <th>gdp_cap</th>\n",
       "    </tr>\n",
       "  </thead>\n",
       "  <tbody>\n",
       "    <tr>\n",
       "      <th>5</th>\n",
       "      <td>71</td>\n",
       "      <td>Australia</td>\n",
       "      <td>2007</td>\n",
       "      <td>20434176.0</td>\n",
       "      <td>Oceania</td>\n",
       "      <td>81.235</td>\n",
       "      <td>34435.36744</td>\n",
       "    </tr>\n",
       "    <tr>\n",
       "      <th>55</th>\n",
       "      <td>671</td>\n",
       "      <td>Hong Kong, China</td>\n",
       "      <td>2007</td>\n",
       "      <td>6980412.0</td>\n",
       "      <td>Asia</td>\n",
       "      <td>82.208</td>\n",
       "      <td>39724.97867</td>\n",
       "    </tr>\n",
       "    <tr>\n",
       "      <th>57</th>\n",
       "      <td>695</td>\n",
       "      <td>Iceland</td>\n",
       "      <td>2007</td>\n",
       "      <td>301931.0</td>\n",
       "      <td>Europe</td>\n",
       "      <td>81.757</td>\n",
       "      <td>36180.78919</td>\n",
       "    </tr>\n",
       "    <tr>\n",
       "      <th>66</th>\n",
       "      <td>803</td>\n",
       "      <td>Japan</td>\n",
       "      <td>2007</td>\n",
       "      <td>127467972.0</td>\n",
       "      <td>Asia</td>\n",
       "      <td>82.603</td>\n",
       "      <td>31656.06806</td>\n",
       "    </tr>\n",
       "    <tr>\n",
       "      <th>123</th>\n",
       "      <td>1487</td>\n",
       "      <td>Switzerland</td>\n",
       "      <td>2007</td>\n",
       "      <td>7554661.0</td>\n",
       "      <td>Europe</td>\n",
       "      <td>81.701</td>\n",
       "      <td>37506.41907</td>\n",
       "    </tr>\n",
       "  </tbody>\n",
       "</table>\n",
       "</div>"
      ],
      "text/plain": [
       "     Unnamed: 0           country  year   population     cont  life_exp  \\\n",
       "5            71         Australia  2007   20434176.0  Oceania    81.235   \n",
       "55          671  Hong Kong, China  2007    6980412.0     Asia    82.208   \n",
       "57          695           Iceland  2007     301931.0   Europe    81.757   \n",
       "66          803             Japan  2007  127467972.0     Asia    82.603   \n",
       "123        1487       Switzerland  2007    7554661.0   Europe    81.701   \n",
       "\n",
       "         gdp_cap  \n",
       "5    34435.36744  \n",
       "55   39724.97867  \n",
       "57   36180.78919  \n",
       "66   31656.06806  \n",
       "123  37506.41907  "
      ]
     },
     "execution_count": 114,
     "metadata": {},
     "output_type": "execute_result"
    }
   ],
   "source": [
    "popminder[popminder.life_exp >81]"
   ]
  },
  {
   "cell_type": "code",
   "execution_count": 115,
   "metadata": {
    "collapsed": true
   },
   "outputs": [
    {
     "data": {
      "text/html": [
       "<div>\n",
       "<style scoped>\n",
       "    .dataframe tbody tr th:only-of-type {\n",
       "        vertical-align: middle;\n",
       "    }\n",
       "\n",
       "    .dataframe tbody tr th {\n",
       "        vertical-align: top;\n",
       "    }\n",
       "\n",
       "    .dataframe thead th {\n",
       "        text-align: right;\n",
       "    }\n",
       "</style>\n",
       "<table border=\"1\" class=\"dataframe\">\n",
       "  <thead>\n",
       "    <tr style=\"text-align: right;\">\n",
       "      <th></th>\n",
       "      <th>Unnamed: 0</th>\n",
       "      <th>country</th>\n",
       "      <th>year</th>\n",
       "      <th>population</th>\n",
       "      <th>cont</th>\n",
       "      <th>life_exp</th>\n",
       "      <th>gdp_cap</th>\n",
       "    </tr>\n",
       "  </thead>\n",
       "  <tbody>\n",
       "    <tr>\n",
       "      <th>0</th>\n",
       "      <td>11</td>\n",
       "      <td>Afghanistan</td>\n",
       "      <td>2007</td>\n",
       "      <td>31889923.0</td>\n",
       "      <td>Asia</td>\n",
       "      <td>43.828</td>\n",
       "      <td>974.580338</td>\n",
       "    </tr>\n",
       "    <tr>\n",
       "      <th>3</th>\n",
       "      <td>47</td>\n",
       "      <td>Angola</td>\n",
       "      <td>2007</td>\n",
       "      <td>12420476.0</td>\n",
       "      <td>Africa</td>\n",
       "      <td>42.731</td>\n",
       "      <td>4797.231267</td>\n",
       "    </tr>\n",
       "    <tr>\n",
       "      <th>17</th>\n",
       "      <td>215</td>\n",
       "      <td>Burundi</td>\n",
       "      <td>2007</td>\n",
       "      <td>8390505.0</td>\n",
       "      <td>Africa</td>\n",
       "      <td>49.580</td>\n",
       "      <td>430.070692</td>\n",
       "    </tr>\n",
       "    <tr>\n",
       "      <th>21</th>\n",
       "      <td>263</td>\n",
       "      <td>Central African Republic</td>\n",
       "      <td>2007</td>\n",
       "      <td>4369038.0</td>\n",
       "      <td>Africa</td>\n",
       "      <td>44.741</td>\n",
       "      <td>706.016537</td>\n",
       "    </tr>\n",
       "    <tr>\n",
       "      <th>27</th>\n",
       "      <td>335</td>\n",
       "      <td>Congo, Dem. Rep.</td>\n",
       "      <td>2007</td>\n",
       "      <td>64606759.0</td>\n",
       "      <td>Africa</td>\n",
       "      <td>46.462</td>\n",
       "      <td>277.551859</td>\n",
       "    </tr>\n",
       "    <tr>\n",
       "      <th>30</th>\n",
       "      <td>371</td>\n",
       "      <td>Cote d'Ivoire</td>\n",
       "      <td>2007</td>\n",
       "      <td>18013409.0</td>\n",
       "      <td>Africa</td>\n",
       "      <td>48.328</td>\n",
       "      <td>1544.750112</td>\n",
       "    </tr>\n",
       "    <tr>\n",
       "      <th>52</th>\n",
       "      <td>635</td>\n",
       "      <td>Guinea-Bissau</td>\n",
       "      <td>2007</td>\n",
       "      <td>1472041.0</td>\n",
       "      <td>Africa</td>\n",
       "      <td>46.388</td>\n",
       "      <td>579.231743</td>\n",
       "    </tr>\n",
       "    <tr>\n",
       "      <th>73</th>\n",
       "      <td>887</td>\n",
       "      <td>Lesotho</td>\n",
       "      <td>2007</td>\n",
       "      <td>2012649.0</td>\n",
       "      <td>Africa</td>\n",
       "      <td>42.592</td>\n",
       "      <td>1569.331442</td>\n",
       "    </tr>\n",
       "    <tr>\n",
       "      <th>74</th>\n",
       "      <td>899</td>\n",
       "      <td>Liberia</td>\n",
       "      <td>2007</td>\n",
       "      <td>3193942.0</td>\n",
       "      <td>Africa</td>\n",
       "      <td>45.678</td>\n",
       "      <td>414.507341</td>\n",
       "    </tr>\n",
       "    <tr>\n",
       "      <th>77</th>\n",
       "      <td>935</td>\n",
       "      <td>Malawi</td>\n",
       "      <td>2007</td>\n",
       "      <td>13327079.0</td>\n",
       "      <td>Africa</td>\n",
       "      <td>48.303</td>\n",
       "      <td>759.349910</td>\n",
       "    </tr>\n",
       "    <tr>\n",
       "      <th>86</th>\n",
       "      <td>1043</td>\n",
       "      <td>Mozambique</td>\n",
       "      <td>2007</td>\n",
       "      <td>19951656.0</td>\n",
       "      <td>Africa</td>\n",
       "      <td>42.082</td>\n",
       "      <td>823.685621</td>\n",
       "    </tr>\n",
       "    <tr>\n",
       "      <th>94</th>\n",
       "      <td>1139</td>\n",
       "      <td>Nigeria</td>\n",
       "      <td>2007</td>\n",
       "      <td>135031164.0</td>\n",
       "      <td>Africa</td>\n",
       "      <td>46.859</td>\n",
       "      <td>2013.977305</td>\n",
       "    </tr>\n",
       "    <tr>\n",
       "      <th>107</th>\n",
       "      <td>1295</td>\n",
       "      <td>Rwanda</td>\n",
       "      <td>2007</td>\n",
       "      <td>8860588.0</td>\n",
       "      <td>Africa</td>\n",
       "      <td>46.242</td>\n",
       "      <td>863.088464</td>\n",
       "    </tr>\n",
       "    <tr>\n",
       "      <th>112</th>\n",
       "      <td>1355</td>\n",
       "      <td>Sierra Leone</td>\n",
       "      <td>2007</td>\n",
       "      <td>6144562.0</td>\n",
       "      <td>Africa</td>\n",
       "      <td>42.568</td>\n",
       "      <td>862.540756</td>\n",
       "    </tr>\n",
       "    <tr>\n",
       "      <th>116</th>\n",
       "      <td>1403</td>\n",
       "      <td>Somalia</td>\n",
       "      <td>2007</td>\n",
       "      <td>9118773.0</td>\n",
       "      <td>Africa</td>\n",
       "      <td>48.159</td>\n",
       "      <td>926.141068</td>\n",
       "    </tr>\n",
       "    <tr>\n",
       "      <th>117</th>\n",
       "      <td>1415</td>\n",
       "      <td>South Africa</td>\n",
       "      <td>2007</td>\n",
       "      <td>43997828.0</td>\n",
       "      <td>Africa</td>\n",
       "      <td>49.339</td>\n",
       "      <td>9269.657808</td>\n",
       "    </tr>\n",
       "    <tr>\n",
       "      <th>121</th>\n",
       "      <td>1463</td>\n",
       "      <td>Swaziland</td>\n",
       "      <td>2007</td>\n",
       "      <td>1133066.0</td>\n",
       "      <td>Africa</td>\n",
       "      <td>39.613</td>\n",
       "      <td>4513.480643</td>\n",
       "    </tr>\n",
       "    <tr>\n",
       "      <th>140</th>\n",
       "      <td>1691</td>\n",
       "      <td>Zambia</td>\n",
       "      <td>2007</td>\n",
       "      <td>11746035.0</td>\n",
       "      <td>Africa</td>\n",
       "      <td>42.384</td>\n",
       "      <td>1271.211593</td>\n",
       "    </tr>\n",
       "    <tr>\n",
       "      <th>141</th>\n",
       "      <td>1703</td>\n",
       "      <td>Zimbabwe</td>\n",
       "      <td>2007</td>\n",
       "      <td>12311143.0</td>\n",
       "      <td>Africa</td>\n",
       "      <td>43.487</td>\n",
       "      <td>469.709298</td>\n",
       "    </tr>\n",
       "  </tbody>\n",
       "</table>\n",
       "</div>"
      ],
      "text/plain": [
       "     Unnamed: 0                   country  year   population    cont  \\\n",
       "0            11               Afghanistan  2007   31889923.0    Asia   \n",
       "3            47                    Angola  2007   12420476.0  Africa   \n",
       "17          215                   Burundi  2007    8390505.0  Africa   \n",
       "21          263  Central African Republic  2007    4369038.0  Africa   \n",
       "27          335          Congo, Dem. Rep.  2007   64606759.0  Africa   \n",
       "30          371             Cote d'Ivoire  2007   18013409.0  Africa   \n",
       "52          635             Guinea-Bissau  2007    1472041.0  Africa   \n",
       "73          887                   Lesotho  2007    2012649.0  Africa   \n",
       "74          899                   Liberia  2007    3193942.0  Africa   \n",
       "77          935                    Malawi  2007   13327079.0  Africa   \n",
       "86         1043                Mozambique  2007   19951656.0  Africa   \n",
       "94         1139                   Nigeria  2007  135031164.0  Africa   \n",
       "107        1295                    Rwanda  2007    8860588.0  Africa   \n",
       "112        1355              Sierra Leone  2007    6144562.0  Africa   \n",
       "116        1403                   Somalia  2007    9118773.0  Africa   \n",
       "117        1415              South Africa  2007   43997828.0  Africa   \n",
       "121        1463                 Swaziland  2007    1133066.0  Africa   \n",
       "140        1691                    Zambia  2007   11746035.0  Africa   \n",
       "141        1703                  Zimbabwe  2007   12311143.0  Africa   \n",
       "\n",
       "     life_exp      gdp_cap  \n",
       "0      43.828   974.580338  \n",
       "3      42.731  4797.231267  \n",
       "17     49.580   430.070692  \n",
       "21     44.741   706.016537  \n",
       "27     46.462   277.551859  \n",
       "30     48.328  1544.750112  \n",
       "52     46.388   579.231743  \n",
       "73     42.592  1569.331442  \n",
       "74     45.678   414.507341  \n",
       "77     48.303   759.349910  \n",
       "86     42.082   823.685621  \n",
       "94     46.859  2013.977305  \n",
       "107    46.242   863.088464  \n",
       "112    42.568   862.540756  \n",
       "116    48.159   926.141068  \n",
       "117    49.339  9269.657808  \n",
       "121    39.613  4513.480643  \n",
       "140    42.384  1271.211593  \n",
       "141    43.487   469.709298  "
      ]
     },
     "execution_count": 115,
     "metadata": {},
     "output_type": "execute_result"
    }
   ],
   "source": [
    "popminder[popminder.life_exp <50]"
   ]
  },
  {
   "cell_type": "code",
   "execution_count": 116,
   "metadata": {
    "collapsed": true
   },
   "outputs": [
    {
     "data": {
      "text/plain": [
       "0      False\n",
       "1      False\n",
       "2      False\n",
       "3      False\n",
       "4      False\n",
       "       ...  \n",
       "137    False\n",
       "138    False\n",
       "139    False\n",
       "140    False\n",
       "141    False\n",
       "Name: gdp_cap, Length: 142, dtype: bool"
      ]
     },
     "execution_count": 116,
     "metadata": {},
     "output_type": "execute_result"
    }
   ],
   "source": [
    "popminder.gdp_cap >40000"
   ]
  },
  {
   "cell_type": "code",
   "execution_count": 117,
   "metadata": {
    "collapsed": true
   },
   "outputs": [
    {
     "data": {
      "text/html": [
       "<div>\n",
       "<style scoped>\n",
       "    .dataframe tbody tr th:only-of-type {\n",
       "        vertical-align: middle;\n",
       "    }\n",
       "\n",
       "    .dataframe tbody tr th {\n",
       "        vertical-align: top;\n",
       "    }\n",
       "\n",
       "    .dataframe thead th {\n",
       "        text-align: right;\n",
       "    }\n",
       "</style>\n",
       "<table border=\"1\" class=\"dataframe\">\n",
       "  <thead>\n",
       "    <tr style=\"text-align: right;\">\n",
       "      <th></th>\n",
       "      <th>Unnamed: 0</th>\n",
       "      <th>country</th>\n",
       "      <th>year</th>\n",
       "      <th>population</th>\n",
       "      <th>cont</th>\n",
       "      <th>life_exp</th>\n",
       "      <th>gdp_cap</th>\n",
       "    </tr>\n",
       "  </thead>\n",
       "  <tbody>\n",
       "    <tr>\n",
       "      <th>62</th>\n",
       "      <td>755</td>\n",
       "      <td>Ireland</td>\n",
       "      <td>2007</td>\n",
       "      <td>4109086.0</td>\n",
       "      <td>Europe</td>\n",
       "      <td>78.885</td>\n",
       "      <td>40675.99635</td>\n",
       "    </tr>\n",
       "    <tr>\n",
       "      <th>71</th>\n",
       "      <td>863</td>\n",
       "      <td>Kuwait</td>\n",
       "      <td>2007</td>\n",
       "      <td>2505559.0</td>\n",
       "      <td>Asia</td>\n",
       "      <td>77.588</td>\n",
       "      <td>47306.98978</td>\n",
       "    </tr>\n",
       "    <tr>\n",
       "      <th>95</th>\n",
       "      <td>1151</td>\n",
       "      <td>Norway</td>\n",
       "      <td>2007</td>\n",
       "      <td>4627926.0</td>\n",
       "      <td>Europe</td>\n",
       "      <td>80.196</td>\n",
       "      <td>49357.19017</td>\n",
       "    </tr>\n",
       "    <tr>\n",
       "      <th>113</th>\n",
       "      <td>1367</td>\n",
       "      <td>Singapore</td>\n",
       "      <td>2007</td>\n",
       "      <td>4553009.0</td>\n",
       "      <td>Asia</td>\n",
       "      <td>79.972</td>\n",
       "      <td>47143.17964</td>\n",
       "    </tr>\n",
       "    <tr>\n",
       "      <th>134</th>\n",
       "      <td>1619</td>\n",
       "      <td>United States</td>\n",
       "      <td>2007</td>\n",
       "      <td>301139947.0</td>\n",
       "      <td>Americas</td>\n",
       "      <td>78.242</td>\n",
       "      <td>42951.65309</td>\n",
       "    </tr>\n",
       "  </tbody>\n",
       "</table>\n",
       "</div>"
      ],
      "text/plain": [
       "     Unnamed: 0        country  year   population      cont  life_exp  \\\n",
       "62          755        Ireland  2007    4109086.0    Europe    78.885   \n",
       "71          863         Kuwait  2007    2505559.0      Asia    77.588   \n",
       "95         1151         Norway  2007    4627926.0    Europe    80.196   \n",
       "113        1367      Singapore  2007    4553009.0      Asia    79.972   \n",
       "134        1619  United States  2007  301139947.0  Americas    78.242   \n",
       "\n",
       "         gdp_cap  \n",
       "62   40675.99635  \n",
       "71   47306.98978  \n",
       "95   49357.19017  \n",
       "113  47143.17964  \n",
       "134  42951.65309  "
      ]
     },
     "execution_count": 117,
     "metadata": {},
     "output_type": "execute_result"
    }
   ],
   "source": [
    "popminder[popminder.gdp_cap >40000]"
   ]
  },
  {
   "cell_type": "code",
   "execution_count": 118,
   "metadata": {
    "collapsed": true
   },
   "outputs": [
    {
     "data": {
      "text/html": [
       "<div>\n",
       "<style scoped>\n",
       "    .dataframe tbody tr th:only-of-type {\n",
       "        vertical-align: middle;\n",
       "    }\n",
       "\n",
       "    .dataframe tbody tr th {\n",
       "        vertical-align: top;\n",
       "    }\n",
       "\n",
       "    .dataframe thead th {\n",
       "        text-align: right;\n",
       "    }\n",
       "</style>\n",
       "<table border=\"1\" class=\"dataframe\">\n",
       "  <thead>\n",
       "    <tr style=\"text-align: right;\">\n",
       "      <th></th>\n",
       "      <th>Unnamed: 0</th>\n",
       "      <th>country</th>\n",
       "      <th>year</th>\n",
       "      <th>population</th>\n",
       "      <th>cont</th>\n",
       "      <th>life_exp</th>\n",
       "      <th>gdp_cap</th>\n",
       "    </tr>\n",
       "  </thead>\n",
       "  <tbody>\n",
       "    <tr>\n",
       "      <th>17</th>\n",
       "      <td>215</td>\n",
       "      <td>Burundi</td>\n",
       "      <td>2007</td>\n",
       "      <td>8390505.0</td>\n",
       "      <td>Africa</td>\n",
       "      <td>49.580</td>\n",
       "      <td>430.070692</td>\n",
       "    </tr>\n",
       "    <tr>\n",
       "      <th>27</th>\n",
       "      <td>335</td>\n",
       "      <td>Congo, Dem. Rep.</td>\n",
       "      <td>2007</td>\n",
       "      <td>64606759.0</td>\n",
       "      <td>Africa</td>\n",
       "      <td>46.462</td>\n",
       "      <td>277.551859</td>\n",
       "    </tr>\n",
       "    <tr>\n",
       "      <th>41</th>\n",
       "      <td>503</td>\n",
       "      <td>Eritrea</td>\n",
       "      <td>2007</td>\n",
       "      <td>4906585.0</td>\n",
       "      <td>Africa</td>\n",
       "      <td>58.040</td>\n",
       "      <td>641.369524</td>\n",
       "    </tr>\n",
       "    <tr>\n",
       "      <th>42</th>\n",
       "      <td>515</td>\n",
       "      <td>Ethiopia</td>\n",
       "      <td>2007</td>\n",
       "      <td>76511887.0</td>\n",
       "      <td>Africa</td>\n",
       "      <td>52.947</td>\n",
       "      <td>690.805576</td>\n",
       "    </tr>\n",
       "    <tr>\n",
       "      <th>52</th>\n",
       "      <td>635</td>\n",
       "      <td>Guinea-Bissau</td>\n",
       "      <td>2007</td>\n",
       "      <td>1472041.0</td>\n",
       "      <td>Africa</td>\n",
       "      <td>46.388</td>\n",
       "      <td>579.231743</td>\n",
       "    </tr>\n",
       "    <tr>\n",
       "      <th>74</th>\n",
       "      <td>899</td>\n",
       "      <td>Liberia</td>\n",
       "      <td>2007</td>\n",
       "      <td>3193942.0</td>\n",
       "      <td>Africa</td>\n",
       "      <td>45.678</td>\n",
       "      <td>414.507341</td>\n",
       "    </tr>\n",
       "    <tr>\n",
       "      <th>93</th>\n",
       "      <td>1127</td>\n",
       "      <td>Niger</td>\n",
       "      <td>2007</td>\n",
       "      <td>12894865.0</td>\n",
       "      <td>Africa</td>\n",
       "      <td>56.867</td>\n",
       "      <td>619.676892</td>\n",
       "    </tr>\n",
       "    <tr>\n",
       "      <th>141</th>\n",
       "      <td>1703</td>\n",
       "      <td>Zimbabwe</td>\n",
       "      <td>2007</td>\n",
       "      <td>12311143.0</td>\n",
       "      <td>Africa</td>\n",
       "      <td>43.487</td>\n",
       "      <td>469.709298</td>\n",
       "    </tr>\n",
       "  </tbody>\n",
       "</table>\n",
       "</div>"
      ],
      "text/plain": [
       "     Unnamed: 0           country  year  population    cont  life_exp  \\\n",
       "17          215           Burundi  2007   8390505.0  Africa    49.580   \n",
       "27          335  Congo, Dem. Rep.  2007  64606759.0  Africa    46.462   \n",
       "41          503           Eritrea  2007   4906585.0  Africa    58.040   \n",
       "42          515          Ethiopia  2007  76511887.0  Africa    52.947   \n",
       "52          635     Guinea-Bissau  2007   1472041.0  Africa    46.388   \n",
       "74          899           Liberia  2007   3193942.0  Africa    45.678   \n",
       "93         1127             Niger  2007  12894865.0  Africa    56.867   \n",
       "141        1703          Zimbabwe  2007  12311143.0  Africa    43.487   \n",
       "\n",
       "        gdp_cap  \n",
       "17   430.070692  \n",
       "27   277.551859  \n",
       "41   641.369524  \n",
       "42   690.805576  \n",
       "52   579.231743  \n",
       "74   414.507341  \n",
       "93   619.676892  \n",
       "141  469.709298  "
      ]
     },
     "execution_count": 118,
     "metadata": {},
     "output_type": "execute_result"
    }
   ],
   "source": [
    "popminder[popminder.gdp_cap <700]"
   ]
  },
  {
   "cell_type": "code",
   "execution_count": 119,
   "metadata": {
    "collapsed": true
   },
   "outputs": [
    {
     "data": {
      "text/plain": [
       "cont\n",
       "Africa       3089.032605\n",
       "Americas    11003.031625\n",
       "Asia        12473.026870\n",
       "Europe      25054.481636\n",
       "Oceania     29810.188275\n",
       "Name: gdp_cap, dtype: float64"
      ]
     },
     "execution_count": 119,
     "metadata": {},
     "output_type": "execute_result"
    }
   ],
   "source": [
    "popminder.groupby('cont').gdp_cap.mean()"
   ]
  },
  {
   "cell_type": "code",
   "execution_count": 120,
   "metadata": {
    "collapsed": true
   },
   "outputs": [
    {
     "data": {
      "text/plain": [
       "cont\n",
       "Africa      54.806038\n",
       "Americas    73.608120\n",
       "Asia        70.728485\n",
       "Europe      77.648600\n",
       "Oceania     80.719500\n",
       "Name: life_exp, dtype: float64"
      ]
     },
     "execution_count": 120,
     "metadata": {},
     "output_type": "execute_result"
    }
   ],
   "source": [
    "popminder.groupby('cont').life_exp.mean()"
   ]
  },
  {
   "cell_type": "code",
   "execution_count": 121,
   "metadata": {},
   "outputs": [],
   "source": [
    "GDPcap = list(popminder.gdp_cap)\n",
    "LIFEexp = list(popminder.life_exp)"
   ]
  },
  {
   "cell_type": "code",
   "execution_count": 122,
   "metadata": {
    "collapsed": true
   },
   "outputs": [
    {
     "ename": "NameError",
     "evalue": "name 'plt' is not defined",
     "output_type": "error",
     "traceback": [
      "\u001b[1;31m---------------------------------------------------------------------------\u001b[0m",
      "\u001b[1;31mNameError\u001b[0m                                 Traceback (most recent call last)",
      "\u001b[1;32m<ipython-input-122-348c5102e990>\u001b[0m in \u001b[0;36m<module>\u001b[1;34m\u001b[0m\n\u001b[1;32m----> 1\u001b[1;33m \u001b[0mplt\u001b[0m\u001b[1;33m.\u001b[0m\u001b[0mscatter\u001b[0m\u001b[1;33m(\u001b[0m\u001b[0mx\u001b[0m\u001b[1;33m=\u001b[0m\u001b[0mGDPcap\u001b[0m\u001b[1;33m,\u001b[0m \u001b[0my\u001b[0m\u001b[1;33m=\u001b[0m\u001b[0mLIFEexp\u001b[0m\u001b[1;33m)\u001b[0m\u001b[1;33m\u001b[0m\u001b[1;33m\u001b[0m\u001b[0m\n\u001b[0m\u001b[0;32m      2\u001b[0m \u001b[0mplt\u001b[0m\u001b[1;33m.\u001b[0m\u001b[0mshow\u001b[0m\u001b[1;33m(\u001b[0m\u001b[1;33m)\u001b[0m\u001b[1;33m\u001b[0m\u001b[1;33m\u001b[0m\u001b[0m\n",
      "\u001b[1;31mNameError\u001b[0m: name 'plt' is not defined"
     ]
    }
   ],
   "source": [
    "plt.scatter(x=GDPcap, y=LIFEexp)\n",
    "plt.show()"
   ]
  },
  {
   "cell_type": "code",
   "execution_count": 123,
   "metadata": {
    "collapsed": true
   },
   "outputs": [
    {
     "ename": "NameError",
     "evalue": "name 'plt' is not defined",
     "output_type": "error",
     "traceback": [
      "\u001b[1;31m---------------------------------------------------------------------------\u001b[0m",
      "\u001b[1;31mNameError\u001b[0m                                 Traceback (most recent call last)",
      "\u001b[1;32m<ipython-input-123-c550203a4908>\u001b[0m in \u001b[0;36m<module>\u001b[1;34m\u001b[0m\n\u001b[1;32m----> 1\u001b[1;33m \u001b[0mplt\u001b[0m\u001b[1;33m.\u001b[0m\u001b[0mscatter\u001b[0m\u001b[1;33m(\u001b[0m\u001b[0mx\u001b[0m\u001b[1;33m=\u001b[0m\u001b[0mGDPcap\u001b[0m\u001b[1;33m,\u001b[0m \u001b[0my\u001b[0m\u001b[1;33m=\u001b[0m\u001b[0mLIFEexp\u001b[0m\u001b[1;33m)\u001b[0m\u001b[1;33m\u001b[0m\u001b[1;33m\u001b[0m\u001b[0m\n\u001b[0m\u001b[0;32m      2\u001b[0m \u001b[0mplt\u001b[0m\u001b[1;33m.\u001b[0m\u001b[0mxscale\u001b[0m\u001b[1;33m(\u001b[0m\u001b[1;34m'log'\u001b[0m\u001b[1;33m)\u001b[0m\u001b[1;33m\u001b[0m\u001b[1;33m\u001b[0m\u001b[0m\n\u001b[0;32m      3\u001b[0m \u001b[0mplt\u001b[0m\u001b[1;33m.\u001b[0m\u001b[0mshow\u001b[0m\u001b[1;33m(\u001b[0m\u001b[1;33m)\u001b[0m\u001b[1;33m\u001b[0m\u001b[1;33m\u001b[0m\u001b[0m\n",
      "\u001b[1;31mNameError\u001b[0m: name 'plt' is not defined"
     ]
    }
   ],
   "source": [
    "plt.scatter(x=GDPcap, y=LIFEexp)\n",
    "plt.xscale('log')\n",
    "plt.show()"
   ]
  },
  {
   "cell_type": "code",
   "execution_count": null,
   "metadata": {},
   "outputs": [],
   "source": [
    "# scatter plot\n",
    "plt.scatter(GDPcap, LIFEexp)\n",
    "plt.xscale('log')\n",
    "\n",
    "# add customizations\n",
    "plt.xlabel('GDP per Capita (in USD)')\n",
    "plt.ylabel('Life Expectancy (in years)')\n",
    "plt.title('World Development in 2007')\n",
    "\n",
    "# defintion of ticks values and labels\n",
    "tick_val = [1000, 10000, 100000]\n",
    "tick_lab = ['1k', '10k', '100k']\n",
    "\n",
    "# add ticks to x-axis\n",
    "plt.xticks(tick_val, tick_lab)\n",
    "\n",
    "# display plot\n",
    "plt.show()"
   ]
  },
  {
   "cell_type": "markdown",
   "metadata": {},
   "source": [
    "**Plotting with Pandas & Numpy**"
   ]
  },
  {
   "cell_type": "code",
   "execution_count": 124,
   "metadata": {},
   "outputs": [],
   "source": [
    "pop = list(popminder.population/1000000)\n",
    "nppop = np.array(pop)"
   ]
  },
  {
   "cell_type": "code",
   "execution_count": 125,
   "metadata": {},
   "outputs": [],
   "source": [
    "nppop = nppop*2"
   ]
  },
  {
   "cell_type": "code",
   "execution_count": 126,
   "metadata": {
    "collapsed": true
   },
   "outputs": [
    {
     "ename": "NameError",
     "evalue": "name 'plt' is not defined",
     "output_type": "error",
     "traceback": [
      "\u001b[1;31m---------------------------------------------------------------------------\u001b[0m",
      "\u001b[1;31mNameError\u001b[0m                                 Traceback (most recent call last)",
      "\u001b[1;32m<ipython-input-126-f4665ab738a6>\u001b[0m in \u001b[0;36m<module>\u001b[1;34m\u001b[0m\n\u001b[1;32m----> 1\u001b[1;33m \u001b[0mplt\u001b[0m\u001b[1;33m.\u001b[0m\u001b[0mscatter\u001b[0m\u001b[1;33m(\u001b[0m\u001b[0mGDPcap\u001b[0m\u001b[1;33m,\u001b[0m \u001b[0mLIFEexp\u001b[0m\u001b[1;33m,\u001b[0m \u001b[0ms\u001b[0m\u001b[1;33m=\u001b[0m\u001b[0mnppop\u001b[0m\u001b[1;33m)\u001b[0m\u001b[1;33m\u001b[0m\u001b[1;33m\u001b[0m\u001b[0m\n\u001b[0m\u001b[0;32m      2\u001b[0m \u001b[1;33m\u001b[0m\u001b[0m\n\u001b[0;32m      3\u001b[0m \u001b[0mplt\u001b[0m\u001b[1;33m.\u001b[0m\u001b[0mxscale\u001b[0m\u001b[1;33m(\u001b[0m\u001b[1;34m'log'\u001b[0m\u001b[1;33m)\u001b[0m\u001b[1;33m\u001b[0m\u001b[1;33m\u001b[0m\u001b[0m\n\u001b[0;32m      4\u001b[0m \u001b[0mplt\u001b[0m\u001b[1;33m.\u001b[0m\u001b[0mxlabel\u001b[0m\u001b[1;33m(\u001b[0m\u001b[1;34m'GDP per Capita (in UDS)'\u001b[0m\u001b[1;33m)\u001b[0m\u001b[1;33m\u001b[0m\u001b[1;33m\u001b[0m\u001b[0m\n\u001b[0;32m      5\u001b[0m \u001b[0mplt\u001b[0m\u001b[1;33m.\u001b[0m\u001b[0mylabel\u001b[0m\u001b[1;33m(\u001b[0m\u001b[1;34m'Life Expectancy (in years)'\u001b[0m\u001b[1;33m)\u001b[0m\u001b[1;33m\u001b[0m\u001b[1;33m\u001b[0m\u001b[0m\n",
      "\u001b[1;31mNameError\u001b[0m: name 'plt' is not defined"
     ]
    }
   ],
   "source": [
    "plt.scatter(GDPcap, LIFEexp, s=nppop)\n",
    "\n",
    "plt.xscale('log')\n",
    "plt.xlabel('GDP per Capita (in UDS)')\n",
    "plt.ylabel('Life Expectancy (in years)')\n",
    "plt.title('World Development in 2007')\n",
    "plt.xticks([1000, 10000, 100000], ['1k', '10k', '100k'])\n",
    "\n",
    "plt.show()"
   ]
  },
  {
   "cell_type": "code",
   "execution_count": null,
   "metadata": {},
   "outputs": [],
   "source": [
    "dict = {\n",
    "    'Asia':'red',\n",
    "    'Europe':'green',\n",
    "    'Africa':'yellow',\n",
    "    'Americas':'purple',\n",
    "    'Oceania':'blue'}\n",
    "\n",
    "cont = list(popminder.cont)\n",
    "col = [dict[x] for x in cont]\n",
    "\n",
    "plt.scatter(x=GDPcap, y=LIFEexp, s=np.array(pop)*2, c=col, alpha=.65)\n",
    "\n",
    "plt.xscale('log')\n",
    "plt.xlabel('GDP per Capita (in UDS)')\n",
    "plt.ylabel('Life Expectancy (in years)')\n",
    "plt.title('World Development in 2007')\n",
    "plt.xticks([1000, 10000, 100000], ['1k', '10k', '100k'])\n",
    "\n",
    "plt.show()"
   ]
  },
  {
   "cell_type": "code",
   "execution_count": null,
   "metadata": {},
   "outputs": [],
   "source": [
    "plt.scatter(x=GDPcap, y=LIFEexp, s=np.array(pop)*2, c=col, alpha=.75)\n",
    "\n",
    "plt.xscale('log') \n",
    "plt.xlabel('GDP per Capita [in USD]')\n",
    "plt.ylabel('Life Expectancy [in years]')\n",
    "plt.title('World Development in 2007')\n",
    "plt.xticks([1000,10000,100000], ['$1k','$10k','$100k'])\n",
    "plt.text(1550, 71, 'India')\n",
    "plt.text(4500, 80, 'China')\n",
    "plt.text(42951, 82, 'US')\n",
    "plt.text(15000, 82, 'Japan')\n",
    "\n",
    "plt.grid(True)\n",
    "\n",
    "plt.show()"
   ]
  }
 ],
 "metadata": {
  "kernelspec": {
   "display_name": "Python 3",
   "language": "python",
   "name": "python3"
  },
  "language_info": {
   "codemirror_mode": {
    "name": "ipython",
    "version": 3
   },
   "file_extension": ".py",
   "mimetype": "text/x-python",
   "name": "python",
   "nbconvert_exporter": "python",
   "pygments_lexer": "ipython3",
   "version": "3.8.3"
  }
 },
 "nbformat": 4,
 "nbformat_minor": 4
}
